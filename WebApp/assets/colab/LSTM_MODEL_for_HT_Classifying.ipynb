{
  "nbformat": 4,
  "nbformat_minor": 0,
  "metadata": {
    "colab": {
      "name": "LSTM MODEL for HT_Classifying.ipynb",
      "provenance": [],
      "collapsed_sections": []
    },
    "kernelspec": {
      "name": "python3",
      "display_name": "Python 3"
    }
  },
  "cells": [
    {
      "cell_type": "code",
      "metadata": {
        "id": "poiUReSDo1r6",
        "colab": {
          "base_uri": "https://localhost:8080/"
        },
        "outputId": "db3badbb-eda6-4dc8-c0ba-5025154ce5a7"
      },
      "source": [
        "### This is the Google Colab notebook the neural network was developed in\n",
        "\n",
        "# Install nltk\n",
        "!pip install --user -U nltk"
      ],
      "execution_count": null,
      "outputs": [
        {
          "output_type": "stream",
          "name": "stdout",
          "text": [
            "Requirement already satisfied: nltk in /usr/local/lib/python3.7/dist-packages (3.2.5)\n",
            "Collecting nltk\n",
            "  Downloading nltk-3.7-py3-none-any.whl (1.5 MB)\n",
            "\u001b[K     |████████████████████████████████| 1.5 MB 4.4 MB/s \n",
            "\u001b[?25hRequirement already satisfied: tqdm in /usr/local/lib/python3.7/dist-packages (from nltk) (4.64.0)\n",
            "Collecting regex>=2021.8.3\n",
            "  Downloading regex-2022.4.24-cp37-cp37m-manylinux_2_17_x86_64.manylinux2014_x86_64.whl (749 kB)\n",
            "\u001b[K     |████████████████████████████████| 749 kB 39.6 MB/s \n",
            "\u001b[?25hRequirement already satisfied: click in /usr/local/lib/python3.7/dist-packages (from nltk) (7.1.2)\n",
            "Requirement already satisfied: joblib in /usr/local/lib/python3.7/dist-packages (from nltk) (1.1.0)\n",
            "Installing collected packages: regex, nltk\n",
            "\u001b[33m  WARNING: The script nltk is installed in '/root/.local/bin' which is not on PATH.\n",
            "  Consider adding this directory to PATH or, if you prefer to suppress this warning, use --no-warn-script-location.\u001b[0m\n",
            "Successfully installed nltk-3.7 regex-2022.4.24\n"
          ]
        }
      ]
    },
    {
      "cell_type": "code",
      "source": [
        ""
      ],
      "metadata": {
        "id": "Mf7q72gFSd_X"
      },
      "execution_count": null,
      "outputs": []
    },
    {
      "cell_type": "code",
      "source": [
        "from google.colab import drive\n",
        "drive.mount('/content/gdrive')\n"
      ],
      "metadata": {
        "colab": {
          "base_uri": "https://localhost:8080/"
        },
        "id": "F_aAnl__v1dS",
        "outputId": "3a409935-3740-4a0b-daba-948ce52114e3"
      },
      "execution_count": null,
      "outputs": [
        {
          "output_type": "stream",
          "name": "stdout",
          "text": [
            "Mounted at /content/gdrive\n"
          ]
        }
      ]
    },
    {
      "cell_type": "code",
      "metadata": {
        "id": "vOUgXHY6pAIh",
        "colab": {
          "base_uri": "https://localhost:8080/"
        },
        "outputId": "e2b2e317-9e09-41e1-ae33-cdb57b842dfe"
      },
      "source": [
        "# Import all libraries\n",
        "import matplotlib.pyplot as plt\n",
        "import nltk\n",
        "from nltk.corpus import stopwords\n",
        "from nltk.tokenize import word_tokenize\n",
        "import numpy as np\n",
        "import pandas as pd\n",
        "import pickle\n",
        "import re\n",
        "import seaborn as sns\n",
        "from sklearn import metrics\n",
        "from sklearn.metrics import accuracy_score\n",
        "from sklearn.utils import shuffle\n",
        "import string\n",
        "import tensorflow as tf\n",
        "from tensorflow.keras.preprocessing.sequence import pad_sequences\n",
        "from tensorflow.keras.preprocessing.text import Tokenizer\n",
        "import warnings\n",
        "\n",
        "warnings.filterwarnings('ignore')\n",
        "np.set_printoptions(precision=4)\n",
        "\n",
        "nltk.download('stopwords')\n",
        "nltk.download('punkt')"
      ],
      "execution_count": null,
      "outputs": [
        {
          "output_type": "stream",
          "name": "stdout",
          "text": [
            "[nltk_data] Downloading package stopwords to /root/nltk_data...\n",
            "[nltk_data]   Unzipping corpora/stopwords.zip.\n",
            "[nltk_data] Downloading package punkt to /root/nltk_data...\n",
            "[nltk_data]   Unzipping tokenizers/punkt.zip.\n"
          ]
        },
        {
          "output_type": "execute_result",
          "data": {
            "text/plain": [
              "True"
            ]
          },
          "metadata": {},
          "execution_count": 3
        }
      ]
    },
    {
      "cell_type": "code",
      "metadata": {
        "id": "raKtqeIDpBf0",
        "colab": {
          "base_uri": "https://localhost:8080/",
          "height": 206
        },
        "outputId": "bad040fe-0dbc-41a5-a1c3-5b7a5a7cd508"
      },
      "source": [
        "data =pd.read_csv('/content/gdrive/MyDrive/UpdatedResumeDataSet.csv')\n",
        "\n",
        "data.head()"
      ],
      "execution_count": null,
      "outputs": [
        {
          "output_type": "execute_result",
          "data": {
            "text/plain": [
              "       Category                                             Resume\n",
              "0  Data Science  Skills * Programming Languages: Python (pandas...\n",
              "1  Data Science  Education Details \\r\\nMay 2013 to May 2017 B.E...\n",
              "2  Data Science  Areas of Interest Deep Learning, Control Syste...\n",
              "3  Data Science  Skills â¢ R â¢ Python â¢ SAP HANA â¢ Table...\n",
              "4  Data Science  Education Details \\r\\n MCA   YMCAUST,  Faridab..."
            ],
            "text/html": [
              "\n",
              "  <div id=\"df-a324a5f9-65b2-4df9-9c04-a7bcf3d8fea6\">\n",
              "    <div class=\"colab-df-container\">\n",
              "      <div>\n",
              "<style scoped>\n",
              "    .dataframe tbody tr th:only-of-type {\n",
              "        vertical-align: middle;\n",
              "    }\n",
              "\n",
              "    .dataframe tbody tr th {\n",
              "        vertical-align: top;\n",
              "    }\n",
              "\n",
              "    .dataframe thead th {\n",
              "        text-align: right;\n",
              "    }\n",
              "</style>\n",
              "<table border=\"1\" class=\"dataframe\">\n",
              "  <thead>\n",
              "    <tr style=\"text-align: right;\">\n",
              "      <th></th>\n",
              "      <th>Category</th>\n",
              "      <th>Resume</th>\n",
              "    </tr>\n",
              "  </thead>\n",
              "  <tbody>\n",
              "    <tr>\n",
              "      <th>0</th>\n",
              "      <td>Data Science</td>\n",
              "      <td>Skills * Programming Languages: Python (pandas...</td>\n",
              "    </tr>\n",
              "    <tr>\n",
              "      <th>1</th>\n",
              "      <td>Data Science</td>\n",
              "      <td>Education Details \\r\\nMay 2013 to May 2017 B.E...</td>\n",
              "    </tr>\n",
              "    <tr>\n",
              "      <th>2</th>\n",
              "      <td>Data Science</td>\n",
              "      <td>Areas of Interest Deep Learning, Control Syste...</td>\n",
              "    </tr>\n",
              "    <tr>\n",
              "      <th>3</th>\n",
              "      <td>Data Science</td>\n",
              "      <td>Skills â¢ R â¢ Python â¢ SAP HANA â¢ Table...</td>\n",
              "    </tr>\n",
              "    <tr>\n",
              "      <th>4</th>\n",
              "      <td>Data Science</td>\n",
              "      <td>Education Details \\r\\n MCA   YMCAUST,  Faridab...</td>\n",
              "    </tr>\n",
              "  </tbody>\n",
              "</table>\n",
              "</div>\n",
              "      <button class=\"colab-df-convert\" onclick=\"convertToInteractive('df-a324a5f9-65b2-4df9-9c04-a7bcf3d8fea6')\"\n",
              "              title=\"Convert this dataframe to an interactive table.\"\n",
              "              style=\"display:none;\">\n",
              "        \n",
              "  <svg xmlns=\"http://www.w3.org/2000/svg\" height=\"24px\"viewBox=\"0 0 24 24\"\n",
              "       width=\"24px\">\n",
              "    <path d=\"M0 0h24v24H0V0z\" fill=\"none\"/>\n",
              "    <path d=\"M18.56 5.44l.94 2.06.94-2.06 2.06-.94-2.06-.94-.94-2.06-.94 2.06-2.06.94zm-11 1L8.5 8.5l.94-2.06 2.06-.94-2.06-.94L8.5 2.5l-.94 2.06-2.06.94zm10 10l.94 2.06.94-2.06 2.06-.94-2.06-.94-.94-2.06-.94 2.06-2.06.94z\"/><path d=\"M17.41 7.96l-1.37-1.37c-.4-.4-.92-.59-1.43-.59-.52 0-1.04.2-1.43.59L10.3 9.45l-7.72 7.72c-.78.78-.78 2.05 0 2.83L4 21.41c.39.39.9.59 1.41.59.51 0 1.02-.2 1.41-.59l7.78-7.78 2.81-2.81c.8-.78.8-2.07 0-2.86zM5.41 20L4 18.59l7.72-7.72 1.47 1.35L5.41 20z\"/>\n",
              "  </svg>\n",
              "      </button>\n",
              "      \n",
              "  <style>\n",
              "    .colab-df-container {\n",
              "      display:flex;\n",
              "      flex-wrap:wrap;\n",
              "      gap: 12px;\n",
              "    }\n",
              "\n",
              "    .colab-df-convert {\n",
              "      background-color: #E8F0FE;\n",
              "      border: none;\n",
              "      border-radius: 50%;\n",
              "      cursor: pointer;\n",
              "      display: none;\n",
              "      fill: #1967D2;\n",
              "      height: 32px;\n",
              "      padding: 0 0 0 0;\n",
              "      width: 32px;\n",
              "    }\n",
              "\n",
              "    .colab-df-convert:hover {\n",
              "      background-color: #E2EBFA;\n",
              "      box-shadow: 0px 1px 2px rgba(60, 64, 67, 0.3), 0px 1px 3px 1px rgba(60, 64, 67, 0.15);\n",
              "      fill: #174EA6;\n",
              "    }\n",
              "\n",
              "    [theme=dark] .colab-df-convert {\n",
              "      background-color: #3B4455;\n",
              "      fill: #D2E3FC;\n",
              "    }\n",
              "\n",
              "    [theme=dark] .colab-df-convert:hover {\n",
              "      background-color: #434B5C;\n",
              "      box-shadow: 0px 1px 3px 1px rgba(0, 0, 0, 0.15);\n",
              "      filter: drop-shadow(0px 1px 2px rgba(0, 0, 0, 0.3));\n",
              "      fill: #FFFFFF;\n",
              "    }\n",
              "  </style>\n",
              "\n",
              "      <script>\n",
              "        const buttonEl =\n",
              "          document.querySelector('#df-a324a5f9-65b2-4df9-9c04-a7bcf3d8fea6 button.colab-df-convert');\n",
              "        buttonEl.style.display =\n",
              "          google.colab.kernel.accessAllowed ? 'block' : 'none';\n",
              "\n",
              "        async function convertToInteractive(key) {\n",
              "          const element = document.querySelector('#df-a324a5f9-65b2-4df9-9c04-a7bcf3d8fea6');\n",
              "          const dataTable =\n",
              "            await google.colab.kernel.invokeFunction('convertToInteractive',\n",
              "                                                     [key], {});\n",
              "          if (!dataTable) return;\n",
              "\n",
              "          const docLinkHtml = 'Like what you see? Visit the ' +\n",
              "            '<a target=\"_blank\" href=https://colab.research.google.com/notebooks/data_table.ipynb>data table notebook</a>'\n",
              "            + ' to learn more about interactive tables.';\n",
              "          element.innerHTML = '';\n",
              "          dataTable['output_type'] = 'display_data';\n",
              "          await google.colab.output.renderOutput(dataTable, element);\n",
              "          const docLink = document.createElement('div');\n",
              "          docLink.innerHTML = docLinkHtml;\n",
              "          element.appendChild(docLink);\n",
              "        }\n",
              "      </script>\n",
              "    </div>\n",
              "  </div>\n",
              "  "
            ]
          },
          "metadata": {},
          "execution_count": 4
        }
      ]
    },
    {
      "cell_type": "code",
      "metadata": {
        "id": "lQWr0RJRpIQ9",
        "colab": {
          "base_uri": "https://localhost:8080/"
        },
        "outputId": "0e4958c5-b9bb-468d-a15c-b0a8a933c498"
      },
      "source": [
        "# Print unique categories of resumes\n",
        "print(data['Category'].value_counts())"
      ],
      "execution_count": null,
      "outputs": [
        {
          "output_type": "stream",
          "name": "stdout",
          "text": [
            "Java Developer               84\n",
            "Testing                      70\n",
            "DevOps Engineer              55\n",
            "Python Developer             48\n",
            "Web Designing                45\n",
            "HR                           44\n",
            "Hadoop                       42\n",
            "Blockchain                   40\n",
            "ETL Developer                40\n",
            "Operations Manager           40\n",
            "Data Science                 40\n",
            "Sales                        40\n",
            "Mechanical Engineer          40\n",
            "Arts                         36\n",
            "Database                     33\n",
            "Electrical Engineering       30\n",
            "Health and fitness           30\n",
            "PMO                          30\n",
            "Business Analyst             28\n",
            "DotNet Developer             28\n",
            "Automation Testing           26\n",
            "Network Security Engineer    25\n",
            "SAP Developer                24\n",
            "Civil Engineer               24\n",
            "Advocate                     20\n",
            "Name: Category, dtype: int64\n"
          ]
        }
      ]
    },
    {
      "cell_type": "code",
      "metadata": {
        "id": "4ml2WddhpNEl"
      },
      "source": [
        "# Drop rows where category is \"Testing\" and store new size of dataset\n",
        "data = data[data.Category != 'Testing']\n",
        "data_size = len(data)"
      ],
      "execution_count": null,
      "outputs": []
    },
    {
      "cell_type": "code",
      "metadata": {
        "id": "MgLthsGHpN_6",
        "colab": {
          "base_uri": "https://localhost:8080/",
          "height": 898
        },
        "outputId": "dc9e1524-a9c5-4bce-8d0d-0ddd3b0d884d"
      },
      "source": [
        "# Bar graph visualization\n",
        "plt.figure(figsize=(15,15))\n",
        "plt.xticks(rotation=90)\n",
        "sns.countplot(y=\"Category\", data=data)"
      ],
      "execution_count": null,
      "outputs": [
        {
          "output_type": "execute_result",
          "data": {
            "text/plain": [
              "<matplotlib.axes._subplots.AxesSubplot at 0x7fa9712e6fd0>"
            ]
          },
          "metadata": {},
          "execution_count": 7
        },
        {
          "output_type": "display_data",
          "data": {
            "text/plain": [
              "<Figure size 1080x1080 with 1 Axes>"
            ],
            "image/png": "[encoded data removed]"
          },
          "metadata": {
            "needs_background": "light"
          }
        }
      ]
    },
    {
      "cell_type": "code",
      "metadata": {
        "id": "xHxRTJ_QpS_o"
      },
      "source": [
        "# Get set of stopwords\n",
        "stopwords_set = set(stopwords.words('english')+['``',\"''\"])"
      ],
      "execution_count": null,
      "outputs": []
    },
    {
      "cell_type": "code",
      "metadata": {
        "id": "81wWgOKYpU1-"
      },
      "source": [
        "# Function to clean resume text\n",
        "def clean_text(resume_text):\n",
        "    resume_text = re.sub('http\\S+\\s*', ' ', resume_text)  # remove URLs\n",
        "    resume_text = re.sub('RT|cc', ' ', resume_text)  # remove RT and cc\n",
        "    resume_text = re.sub('#\\S+', '', resume_text)  # remove hashtags\n",
        "    resume_text = re.sub('@\\S+', '  ', resume_text)  # remove mentions\n",
        "    resume_text = re.sub('[%s]' % re.escape(\"\"\"!\"#$%&'()*+,-./:;<=>?@[\\]^_`{|}~\"\"\"), ' ', resume_text)  # remove punctuations\n",
        "    resume_text = re.sub(r'[^\\x00-\\x7f]',r' ', resume_text) \n",
        "    resume_text = re.sub('\\s+', ' ', resume_text)  # remove extra whitespace\n",
        "    resume_text = resume_text.lower()  # convert to lowercase\n",
        "    resume_text_tokens = word_tokenize(resume_text)  # tokenize\n",
        "    filtered_text = [w for w in resume_text_tokens if not w in stopwords_set]  # remove stopwords\n",
        "    return ' '.join(filtered_text)"
      ],
      "execution_count": null,
      "outputs": []
    },
    {
      "cell_type": "code",
      "metadata": {
        "id": "IKol74xcpWfR",
        "colab": {
          "base_uri": "https://localhost:8080/"
        },
        "outputId": "840a629a-1838-4aba-9845-d44a9b2bfec5"
      },
      "source": [
        "# Print a sample original resume\n",
        "print('--- Original resume ---')\n",
        "print(data['Resume'][0])"
      ],
      "execution_count": null,
      "outputs": [
        {
          "output_type": "stream",
          "name": "stdout",
          "text": [
            "--- Original resume ---\n",
            "Skills * Programming Languages: Python (pandas, numpy, scipy, scikit-learn, matplotlib), Sql, Java, JavaScript/JQuery. * Machine learning: Regression, SVM, NaÃ¯ve Bayes, KNN, Random Forest, Decision Trees, Boosting techniques, Cluster Analysis, Word Embedding, Sentiment Analysis, Natural Language processing, Dimensionality reduction, Topic Modelling (LDA, NMF), PCA & Neural Nets. * Database Visualizations: Mysql, SqlServer, Cassandra, Hbase, ElasticSearch D3.js, DC.js, Plotly, kibana, matplotlib, ggplot, Tableau. * Others: Regular Expression, HTML, CSS, Angular 6, Logstash, Kafka, Python Flask, Git, Docker, computer vision - Open CV and understanding of Deep learning.Education Details \r\n",
            "\r\n",
            "Data Science Assurance Associate \r\n",
            "\r\n",
            "Data Science Assurance Associate - Ernst & Young LLP\r\n",
            "Skill Details \r\n",
            "JAVASCRIPT- Exprience - 24 months\r\n",
            "jQuery- Exprience - 24 months\r\n",
            "Python- Exprience - 24 monthsCompany Details \r\n",
            "company - Ernst & Young LLP\r\n",
            "description - Fraud Investigations and Dispute Services   Assurance\r\n",
            "TECHNOLOGY ASSISTED REVIEW\r\n",
            "TAR (Technology Assisted Review) assists in accelerating the review process and run analytics and generate reports.\r\n",
            "* Core member of a team helped in developing automated review platform tool from scratch for assisting E discovery domain, this tool implements predictive coding and topic modelling by automating reviews, resulting in reduced labor costs and time spent during the lawyers review.\r\n",
            "* Understand the end to end flow of the solution, doing research and development for classification models, predictive analysis and mining of the information present in text data. Worked on analyzing the outputs and precision monitoring for the entire tool.\r\n",
            "* TAR assists in predictive coding, topic modelling from the evidence by following EY standards. Developed the classifier models in order to identify \"red flags\" and fraud-related issues.\r\n",
            "\r\n",
            "Tools & Technologies: Python, scikit-learn, tfidf, word2vec, doc2vec, cosine similarity, NaÃ¯ve Bayes, LDA, NMF for topic modelling, Vader and text blob for sentiment analysis. Matplot lib, Tableau dashboard for reporting.\r\n",
            "\r\n",
            "MULTIPLE DATA SCIENCE AND ANALYTIC PROJECTS (USA CLIENTS)\r\n",
            "TEXT ANALYTICS - MOTOR VEHICLE CUSTOMER REVIEW DATA * Received customer feedback survey data for past one year. Performed sentiment (Positive, Negative & Neutral) and time series analysis on customer comments across all 4 categories.\r\n",
            "* Created heat map of terms by survey category based on frequency of words * Extracted Positive and Negative words across all the Survey categories and plotted Word cloud.\r\n",
            "* Created customized tableau dashboards for effective reporting and visualizations.\r\n",
            "CHATBOT * Developed a user friendly chatbot for one of our Products which handle simple questions about hours of operation, reservation options and so on.\r\n",
            "* This chat bot serves entire product related questions. Giving overview of tool via QA platform and also give recommendation responses so that user question to build chain of relevant answer.\r\n",
            "* This too has intelligence to build the pipeline of questions as per user requirement and asks the relevant /recommended questions.\r\n",
            "\r\n",
            "Tools & Technologies: Python, Natural language processing, NLTK, spacy, topic modelling, Sentiment analysis, Word Embedding, scikit-learn, JavaScript/JQuery, SqlServer\r\n",
            "\r\n",
            "INFORMATION GOVERNANCE\r\n",
            "Organizations to make informed decisions about all of the information they store. The integrated Information Governance portfolio synthesizes intelligence across unstructured data sources and facilitates action to ensure organizations are best positioned to counter information risk.\r\n",
            "* Scan data from multiple sources of formats and parse different file formats, extract Meta data information, push results for indexing elastic search and created customized, interactive dashboards using kibana.\r\n",
            "* Preforming ROT Analysis on the data which give information of data which helps identify content that is either Redundant, Outdated, or Trivial.\r\n",
            "* Preforming full-text search analysis on elastic search with predefined methods which can tag as (PII) personally identifiable information (social security numbers, addresses, names, etc.) which frequently targeted during cyber-attacks.\r\n",
            "Tools & Technologies: Python, Flask, Elastic Search, Kibana\r\n",
            "\r\n",
            "FRAUD ANALYTIC PLATFORM\r\n",
            "Fraud Analytics and investigative platform to review all red flag cases.\r\n",
            "â¢ FAP is a Fraud Analytics and investigative platform with inbuilt case manager and suite of Analytics for various ERP systems.\r\n",
            "* It can be used by clients to interrogate their Accounting systems for identifying the anomalies which can be indicators of fraud by running advanced analytics\r\n",
            "Tools & Technologies: HTML, JavaScript, SqlServer, JQuery, CSS, Bootstrap, Node.js, D3.js, DC.js\n"
          ]
        }
      ]
    },
    {
      "cell_type": "code",
      "metadata": {
        "id": "ixmhpVkfpYH8",
        "colab": {
          "base_uri": "https://localhost:8080/"
        },
        "outputId": "5bc77874-4ee7-4611-a83f-2ccbf60ae856"
      },
      "source": [
        "# Print the same resume after text cleaning\n",
        "data['cleaned_resume'] = data.Resume.apply(lambda x: clean_text(x))\n",
        "\n",
        "print('--- Cleaned resume ---')\n",
        "print(data['cleaned_resume'][0])"
      ],
      "execution_count": null,
      "outputs": [
        {
          "output_type": "stream",
          "name": "stdout",
          "text": [
            "--- Cleaned resume ---\n",
            "skills programming languages python pandas numpy scipy scikit learn matplotlib sql java javascript jquery machine learning regression svm na bayes knn random forest decision trees boosting techniques cluster analysis word embedding sentiment analysis natural language processing dimensionality reduction topic modelling lda nmf pca neural nets database visualizations mysql sqlserver cassandra hbase elasticsearch d3 js dc js plotly kibana matplotlib ggplot tableau others regular expression html css angular 6 logstash kafka python flask git docker computer vision open cv understanding deep learning education details data science assurance associate data science assurance associate ernst young llp skill details javascript exprience 24 months jquery exprience 24 months python exprience 24 monthscompany details company ernst young llp description fraud investigations dispute services assurance technology assisted review tar technology assisted review assists elerating review process run analytics generate reports core member team helped developing automated review platform tool scratch assisting e discovery domain tool implements predictive coding topic modelling automating reviews resulting reduced labor costs time spent lawyers review understand end end flow solution research development classification models predictive analysis mining information present text data worked analyzing outputs precision monitoring entire tool tar assists predictive coding topic modelling evidence following ey standards developed classifier models order identify red flags fraud related issues tools technologies python scikit learn tfidf word2vec doc2vec cosine similarity na bayes lda nmf topic modelling vader text blob sentiment analysis matplot lib tableau dashboard reporting multiple data science analytic projects usa clients text analytics motor vehicle customer review data received customer feedback survey data past one year performed sentiment positive negative neutral time series analysis customer comments across 4 categories created heat map terms survey category based frequency words extracted positive negative words across survey categories plotted word cloud created customized tableau dashboards effective reporting visualizations chatbot developed user friendly chatbot one products handle simple questions hours operation reservation options chat bot serves entire product related questions giving overview tool via qa platform also give recommendation responses user question build chain relevant answer intelligence build pipeline questions per user requirement asks relevant recommended questions tools technologies python natural language processing nltk spacy topic modelling sentiment analysis word embedding scikit learn javascript jquery sqlserver information governance organizations make informed decisions information store integrated information governance portfolio synthesizes intelligence across unstructured data sources facilitates action ensure organizations best positioned counter information risk scan data multiple sources formats parse different file formats extract meta data information push results indexing elastic search created customized interactive dashboards using kibana preforming rot analysis data give information data helps identify content either redundant outdated trivial preforming full text search analysis elastic search predefined methods tag pii personally identifiable information social security numbers addresses names etc frequently targeted cyber attacks tools technologies python flask elastic search kibana fraud analytic platform fraud analytics investigative platform review red flag cases fap fraud analytics investigative platform inbuilt case manager suite analytics various erp systems used clients interrogate ounting systems identifying anomalies indicators fraud running advanced analytics tools technologies html javascript sqlserver jquery css bootstrap node js d3 js dc js\n"
          ]
        }
      ]
    },
    {
      "cell_type": "code",
      "metadata": {
        "id": "OcxDvdYoparS",
        "colab": {
          "base_uri": "https://localhost:8080/"
        },
        "outputId": "0b8a221b-b322-4c38-a27b-38795c3c2b49"
      },
      "source": [
        "# Get features and labels from data and shuffle\n",
        "features = data['cleaned_resume'].values\n",
        "original_labels = data['Category'].values\n",
        "labels = original_labels[:]\n",
        "\n",
        "for i in range(data_size):\n",
        "  labels[i] = str(labels[i].lower())  # convert to lowercase\n",
        "  labels[i] = labels[i].replace(\" \", \"\")  # use hyphens to convert multi-token labels into single tokens\n",
        "\n",
        "features, labels = shuffle(features, labels)\n",
        "\n",
        "# Print example feature and label\n",
        "print(features[0])\n",
        "print(labels[0])"
      ],
      "execution_count": null,
      "outputs": [
        {
          "output_type": "stream",
          "name": "stdout",
          "text": [
            "skills agile methodology scrum kanban extreme programming xp test driven development tdd feature driven development fdd domain industrial automation retail banking insurance health care automation framework modular data driven bpt hybrid test automation tool hp uft taf load runner selenium rational robot dcmtk sikuli languages vb script c python shell script bug tracking tool bugzilla jira hp quality control ap test clear quest version management clear case win cvs svn database oracle sql server mysql network protocols tcp ip http https vpn ftp ldap healthcare dicom pacs hl7 image archiving image reconstruction rockwell automation logix designer factory talk rslinx classic control flash compare tool modules profiles education details bachelor science computer science mumbai maharashtra mumbai university qa automation lead qa automation lead skill details c exprience 63 months python exprience 109 months uft exprience 85 months selenium exprience 85 months sql exprience 69 monthscompany details company leading industrial automation description responsibilities test rockwell automation embedded systems logix designer factory talk rslinx classic control flash compare tool modules profiles coordinate onsite offshore qa leads design develop test strategy test plan document test plan test cases base product requirement document functional specification discussed explained requirement qa team work scrum base agile methodology test driven development environment frequent changing requirements lots challenges document published program increment objectives program increment planning report feature epics backlog stories conduct participated program increment planning backlog grooming sprint planning daily stand ups sprint review retrospective perform automation testing tasks design create maintain execute peer review test scripts using test automation framework taf develop execute system integration gui integration test using c interact business analysts software developers bug review participated qa meetings work closely development engineering department ensure proper resolution bugs proactively came innovative methods improve software quality test coverage efficiency regression coverage created maintained testing documents high level requirement test strategy report test plan test cases test execution results bug report quality metrics traceability matrix testing summary reports environment logix designer factory talk rslinx classic controlflash comparetool modules profiles test automation framework taf c python selenium clear case clear quest uft collaborative lifecycle management version one company ge healthcare description responsibilities validated ge ct scanners based fda compliances regulations interacted clinical experts business analysts development architect creation test strategy test plan coordinated offshore qa onsite qa team work design develop test strategies requirement traceability matrix designed created executed manual test cases base product requirement documents increased productivity initiating use automation tools like dicom qtp trained guided ge team automation test creation execution using qtp performed testing types functional integration performance regression provide test reports management involved release support test bed creation testing throughout release process environment agile test driven development tdd dicom hl7 image reconstruction windows linux sql c python qtp html xml qtp vbscripts qc company patni ge healthcare pacs description responsibilities validated ge pacs application tested web application defined administration authentication archiving dicom images involved creation automation framework using hybrid bpt approach responsible creation test bed golden data using dcmtk prepared test scenarios test plan test cases automation scripts integration system end end testing applications designed developed user defined generic functions well versed vb scripting descriptive programming scripting dynamic objects reusable actions defining scenario flows uft qtp reviewed qtp scripts developed team members supported qa sit regression testing team environmental issues interact downstream environment system team clarifications environment agile test driven development tdd ge pacs dicom hl7 image reconstruction image construction windows linux sql c python selenium qtp html xml qtp javascript vbscripts qc company hdfc bank limited description responsibilities reviewed business requirements design documents prepared test cases assigned project releases performed testing types api functional integration system performance regression security network provide test reports management involved integration testing release new functionality testing critical bug fixes co ordinate developer fixing critical bugs involved backend database testing oracle microsoft sql involved release support test bed setup testing throughout release process automation test flow using automated tools qtp 10 environment windows linux sql c python qtp html xml qtp javascript vbscripts qc company vistaar systems limited description responsibilities referred business requirements documents use case documents design documents provided client developer creation manual automation test cases involved analysis design creation execution debugging automation scripts using automation tools like rational robot qtp shell scripting testing critical bug fixes co ordinate developer fixing critical bugs involved installation build maintaining test bed smoke sanitary testing regression testing performance testing database testing using rational robot qtp shell scripting environment windows linux sql rational robot v2002 qtp v 9 2\n",
            "automationtesting\n"
          ]
        }
      ]
    },
    {
      "cell_type": "code",
      "metadata": {
        "id": "ymbM9wkVpe7l",
        "colab": {
          "base_uri": "https://localhost:8080/"
        },
        "outputId": "b4b956f1-9598-4cf9-c54d-935dfb975f8d"
      },
      "source": [
        "# Split for train and test\n",
        "train_split = 0.8\n",
        "train_size = int(train_split * data_size)\n",
        "\n",
        "train_features = features[:train_size]\n",
        "train_labels = labels[:train_size]\n",
        "\n",
        "test_features = features[train_size:]\n",
        "test_labels = labels[train_size:]\n",
        "\n",
        "# Print size of each split\n",
        "print(len(train_labels))\n",
        "print(len(test_labels))"
      ],
      "execution_count": null,
      "outputs": [
        {
          "output_type": "stream",
          "name": "stdout",
          "text": [
            "713\n",
            "179\n"
          ]
        }
      ]
    },
    {
      "cell_type": "code",
      "metadata": {
        "id": "siMQvlJapkmZ",
        "colab": {
          "base_uri": "https://localhost:8080/"
        },
        "outputId": "f95df77c-4b90-49b5-8c7c-17c4090877f1"
      },
      "source": [
        "# Tokenize feature data and print word dictionary\n",
        "vocab_size = 6000\n",
        "oov_tok = '<OOV>'\n",
        "\n",
        "feature_tokenizer = Tokenizer(num_words=vocab_size, oov_token=oov_tok)\n",
        "feature_tokenizer.fit_on_texts(features)\n",
        "\n",
        "feature_index = feature_tokenizer.word_index\n",
        "print(dict(list(feature_index.items())))\n",
        "\n",
        "# Print example sequences from train and test datasets\n",
        "train_feature_sequences = feature_tokenizer.texts_to_sequences(train_features)\n",
        "print(train_feature_sequences[0])\n",
        "\n",
        "test_feature_sequences = feature_tokenizer.texts_to_sequences(test_features)\n",
        "print(test_feature_sequences[0])"
      ],
      "execution_count": null,
      "outputs": [
        {
          "output_type": "stream",
          "name": "stdout",
          "text": [
            "{'<OOV>': 1, 'exprience': 2, 'company': 3, 'project': 4, 'months': 5, 'description': 6, 'details': 7, 'data': 8, '1': 9, 'management': 10, 'team': 11, 'year': 12, '6': 13, 'system': 14, 'maharashtra': 15, 'database': 16, 'development': 17, 'business': 18, 'less': 19, 'sql': 20, 'ltd': 21, 'using': 22, 'developer': 23, 'client': 24, 'java': 25, 'skill': 26, 'testing': 27, 'application': 28, 'pune': 29, 'engineering': 30, 'january': 31, 'services': 32, 'work': 33, 'skills': 34, 'c': 35, 'test': 36, 'software': 37, 'sales': 38, 'responsibilities': 39, 'pvt': 40, 'operations': 41, 'requirements': 42, 'reports': 43, 'education': 44, 'server': 45, 'technical': 46, 'process': 47, 'india': 48, 'customer': 49, 'various': 50, 'design': 51, 'technologies': 52, 'university': 53, 'working': 54, 'python': 55, 'monthscompany': 56, '2': 57, 'environment': 58, 'web': 59, 'like': 60, 'automation': 61, 'college': 62, 'support': 63, 'mysql': 64, 'worked': 65, 'role': 66, 'technology': 67, 'activities': 68, 'time': 69, 'e': 70, 'based': 71, 'used': 72, 'manager': 73, 'training': 74, 'projects': 75, 'issues': 76, 'knowledge': 77, 'mumbai': 78, '4': 79, '3': 80, 'new': 81, 'information': 82, 'different': 83, 'experience': 84, 'engineer': 85, 'computer': 86, 'etc': 87, 'managing': 88, 'per': 89, 'systems': 90, 'network': 91, 'b': 92, 'oracle': 93, 'requirement': 94, 'quality': 95, 'handling': 96, 'end': 97, 'monitoring': 98, 'performance': 99, 'job': 100, 'science': 101, 'windows': 102, 'user': 103, 'involved': 104, 'hadoop': 105, 'users': 106, 'ensure': 107, 'tools': 108, 'analysis': 109, 'maintenance': 110, 'ms': 111, 'maintaining': 112, 'developing': 113, 'completed': 114, 'report': 115, 'service': 116, 'developed': 117, 'servers': 118, '5': 119, 'related': 120, 'sap': 121, 'html': 122, 'customers': 123, 'control': 124, 'security': 125, 'responsible': 126, 'ensuring': 127, 'javascript': 128, 'required': 129, 'jquery': 130, 'creating': 131, '2017': 132, 'linux': 133, 'provide': 134, 'shell': 135, 'etl': 136, '2016': 137, 'clients': 138, 'school': 139, 'office': 140, 'key': 141, 'solutions': 142, 'processes': 143, 'documentation': 144, 'production': 145, 'also': 146, 'net': 147, 'build': 148, 'reporting': 149, 'electrical': 150, 'hive': 151, 'good': 152, 'internal': 153, 'roles': 154, 'level': 155, 'applications': 156, 'product': 157, 'learning': 158, 'queries': 159, 'configuration': 160, 'power': 161, 'scripts': 162, 'operating': 163, 'high': 164, 'machine': 165, '24': 166, 'maintain': 167, 'delivery': 168, '7': 169, 'review': 170, 'communication': 171, 'meetings': 172, 'platform': 173, 'providing': 174, 'daily': 175, 'scripting': 176, 'document': 177, 'website': 178, 'members': 179, 'bank': 180, 'manage': 181, 'su': 182, '2008': 183, 'created': 184, 'documents': 185, 'planning': 186, 'plan': 187, 'well': 188, '2015': 189, '10': 190, 'solution': 191, 'functional': 192, 'timely': 193, 'global': 194, 'understanding': 195, 'designed': 196, 'develop': 197, 'css': 198, 'products': 199, 'multiple': 200, 'administration': 201, 'preparing': 202, 'international': 203, 'june': 204, 'site': 205, 'limited': 206, 'co': 207, '2012': 208, 'order': 209, 'responsibility': 210, 'billing': 211, 'informatica': 212, 'board': 213, 'programming': 214, 'state': 215, 'name': 216, 'databases': 217, 'lead': 218, 'health': 219, '2014': 220, 'unit': 221, 'cases': 222, 'ajax': 223, 'activity': 224, 'languages': 225, 'tool': 226, 'senior': 227, 'framework': 228, 'integration': 229, 'vendor': 230, 'implementation': 231, 'diploma': 232, 'nagpur': 233, 'monitor': 234, 'jobs': 235, 'preparation': 236, 'institute': 237, 'marketing': 238, 'bootstrap': 239, 'create': 240, 'fitness': 241, 'weekly': 242, 'one': 243, 'cisco': 244, 'bachelor': 245, 'implemented': 246, 'unix': 247, 'program': 248, 'performed': 249, 'inventory': 250, 'may': 251, 'mechanical': 252, 'microsoft': 253, 'writing': 254, 'deployment': 255, 'backup': 256, 'within': 257, '2018': 258, 'blockchain': 259, 'cloud': 260, '12': 261, 'devops': 262, 'including': 263, 'identify': 264, 'sla': 265, 'commerce': 266, 'creation': 267, 'script': 268, 'across': 269, 'core': 270, 'analytics': 271, 'risk': 272, 'monthly': 273, 'analyzing': 274, '8': 275, 'payment': 276, 'vendors': 277, 'ability': 278, 'ess': 279, 'online': 280, 'size': 281, 'teams': 282, 'change': 283, 'schedule': 284, 'code': 285, 'complete': 286, 'qa': 287, 'track': 288, 'day': 289, 'tasks': 290, '9': 291, 'understand': 292, 'made': 293, '2010': 294, 'installation': 295, 'type': 296, 'basis': 297, 'plans': 298, 'trust': 299, 'tech': 300, 'designing': 301, 'date': 302, 'honeywell': 303, 'make': 304, 'insurance': 305, 'essfully': 306, 'employee': 307, 'troubleshooting': 308, 'staff': 309, 'studio': 310, 'procedures': 311, 'progress': 312, 'existing': 313, 'group': 314, 'files': 315, 'excel': 316, 'source': 317, 'fat': 318, 'hana': 319, 'perform': 320, 'resource': 321, 'spring': 322, 'title': 323, 'scope': 324, 'monitored': 325, 'sqoop': 326, 'building': 327, 'banking': 328, 'pre': 329, 'civil': 330, 'ges': 331, 'manual': 332, 'schedules': 333, 'provided': 334, 'personal': 335, 'plc': 336, 'financial': 337, 'proposal': 338, 'effective': 339, 'operational': 340, 'purchase': 341, 'tables': 342, '2013': 343, 'center': 344, 'years': 345, 'execution': 346, 'changes': 347, 'distribution': 348, 'hdfs': 349, 'asp': 350, 'mvc': 351, 'status': 352, 'till': 353, 'basic': 354, 'standard': 355, 'flow': 356, 'entire': 357, 'hr': 358, 'tracking': 359, 'stakeholders': 360, 'part': 361, 'tata': 362, 'modules': 363, 'api': 364, 'release': 365, 'erp': 366, 'generate': 367, 'aws': 368, 'arts': 369, 'participated': 370, 'organization': 371, 'corporate': 372, 'processing': 373, 'private': 374, 'implementing': 375, 'git': 376, 'jsp': 377, 'standards': 378, 'cluster': 379, 'com': 380, 'credit': 381, 'cost': 382, 'dr': 383, 'use': 384, 'people': 385, 'duration': 386, 'db': 387, 'gathering': 388, 'handled': 389, 'issue': 390, 'check': 391, 'analyst': 392, 'bo': 393, 'case': 394, 'php': 395, '0': 396, 'html5': 397, 'portal': 398, 'commercial': 399, 'research': 400, 'js': 401, 'korea': 402, 'hibernate': 403, 'set': 404, 'estimation': 405, 'panels': 406, 'warehouse': 407, 'calls': 408, 'leading': 409, 'r': 410, 'ui': 411, 'participate': 412, 'position': 413, 'bugs': 414, 'point': 415, 'enterprise': 416, 'ounts': 417, 'material': 418, 'coordinating': 419, 'days': 420, 'talend': 421, 'attending': 422, 'resolve': 423, 'industrial': 424, 'profile': 425, 'programs': 426, 'photoshop': 427, 'reduce': 428, 'spark': 429, 'done': 430, 'audit': 431, 'h': 432, '2011': 433, 'back': 434, 'graphics': 435, 'infrastructure': 436, 'manufacturing': 437, 'designer': 438, 'best': 439, 'help': 440, 'industry': 441, 'g': 442, 'orders': 443, 'coordinate': 444, 'automated': 445, 'includes': 446, 'prepare': 447, 'target': 448, 'resources': 449, 'contract': 450, 'replication': 451, 'agile': 452, 'department': 453, 'regression': 454, 'secondary': 455, 'text': 456, 'electronics': 457, 'administrator': 458, 'file': 459, 'employees': 460, 'identifying': 461, 'architecture': 462, 'css3': 463, 'freight': 464, 'qtp': 465, 'critical': 466, 'layer': 467, 'visual': 468, 'problem': 469, 'life': 470, 'drawing': 471, 'overall': 472, 'consultancy': 473, 'jenkins': 474, 'developers': 475, 'k': 476, 'mis': 477, 'equipment': 478, 'language': 479, 'strong': 480, 'analyze': 481, 'ethereum': 482, 'stock': 483, 'loan': 484, 'excellent': 485, 'shipments': 486, 'professional': 487, 'english': 488, 'angular': 489, 'targets': 490, 'events': 491, 'xp': 492, 'ssc': 493, 'specifications': 494, 'present': 495, '20': 496, 'hsc': 497, 'meeting': 498, 'compliance': 499, 'along': 500, 'leader': 501, 'area': 502, 'consultant': 503, '48': 504, '15': 505, 'revenue': 506, 'construction': 507, 'given': 508, 'suppliers': 509, 'load': 510, 'multi': 511, 'pmo': 512, 'networking': 513, 'panel': 514, 'interface': 515, 'components': 516, 'managers': 517, 'student': 518, 'requests': 519, 'master': 520, 'uat': 521, 'smooth': 522, 'base': 523, 'line': 524, 'problems': 525, 'admin': 526, 'models': 527, 'comments': 528, 'j2ee': 529, 'external': 530, 'smart': 531, 'engineers': 532, 'field': 533, 'potential': 534, 'solving': 535, 'workshop': 536, '11g': 537, 'mappings': 538, 'wipro': 539, 'shipping': 540, 'version': 541, 'maintained': 542, 'model': 543, 'conducted': 544, 'post': 545, 'dot': 546, 'migration': 547, 'efficiency': 548, 'resolving': 549, 'firewall': 550, 'opportunities': 551, 'nashik': 552, 'strategies': 553, 'uk': 554, 'national': 555, 'side': 556, 'take': 557, 'areas': 558, 'complex': 559, 'apache': 560, 'nendrasys': 561, 'reviews': 562, 'conducting': 563, 'checking': 564, 'getting': 565, 'materials': 566, 'methodology': 567, 'expertise': 568, 'achieve': 569, 'loading': 570, 'media': 571, 'inspection': 572, 'delivered': 573, 'controls': 574, 'hpm': 575, 'supply': 576, 'improve': 577, 'map': 578, 'plant': 579, 'view': 580, 'departments': 581, 'specification': 582, 'servlet': 583, 'july': 584, 'thai': 585, 'british': 586, 'result': 587, 'wrote': 588, 'taking': 589, 'provides': 590, 'continuous': 591, 'ount': 592, 'included': 593, 'm3': 594, 'request': 595, 'log': 596, 'pig': 597, 'follow': 598, 'presentation': 599, 'export': 600, 'troubleshoot': 601, 'devices': 602, 'risks': 603, 'autocad': 604, 'certificate': 605, 'logs': 606, 'offers': 607, 'maven': 608, 'environments': 609, 'usa': 610, '2009': 611, 'json': 612, 'setup': 613, 'decision': 614, 'extract': 615, 'relationship': 616, 'foundation': 617, 'processed': 618, 'deployed': 619, 'budget': 620, 'interaction': 621, 'django': 622, 'shared': 623, 'actively': 624, 'policies': 625, 'investment': 626, 'flat': 627, 'driven': 628, 'learn': 629, 'making': 630, 'world': 631, 'eclipse': 632, 'running': 633, 'august': 634, 'capacity': 635, 'qatar': 636, 'direct': 637, 'keeping': 638, 'onsite': 639, 'functions': 640, 'sessions': 641, 'supporting': 642, 'scheduling': 643, 'course': 644, 'checks': 645, 'results': 646, 'defined': 647, 'regular': 648, 'united': 649, 'us': 650, 'logic': 651, 'pradesh': 652, 'os': 653, 'backups': 654, 'reconciliation': 655, '01': 656, 'www': 657, 'architect': 658, 'leadership': 659, 'crm': 660, 'via': 661, 'cash': 662, 'qc': 663, 'backend': 664, 'hotel': 665, 'drawings': 666, 'dashboard': 667, 'dev': 668, 'hands': 669, 'mongodb': 670, 'higher': 671, 'configuring': 672, 'discuss': 673, 'assistant': 674, 'chain': 675, 'sent': 676, 'achieving': 677, 'operation': 678, 'r2': 679, 'gym': 680, 'records': 681, 'mapreduce': 682, 'selenium': 683, 'generated': 684, 'following': 685, 'ording': 686, 'jan': 687, 'public': 688, 'station': 689, 'enquiries': 690, 'bny': 691, 'mellon': 692, 'wiring': 693, 'leads': 694, 'types': 695, 'sr': 696, 'sources': 697, 'techniques': 698, 'essful': 699, 'front': 700, 'transaction': 701, 'goal': 702, 'switches': 703, 'detailed': 704, 'appropriate': 705, '11': 706, 'overseeing': 707, 'ge': 708, 'trade': 709, 'transformations': 710, 'word': 711, 'usage': 712, 'categories': 713, 'procurement': 714, 'stake': 715, 'holders': 716, 'marshalling': 717, 'air': 718, 'top': 719, 'prepaid': 720, 'certified': 721, 'government': 722, '2006': 723, 'update': 724, '2000': 725, 'availability': 726, 'deliverables': 727, 'local': 728, 'self': 729, 'bug': 730, 'deep': 731, 'strategic': 732, 'analytical': 733, 'capital': 734, 'real': 735, '2007': 736, 'necessary': 737, 'structure': 738, 'generating': 739, 'views': 740, 'communications': 741, 'executing': 742, 'groups': 743, 'phule': 744, 'polytechnic': 745, 'mapping': 746, 'businesses': 747, 'active': 748, 'cricket': 749, 'cards': 750, 'mahindra': 751, 'relevant': 752, 'modern': 753, 'reviewing': 754, 'helping': 755, 'rest': 756, 'market': 757, 'call': 758, 'integrated': 759, 'logistics': 760, 'hbase': 761, '31': 762, 'features': 763, 'healthcare': 764, 'cycle': 765, 'available': 766, 'executive': 767, 'implement': 768, 'big': 769, 'sub': 770, 'region': 771, 'conduct': 772, 'execute': 773, 'algorithms': 774, 'validate': 775, 'form': 776, '16': 777, 'sure': 778, 'first': 779, 'completion': 780, 'go': 781, 'designation': 782, 'pm': 783, 'mentioned': 784, 'debugging': 785, 'platforms': 786, 'future': 787, 'nov': 788, '72': 789, 'errors': 790, 'raised': 791, 'interacting': 792, 'ad': 793, 'finance': 794, 'jira': 795, 'advance': 796, 'ways': 797, 'router': 798, 'pl': 799, 'amravati': 800, 'movex': 801, '30': 802, 'le': 803, 'managed': 804, 'synopsis': 805, 'relationships': 806, 'branches': 807, 'applying': 808, 'repository': 809, 'ftp': 810, 'levels': 811, 'savitribai': 812, 'towards': 813, 'paper': 814, 'bi': 815, 'upgrade': 816, 'communicating': 817, 'strategy': 818, 'closely': 819, 'costs': 820, 'setting': 821, 'auto': 822, 'ibm': 823, '400': 824, 'firewalls': 825, 'council': 826, 'proper': 827, 'countries': 828, 'routing': 829, 'fine': 830, 'price': 831, 'module': 832, '28': 833, 'music': 834, 'transactions': 835, 'deploy': 836, 'metrics': 837, 'meet': 838, '2005': 839, '36': 840, 'query': 841, 'contribution': 842, 'function': 843, 'filenet': 844, 'safety': 845, 'floor': 846, 'ant': 847, 'bbl': 848, 'webi': 849, 'domain': 850, 'prepared': 851, 'generation': 852, 'tableau': 853, 'organizing': 854, 'get': 855, 'head': 856, 'app': 857, 'correct': 858, 'repositories': 859, 'care': 860, 'resolution': 861, 'governance': 862, 'capabilities': 863, 'currently': 864, 'azure': 865, 'customized': 866, 'hardware': 867, 'packages': 868, 'dell': 869, 'bond': 870, 'sending': 871, 'every': 872, 'scala': 873, 'range': 874, 'page': 875, 'fixing': 876, 'v': 877, 'involves': 878, 'sdlc': 879, 'card': 880, 'free': 881, 'include': 882, 'individual': 883, 'rules': 884, 'aug': 885, 'utilization': 886, 'achieved': 887, 'duties': 888, 'emails': 889, 'throughout': 890, 'intelligence': 891, 'handle': 892, 'transition': 893, 'need': 894, 'assist': 895, 'feedback': 896, 'specific': 897, 'feeds': 898, 'member': 899, 'communicate': 900, 'improvement': 901, 'facility': 902, 'period': 903, 'corporation': 904, 'assurant': 905, 'installing': 906, 'legal': 907, 'negotiating': 908, 'universe': 909, 'bods': 910, 'clinical': 911, 'scenarios': 912, 'updating': 913, 'task': 914, 'postgresql': 915, 'tomcat': 916, 'drives': 917, 'codes': 918, 'capgemini': 919, 'rman': 920, 'transfer': 921, 'tests': 922, 'frame': 923, 'ubuntu': 924, 'efficient': 925, 'p': 926, 'diagrams': 927, 'dashboards': 928, 'quick': 929, 'consulting': 930, 'jdbc': 931, '14': 932, 'powerpoint': 933, 'controller': 934, 'centre': 935, 'dubai': 936, 'possible': 937, 'dcs': 938, 'calculation': 939, 'offshore': 940, 'supported': 941, 'hindi': 942, 'ide': 943, 'tuning': 944, 'companies': 945, 'live': 946, 'regularly': 947, 'store': 948, 'around': 949, 'configured': 950, 'partners': 951, 'clear': 952, 'image': 953, 'reviewed': 954, 'define': 955, 'motor': 956, 'formats': 957, 'internet': 958, 'general': 959, 'needs': 960, 'main': 961, 'n': 962, 'march': 963, 'location': 964, 'restore': 965, '27': 966, 'fds': 967, 'iso': 968, 'transport': 969, 'contributions': 970, 'asa': 971, 'nutrition': 972, 'matrix': 973, 'interpersonal': 974, 'quarterly': 975, 'positive': 976, 'tenure': 977, 'coordination': 978, 'effectively': 979, 'performing': 980, 'invoicing': 981, 'major': 982, 'energy': 983, 'programme': 984, 'helps': 985, 'talent': 986, 'validation': 987, 'pan': 988, 'impact': 989, 'selection': 990, 'final': 991, 'sites': 992, 'controllers': 993, 'number': 994, 'invoices': 995, 'rates': 996, 'pos': 997, 'law': 998, 'fixed': 999, 'right': 1000, 'negotiations': 1001, 'quotations': 1002, 'direction': 1003, 'feature': 1004, 'xml': 1005, 'open': 1006, 'cross': 1007, 'growth': 1008, 'audits': 1009, 'assisting': 1010, 'providers': 1011, 'commissioning': 1012, 'mobile': 1013, 'utility': 1014, 'sector': 1015, 'plus': 1016, 'ticket': 1017, 'import': 1018, 'stipulated': 1019, 'ups': 1020, 'numpy': 1021, 'proven': 1022, 'rdbms': 1023, 'node': 1024, '96': 1025, 'satisfaction': 1026, 'storage': 1027, 'communicated': 1028, 'hmi': 1029, 'oil': 1030, 'month': 1031, 'contracts': 1032, 'competition': 1033, 'objects': 1034, 'fixes': 1035, 'structured': 1036, 'provider': 1037, 'enhance': 1038, 'ounting': 1039, 'run': 1040, 'large': 1041, 'strengths': 1042, 'scrum': 1043, 'lifecycle': 1044, 'optimization': 1045, 'got': 1046, 'single': 1047, 'central': 1048, 'achievements': 1049, 'sc': 1050, 'able': 1051, 'u': 1052, 'lt': 1053, 'cable': 1054, 'layout': 1055, 'series': 1056, 'visio': 1057, 'android': 1058, 'scheduled': 1059, '17': 1060, 'terms': 1061, 'supplies': 1062, 'consignments': 1063, 'ecosystem': 1064, 'ci': 1065, 'cbs': 1066, 'mail': 1067, 'written': 1068, 'patching': 1069, 'merchants': 1070, 'mba': 1071, 'april': 1072, 'updates': 1073, 'bitbucket': 1074, 'summary': 1075, 'actions': 1076, 'defining': 1077, 'nlp': 1078, 'methodologies': 1079, 'established': 1080, 'actual': 1081, 'concepts': 1082, 'analyzed': 1083, 'car': 1084, 'received': 1085, 'recruitment': 1086, 'submission': 1087, 'exposure': 1088, 'past': 1089, 'liaising': 1090, 'recovery': 1091, 'feb': 1092, 'driving': 1093, 'spoc': 1094, 'effort': 1095, 'engg': 1096, 'analysts': 1097, 'f': 1098, 'works': 1099, 'satellite': 1100, 'prod': 1101, 'p8': 1102, 'stores': 1103, 'defect': 1104, 'built': 1105, 'objective': 1106, 'permissions': 1107, 'switching': 1108, 'interest': 1109, 'parameters': 1110, 'sloan': 1111, 'hiring': 1112, 'coordinated': 1113, 'entities': 1114, 'inputs': 1115, 'association': 1116, 'tracker': 1117, 'annual': 1118, 'iit': 1119, 'st': 1120, 'policy': 1121, 'trends': 1122, 'workflow': 1123, 'visit': 1124, 'incident': 1125, 'redundant': 1126, 'nos': 1127, 'exports': 1128, 'manner': 1129, 'receiving': 1130, 'frontend': 1131, 'directly': 1132, 'pr': 1133, 'social': 1134, 'robot': 1135, 'vpn': 1136, 'factory': 1137, 'proactively': 1138, 'assigned': 1139, 'proficient': 1140, 'wave': 1141, 'advanced': 1142, 'content': 1143, 'instances': 1144, 'value': 1145, 'identified': 1146, 'current': 1147, 'builds': 1148, 'basically': 1149, 'four': 1150, 'address': 1151, 'stored': 1152, 'academy': 1153, 'trainer': 1154, 'road': 1155, 'custom': 1156, 'largest': 1157, 'primary': 1158, 'dynamic': 1159, 'neural': 1160, 'sharing': 1161, 'full': 1162, 'bom': 1163, 'pneumatic': 1164, 'place': 1165, 'fabrication': 1166, 'automate': 1167, 'tickets': 1168, 'ordination': 1169, 'eptance': 1170, 'payments': 1171, 'goods': 1172, 'sri': 1173, 'assigning': 1174, 'autosys': 1175, 'followed': 1176, 'played': 1177, 'times': 1178, 'offices': 1179, 'tax': 1180, 'increase': 1181, 'flume': 1182, 'cloudera': 1183, 'academic': 1184, 'sharepoint': 1185, 'act': 1186, 'excellence': 1187, 'modelling': 1188, 'event': 1189, 'keep': 1190, 'salary': 1191, 'bombay': 1192, 'enhancements': 1193, 'gather': 1194, 'email': 1195, 'hosted': 1196, 'another': 1197, 'branch': 1198, 'evaluation': 1199, 'give': 1200, 'schema': 1201, 'experienced': 1202, 'house': 1203, 'met': 1204, 'retail': 1205, 'three': 1206, 'raw': 1207, 'detection': 1208, 'regarding': 1209, 'onshore': 1210, '2003': 1211, 'physical': 1212, 'simple': 1213, '60': 1214, 'jr': 1215, 'property': 1216, 'nature': 1217, 'techno': 1218, '2nd': 1219, 'expenses': 1220, 'respective': 1221, 'action': 1222, 'september': 1223, 'non': 1224, 'easy': 1225, 'vision': 1226, 'govt': 1227, 'arranging': 1228, 'five': 1229, 'oriented': 1230, 'ny': 1231, 'adding': 1232, '21': 1233, 'lan': 1234, 'routers': 1235, 'dhcp': 1236, 'find': 1237, 'telephonic': 1238, 'deployments': 1239, 'purpose': 1240, 'undertaking': 1241, 'internship': 1242, 'methods': 1243, 'ordinate': 1244, 'phone': 1245, 'networks': 1246, 'thinking': 1247, 'inter': 1248, 'identification': 1249, 'escalation': 1250, 'learner': 1251, '13': 1252, 'bsc': 1253, 'payroll': 1254, 'degree': 1255, 'visa': 1256, 'deploying': 1257, 'supervising': 1258, 'coding': 1259, 'determine': 1260, 'madhya': 1261, 'magazine': 1262, 'wide': 1263, 'upgrades': 1264, 'conference': 1265, 'builder': 1266, 'startup': 1267, 'two': 1268, 'friendly': 1269, 'focuses': 1270, 'properly': 1271, 'among': 1272, 'plastering': 1273, 'nestle': 1274, 'profiles': 1275, 'logistic': 1276, 'x': 1277, 'predictive': 1278, 'water': 1279, 'vista': 1280, 'ops': 1281, 'channels': 1282, 'proficiency': 1283, 'enhancement': 1284, 'patient': 1285, 'highlights': 1286, 'inc': 1287, 'rights': 1288, 'tally': 1289, 'industries': 1290, 'manages': 1291, 'virtual': 1292, 'executed': 1293, 'layers': 1294, 'recommendations': 1295, 'old': 1296, 'sets': 1297, 'bangalore': 1298, 'news': 1299, 'hot': 1300, 'ht': 1301, 'warehousing': 1302, 'l': 1303, 'sun': 1304, 'transform': 1305, 'ordance': 1306, 'barclays': 1307, 'grid': 1308, 'scada': 1309, 'budgets': 1310, 'supplier': 1311, 'matlab': 1312, 'connectivity': 1313, 'oozie': 1314, 'invoice': 1315, 'enture': 1316, 'b2b': 1317, 'challenges': 1318, 'coverage': 1319, 'tested': 1320, 'releases': 1321, 'competencies': 1322, 'secure': 1323, 'pump': 1324, 'junior': 1325, 'designs': 1326, '300': 1327, 'history': 1328, 'channel': 1329, '10g': 1330, 'secured': 1331, 'static': 1332, 'conditions': 1333, 'administrative': 1334, 'cnc': 1335, 'win': 1336, 'dicom': 1337, '85': 1338, 'trained': 1339, 'images': 1340, 'assessment': 1341, 'engine': 1342, 'entity': 1343, 'forecasting': 1344, '19': 1345, 'lessons': 1346, 'pressure': 1347, 'chennai': 1348, 'mac': 1349, 'bitcoin': 1350, 'solidity': 1351, 'demand': 1352, 'outstanding': 1353, 'package': 1354, 'benefits': 1355, 'preventive': 1356, 'bengaluru': 1357, 'stage': 1358, 'certification': 1359, 'since': 1360, 'installed': 1361, '39': 1362, '07': 1363, 'contractual': 1364, 'agreed': 1365, 'whenever': 1366, 'informing': 1367, 'epks': 1368, 'deliverable': 1369, 'cabinets': 1370, 'masters': 1371, 'staging': 1372, 'tat': 1373, 'liasing': 1374, 'imports': 1375, 'forwarders': 1376, 'gea': 1377, 'east': 1378, 'modes': 1379, 'worldwide': 1380, 'dhl': 1381, 'checkpoint': 1382, 'move': 1383, 'adherence': 1384, 'ocean': 1385, 'ensured': 1386, 'filtering': 1387, 'cad': 1388, 'gsm': 1389, 'fully': 1390, 'lob': 1391, 'draft': 1392, 'staffing': 1393, 'penalty': 1394, 'rational': 1395, 'easily': 1396, 'hyderabad': 1397, 'dec': 1398, 'utilities': 1399, 'dba': 1400, 'hoc': 1401, 'show': 1402, 'defects': 1403, 'sports': 1404, 'moving': 1405, 'timelines': 1406, 'telangana': 1407, 'message': 1408, 'mocks': 1409, 'svn': 1410, 'quickly': 1411, 'important': 1412, 'urate': 1413, 'insights': 1414, 'deadlines': 1415, 'sea': 1416, 'hydraulic': 1417, 'visualization': 1418, 'wallet': 1419, 'putty': 1420, 'filing': 1421, 'screen': 1422, 'formalities': 1423, 'travel': 1424, 'nanded': 1425, 'digital': 1426, 'prototype': 1427, 'multinational': 1428, 'asset': 1429, 'delivering': 1430, 'forecast': 1431, 'discussing': 1432, 'schematics': 1433, 'gold': 1434, 'kerala': 1435, 'component': 1436, 'sourcing': 1437, 'sbi': 1438, 'allow': 1439, 'proactive': 1440, 'box': 1441, 'color': 1442, 'send': 1443, 'coe': 1444, 'sublime': 1445, 'contact': 1446, 'classes': 1447, 'going': 1448, '3d': 1449, 'safe': 1450, 'express': 1451, 'mar': 1452, 'recognition': 1453, 'attendance': 1454, 'karnataka': 1455, 'github': 1456, 'attend': 1457, 'suggesting': 1458, 'itil': 1459, 'lines': 1460, 'desk': 1461, 'playing': 1462, '26': 1463, 'space': 1464, 'specially': 1465, 'associated': 1466, 'tcs': 1467, 'compare': 1468, 'regulations': 1469, 'sentiment': 1470, 'sense': 1471, 'sound': 1472, 'hours': 1473, 'guidance': 1474, 'ideas': 1475, 'detail': 1476, 'added': 1477, 'hardworking': 1478, 'valves': 1479, 'loop': 1480, 'root': 1481, 'units': 1482, 'pivotal': 1483, 'due': 1484, 'books': 1485, 'al': 1486, 'consultants': 1487, 'cold': 1488, 'incidents': 1489, 'allahabad': 1490, 'uttar': 1491, 'intellimatch': 1492, 'gap': 1493, 'lng': 1494, 'stations': 1495, 'hvac': 1496, 'zone': 1497, 'clearance': 1498, 'returns': 1499, 'delhi': 1500, 'black': 1501, 'kpi': 1502, 'midc': 1503, 'abap': 1504, 'coaching': 1505, 'rm': 1506, 'bajaj': 1507, 'programmes': 1508, 'lanka': 1509, 'institutional': 1510, 'impala': 1511, 'ionic': 1512, 'trustbank': 1513, 'bazar': 1514, 'responsive': 1515, 'softgst': 1516, 'gstr': 1517, 'jalloshband': 1518, 'attitude': 1519, 'mitigation': 1520, 'record': 1521, 'president': 1522, 'search': 1523, 'cse': 1524, 'dns': 1525, 'home': 1526, 'marathi': 1527, 'proposals': 1528, 'carrying': 1529, '80': 1530, '08': 1531, 'presenting': 1532, 'cultural': 1533, 'uft': 1534, 'ap': 1535, 'productivity': 1536, 'long': 1537, 'extraction': 1538, 'known': 1539, 'exchange': 1540, 'telecom': 1541, 'district': 1542, 'claims': 1543, 'medical': 1544, 'lambda': 1545, 'tibco': 1546, 'spotfire': 1547, 'xen': 1548, 'cpi': 1549, 'genworth': 1550, '23': 1551, 'modifications': 1552, 'relay': 1553, 'restful': 1554, 'modeling': 1555, 'sme': 1556, 'survey': 1557, 'october': 1558, 'advertising': 1559, 'needed': 1560, 'standby': 1561, 'total': 1562, 'drafting': 1563, 'costing': 1564, 'video': 1565, 'six': 1566, 'advocate': 1567, '2019': 1568, 'million': 1569, 'list': 1570, 'kyc': 1571, 'fraud': 1572, 'llp': 1573, 'promotion': 1574, 'javaee': 1575, 'aes': 1576, 'rfid': 1577, 'parkar': 1578, 'labs': 1579, 'ansible': 1580, 'merging': 1581, 'workforce': 1582, 'ip': 1583, 'means': 1584, 'collaboration': 1585, 'patterns': 1586, 'simultaneously': 1587, 'organize': 1588, 'human': 1589, 'small': 1590, 'sept': 1591, 'error': 1592, 'telecommunications': 1593, 'selected': 1594, 'particular': 1595, 'multimedia': 1596, '12c': 1597, 'mirroring': 1598, 'always': 1599, '2001': 1600, 'better': 1601, 'parent': 1602, 'middle': 1603, 'idea': 1604, 'collection': 1605, 'turn': 1606, 'tablespaces': 1607, 'hp': 1608, 'pacs': 1609, 'stories': 1610, 'traceability': 1611, 'interacted': 1612, 'bed': 1613, 'pandas': 1614, 'term': 1615, 'flexibility': 1616, 'responses': 1617, 'extracting': 1618, 'study': 1619, 'auditing': 1620, 'catia': 1621, 'inside': 1622, 'syntel': 1623, 'table': 1624, 'statutory': 1625, 'computing': 1626, 'bandra': 1627, 'evaluate': 1628, 'calculate': 1629, 'protection': 1630, 'mw': 1631, 'cause': 1632, 'classification': 1633, 'stream': 1634, 'serve': 1635, 'giving': 1636, 'generates': 1637, 'srs': 1638, 'authority': 1639, 'organized': 1640, 'would': 1641, 'residential': 1642, 'calling': 1643, 'asm': 1644, 'disk': 1645, 'topic': 1646, 'object': 1647, 'receive': 1648, 'alert': 1649, 'finalizing': 1650, 'gateway': 1651, 'carried': 1652, 'supervise': 1653, 'joined': 1654, 'coded': 1655, 'dbms': 1656, 'hotels': 1657, 'late': 1658, 'alternate': 1659, 'discrepancies': 1660, 'yes': 1661, 'reliance': 1662, 'correspondence': 1663, 'goals': 1664, 'modified': 1665, 'weeks': 1666, 'money': 1667, 'quotation': 1668, 'disease': 1669, 'ccu': 1670, 'cmu': 1671, 'editing': 1672, 'appraisals': 1673, 'drive': 1674, 'xinfin': 1675, 'protocols': 1676, 'innovative': 1677, 'linear': 1678, 'person': 1679, 'mr': 1680, 'printing': 1681, 'encrypted': 1682, 'oct': 1683, 'workshops': 1684, 'soft': 1685, 'mentor': 1686, 'deal': 1687, 'configure': 1688, 'low': 1689, 'pack': 1690, 'corrective': 1691, 'promoted': 1692, '2008r2': 1693, 'context': 1694, 'registration': 1695, 'faster': 1696, 'globally': 1697, 'draw': 1698, 'capita': 1699, 'assessing': 1700, 'subject': 1701, 'compensation': 1702, 'joining': 1703, 'appraisal': 1704, 'proxy': 1705, 'carry': 1706, 'quotes': 1707, 'temperature': 1708, 'volume': 1709, 'urately': 1710, 'train': 1711, 'brd': 1712, 'medicines': 1713, 'quantity': 1714, 'holding': 1715, 'aim': 1716, 'sectors': 1717, 'privileges': 1718, 'vlan': 1719, 'ca': 1720, 'negotiation': 1721, 'unique': 1722, 'loaded': 1723, 'gm': 1724, 'kom': 1725, 'cabinet': 1726, 'loops': 1727, 'focal': 1728, 'furnace': 1729, 'points': 1730, 'experion': 1731, 'jbk': 1732, 'schematic': 1733, 'presence': 1734, 'instrumentation': 1735, 'constraints': 1736, 'associate': 1737, 'utilized': 1738, 'insight': 1739, 'columns': 1740, 'issuance': 1741, 'sop': 1742, 'receivables': 1743, 'reducing': 1744, 'transit': 1745, 'establishing': 1746, 'transshipment': 1747, 'complaints': 1748, 'serck': 1749, 'recording': 1750, 'elements': 1751, 'f5': 1752, 'february': 1753, 'prgx': 1754, 'atos': 1755, 'zaggle': 1756, 'inr': 1757, 'improving': 1758, 'plane': 1759, 'indian': 1760, 'bill': 1761, 'hard': 1762, 'distributed': 1763, 'bhopal': 1764, 'hospital': 1765, 'mssql': 1766, 'fee': 1767, 'rcsa': 1768, 'concurrence': 1769, 'delinquent': 1770, '49': 1771, 'speaking': 1772, 'clarity': 1773, 'headcount': 1774, 'tagging': 1775, 'rookie': 1776, 'ticketing': 1777, 'automating': 1778, 'estate': 1779, 'graduate': 1780, 'elastic': 1781, 'synechron': 1782, 'redhat': 1783, 'earthing': 1784, 'professionals': 1785, 'promoting': 1786, 'concept': 1787, 'globe': 1788, 'alerts': 1789, 'qualification': 1790, '18': 1791, 'represent': 1792, 'collect': 1793, 'motivate': 1794, 'recognized': 1795, 'finding': 1796, 'player': 1797, 'therapies': 1798, 'searching': 1799, 'food': 1800, 'measures': 1801, 'websites': 1802, 'american': 1803, 'face': 1804, 'lists': 1805, 'options': 1806, 'others': 1807, 'interact': 1808, 'increased': 1809, 'clarifications': 1810, 'smoke': 1811, 'tree': 1812, 'classifier': 1813, 'response': 1814, 'london': 1815, 'mitigate': 1816, 'port': 1817, 'scientist': 1818, 'called': 1819, 'sow': 1820, 'foundry': 1821, '29': 1822, 'sheet': 1823, 'highlighting': 1824, 'plsql': 1825, 'york': 1826, 'closing': 1827, 'directory': 1828, 'assurance': 1829, 'presented': 1830, 'career': 1831, 'rfq': 1832, 'phase': 1833, 'severity': 1834, 'driver': 1835, 'scd': 1836, 'entry': 1837, '50': 1838, 'interviewing': 1839, 'partnerships': 1840, 'special': 1841, 'traffic': 1842, 'johnson': 1843, 'deliveries': 1844, 'banks': 1845, 'downtime': 1846, 'fetch': 1847, 'add': 1848, 'teradata': 1849, 'court': 1850, 'brand': 1851, 'steel': 1852, 'round': 1853, 'dynamics': 1854, 'makes': 1855, 'uh': 1856, 'resume': 1857, 'objectives': 1858, 'authentication': 1859, 'functionality': 1860, 'infosys': 1861, 'mangers': 1862, 'switch': 1863, 'visits': 1864, 'as400': 1865, 'individuals': 1866, 'efforts': 1867, 'utilizing': 1868, 'locations': 1869, 'doctor': 1870, 'questions': 1871, 'failures': 1872, 'upgrading': 1873, 'verbal': 1874, 'sangli': 1875, 'io': 1876, 'patil': 1877, 'exposys': 1878, 'notepad': 1879, 'fruits': 1880, 'vice': 1881, 'aspects': 1882, 'visiting': 1883, '2004': 1884, 'stack': 1885, 'practice': 1886, 'shopping': 1887, 'controlled': 1888, 'gaps': 1889, 'middleware': 1890, 'tier': 1891, 'way': 1892, 'algorithm': 1893, 'audience': 1894, 'ct': 1895, 'relational': 1896, 'think': 1897, 'agents': 1898, 'experiences': 1899, 'comes': 1900, 'struts': 1901, 'coming': 1902, 'input': 1903, 'watch': 1904, 'timesheet': 1905, 'strength': 1906, 'mcc': 1907, 'switchgear': 1908, 'motors': 1909, 'trainings': 1910, 'db2': 1911, 'proof': 1912, 'charts': 1913, 'warehouses': 1914, 'deliver': 1915, 'parties': 1916, 'urban': 1917, 'closure': 1918, 'remote': 1919, 'standardized': 1920, 'causes': 1921, 'j': 1922, 'epted': 1923, 'qualifications': 1924, 'holds': 1925, 'star': 1926, 'verification': 1927, 'tours': 1928, 'held': 1929, 'europe': 1930, 'optimize': 1931, 'damage': 1932, 'systematic': 1933, 'involving': 1934, 'launch': 1935, 'expectations': 1936, 'boarding': 1937, 'updated': 1938, 'declaration': 1939, 'atm': 1940, 'effectiveness': 1941, 'count': 1942, 'indore': 1943, 'protocol': 1944, 'fill': 1945, 'angularjs': 1946, 'brought': 1947, '1998': 1948, 'income': 1949, 'gas': 1950, 'expe': 1951, 'communities': 1952, 'examination': 1953, 'landing': 1954, 'cvs': 1955, 'patni': 1956, 'clustering': 1957, 'fast': 1958, 'extra': 1959, 'sep': 1960, 'suggestions': 1961, 'sweden': 1962, 'insert': 1963, 'delete': 1964, 'willing': 1965, 'rajasthan': 1966, '25': 1967, 'sign': 1968, 'allows': 1969, 'heterogeneous': 1970, 'ii': 1971, '120': 1972, '43': 1973, 'crystal': 1974, 'booking': 1975, 'upto': 1976, 'slas': 1977, 'controlling': 1978, 'noc': 1979, 'sungard': 1980, 'bw': 1981, 'coach': 1982, 'basics': 1983, 'already': 1984, 'require': 1985, 'managements': 1986, 'sorting': 1987, 'usability': 1988, 'b2c': 1989, 'several': 1990, 'goqii': 1991, 'abstract': 1992, 'library': 1993, 'club': 1994, 'spa': 1995, 'tdd': 1996, 'hybrid': 1997, 'taf': 1998, 'vb': 1999, 'hl7': 2000, 'reconstruction': 2001, 'logix': 2002, 'talk': 2003, 'rslinx': 2004, 'classic': 2005, 'embedded': 2006, 'increment': 2007, 'sprint': 2008, 'vbscripts': 2009, 'tensorflow': 2010, 'svm': 2011, 'see': 2012, 'extractor': 2013, 'places': 2014, 'extracted': 2015, 'meaningful': 2016, 'organizational': 2017, 'tasking': 2018, 'comparison': 2019, 'foreign': 2020, 'actuator': 2021, 'electric': 2022, 'mesa': 2023, 'nasscom': 2024, 'telecommunication': 2025, 'ranchi': 2026, 'logger': 2027, 'hyperledger': 2028, 'block': 2029, 'california': 2030, 'facets': 2031, 'extensively': 2032, 'display': 2033, 'rewards': 2034, 'answering': 2035, 'detailing': 2036, 'actuators': 2037, 'asst': 2038, 'crawling': 2039, 'rpg': 2040, 'kpit': 2041, 'rpa': 2042, 'determined': 2043, 'demo': 2044, 'contractor': 2045, 'marshall': 2046, 'diverse': 2047, 'courses': 2048, 'delta': 2049, 'vs': 2050, 'heat': 2051, 'pair': 2052, 'dedication': 2053, 'salesforce': 2054, 'tac': 2055, 'cbse': 2056, 'tmap': 2057, 'last': 2058, 'informed': 2059, 'purchasing': 2060, 'karate': 2061, 'class': 2062, 'corpcloud': 2063, 'proposed': 2064, 'inouvelle': 2065, 'ventures': 2066, 'legacy': 2067, 'micro': 2068, 'oltp': 2069, 'capture': 2070, 'aegis': 2071, 'curriculum': 2072, 'arsys': 2073, 'mas': 2074, 'oss': 2075, 'postman': 2076, 'vehicle': 2077, 'sqlserver': 2078, 'anti': 2079, 'laundering': 2080, 'po': 2081, 'suitable': 2082, 'frames': 2083, 'cement': 2084, 'painting': 2085, 'editor': 2086, 'mvc5': 2087, 'disabled': 2088, 'greyed': 2089, 'beginner': 2090, 'r3': 2091, 'optimizing': 2092, 'bex': 2093, 'bar': 2094, 'listener': 2095, 'honda': 2096, 'dealership': 2097, 'ieee': 2098, 'tester': 2099, 'subcontractors': 2100, 'experts': 2101, 'natural': 2102, 'engagement': 2103, 'ongoing': 2104, 'transformation': 2105, 'institution': 2106, 'appreciation': 2107, 'yrs': 2108, 'letters': 2109, 'shut': 2110, 'foods': 2111, 'art': 2112, 'facilitating': 2113, 'highest': 2114, 'settings': 2115, 'spaces': 2116, '1999': 2117, 'planned': 2118, 'slave': 2119, 'permanent': 2120, 'significant': 2121, 'dedicated': 2122, 'streamline': 2123, 'outs': 2124, 'norms': 2125, 'install': 2126, 'uml': 2127, 'funds': 2128, 'mechanism': 2129, 'emerging': 2130, 'newly': 2131, 'offline': 2132, 'band': 2133, 'peer': 2134, 'gui': 2135, 'flows': 2136, 'names': 2137, 'establish': 2138, 'royal': 2139, 'statistical': 2140, 'either': 2141, 'machines': 2142, 'blue': 2143, 'joiner': 2144, 'lookup': 2145, 'statements': 2146, 'equipments': 2147, '22': 2148, 'german': 2149, 'a1': 2150, 'feasibility': 2151, 'depending': 2152, 'feasible': 2153, 'timeframe': 2154, 'book': 2155, 'consumed': 2156, 'linked': 2157, 'ksa': 2158, 'aviation': 2159, 'buildings': 2160, 'man': 2161, 'bharat': 2162, 'ranjangaon': 2163, 'chinchwad': 2164, 'break': 2165, 'together': 2166, '1st': 2167, 'resolved': 2168, 'estimates': 2169, 'regional': 2170, 'mining': 2171, 'dimensions': 2172, 'organisation': 2173, 'items': 2174, 'cargo': 2175, 'waste': 2176, 'findings': 2177, 'society': 2178, 'attended': 2179, 'consistent': 2180, 'shipment': 2181, 'statement': 2182, 'offer': 2183, 'semi': 2184, 'tamil': 2185, 'nadu': 2186, 'substation': 2187, 'solapur': 2188, 'brain': 2189, 'publication': 2190, 'oversight': 2191, 'director': 2192, 'oversee': 2193, 'consistently': 2194, 'interior': 2195, 'personally': 2196, 'jaunpur': 2197, 'frameworks': 2198, 'window': 2199, 'financials': 2200, 'brainstorming': 2201, 'arrange': 2202, 'ec2': 2203, 'scaling': 2204, 'recruit': 2205, 'downloaded': 2206, 'guide': 2207, 'presentations': 2208, 'force': 2209, 'miami': 2210, '03': 2211, 'rac': 2212, 'commands': 2213, 'console': 2214, 'generations': 2215, 'additional': 2216, 'batches': 2217, 'remediation': 2218, 'discussions': 2219, 'allocation': 2220, 'oral': 2221, 'initiative': 2222, 'talwalkars': 2223, 'applied': 2224, 'asia': 2225, 'introducing': 2226, 'llc': 2227, 'obtain': 2228, 'compile': 2229, 'consultation': 2230, 'sensor': 2231, 'jntu': 2232, 'nodes': 2233, 'solar': 2234, 'tracked': 2235, 'tieto': 2236, 'scikit': 2237, 'matplotlib': 2238, 'remedy': 2239, 'bot': 2240, 'feedbacks': 2241, 'quantitative': 2242, 'priority': 2243, 'funding': 2244, 'learned': 2245, 'ppt': 2246, 'push': 2247, 'useful': 2248, 'enhanced': 2249, 'explorer': 2250, 'birthday': 2251, 'kind': 2252, 'trouble': 2253, 'shooting': 2254, 'leave': 2255, 'session': 2256, 'rds': 2257, 'dump': 2258, 'technological': 2259, 'computers': 2260, 'mass': 2261, 'sld': 2262, 'calibration': 2263, 'transmitter': 2264, 'dc': 2265, 'steps': 2266, 'treatment': 2267, 'reduction': 2268, 'flask': 2269, 'criminal': 2270, 'covered': 2271, 'diagnostic': 2272, 'ba': 2273, 'personnel': 2274, 'priorities': 2275, 'discussion': 2276, 'estimated': 2277, 'takes': 2278, 'reference': 2279, 'amount': 2280, 'specialty': 2281, 'merchant': 2282, 'ospf': 2283, 'eigrp': 2284, 'tftp': 2285, 'wan': 2286, 'violation': 2287, 'printers': 2288, 'competency': 2289, 'fzco': 2290, 'kick': 2291, 'profits': 2292, 'clarification': 2293, 'em': 2294, 'revised': 2295, 'proto': 2296, 'sis': 2297, 'fgs': 2298, 'amc': 2299, 'tps': 2300, 'pu': 2301, 'downloading': 2302, 'egypt': 2303, 'r410': 2304, 'fdm': 2305, 'truck': 2306, 'fox': 2307, 'perfect': 2308, '9001': 2309, 'facts': 2310, 'child': 2311, 'fact': 2312, 'flotilla': 2313, 'exceed': 2314, '4000': 2315, 'landmark': 2316, 'brokers': 2317, 'customs': 2318, 'ecoflex': 2319, 'forwarding': 2320, 'pricing': 2321, 'maximizing': 2322, 'destinations': 2323, 'gcc': 2324, 'reasonable': 2325, 'shore': 2326, 'volumes': 2327, 'hour': 2328, 'inbound': 2329, 'parts': 2330, 'juniper': 2331, 'ssl': 2332, 'infra': 2333, 'wagh': 2334, 'ab': 2335, 'hereby': 2336, 'family': 2337, 'abilities': 2338, 'respond': 2339, 'inquiries': 2340, 'minimizing': 2341, 'losses': 2342, 'axis': 2343, 'venture': 2344, 'infotek': 2345, 'yalamanchili': 2346, 'ftc': 2347, 'sale': 2348, 'terminals': 2349, 'chat': 2350, 'nat': 2351, 'attacks': 2352, 'ipsec': 2353, 'mpls': 2354, 'matters': 2355, 'promote': 2356, 'minimize': 2357, 'close': 2358, 'finish': 2359, 'layouts': 2360, 'bring': 2361, 'housing': 2362, 'modification': 2363, 'tower': 2364, 'lifestyle': 2365, 'enthusiastic': 2366, 'kisan': 2367, 'country': 2368, 'testng': 2369, 'servlets': 2370, 'programmer': 2371, 'servereducation': 2372, 'idt': 2373, 'cmc': 2374, 'aims': 2375, 'universes': 2376, 'functioning': 2377, 'treasury': 2378, 'corporations': 2379, 'broker': 2380, 'dealer': 2381, 'escalated': 2382, 'assessments': 2383, 'initiate': 2384, 'transitions': 2385, 'hires': 2386, 'siebel': 2387, 'addressed': 2388, '95': 2389, '34': 2390, 'maruti': 2391, 'columbia': 2392, '125': 2393, 'responsiblites': 2394, 'deliery': 2395, 'mom': 2396, 'chasing': 2397, 'rr': 2398, 'deputation': 2399, 'invoicings': 2400, 'activites': 2401, 'invocing': 2402, 'cem': 2403, 'sdm': 2404, 'save': 2405, 'towers': 2406, 'tofa': 2407, 'tailgating': 2408, 'asall': 2409, 'drivekey': 2410, 'roadblocks': 2411, 'compliancereport': 2412, 'quarter': 2413, 'allowances': 2414, 'milestone': 2415, 'ratio': 2416, 'villa': 2417, 'approach': 2418, 'environmental': 2419, 'organizations': 2420, 'exp': 2421, 'structures': 2422, 'shield': 2423, 'procedure': 2424, 'calculations': 2425, 'select': 2426, 'id': 2427, 'start': 2428, 'saved': 2429, 'employment': 2430, 'consumer': 2431, 'infotech': 2432, 'smoothly': 2433, 'representative': 2434, 'facilities': 2435, 'rate': 2436, 'qualities': 2437, 'hospitals': 2438, 'gandhi': 2439, 'protect': 2440, 'toad': 2441, 'evaluating': 2442, 'agent': 2443, 'counselling': 2444, 'mentoring': 2445, 'minimal': 2446, 'automatically': 2447, 'agreement': 2448, 'scalable': 2449, 'rockwell': 2450, 'compliances': 2451, 'versed': 2452, 'sit': 2453, 'specs': 2454, 'variance': 2455, 'supervised': 2456, 'labor': 2457, 'interpret': 2458, 'collaborate': 2459, 'supervision': 2460, 'innovation': 2461, 'filter': 2462, 'union': 2463, 'commitment': 2464, 'spot': 2465, 'kunal': 2466, 'mid': 2467, 'stress': 2468, 'breweries': 2469, 'approval': 2470, 'lightning': 2471, 'valve': 2472, 'lighting': 2473, 'breaker': 2474, 'lf': 2475, 'frequency': 2476, 'factors': 2477, 'finalize': 2478, 'frd': 2479, 'obtaining': 2480, 'follet': 2481, 'license': 2482, 'andheri': 2483, 'highway': 2484, 'bca': 2485, 'commodities': 2486, 'icici': 2487, 'edc': 2488, 'acquiring': 2489, 'row': 2490, 'tablespace': 2491, 'importing': 2492, 'datapump': 2493, 'previous': 2494, 'granting': 2495, 'railway': 2496, 'agriculture': 2497, 'pusad': 2498, 'maxgen': 2499, 'index': 2500, 'pimpri': 2501, 'pharmaceutical': 2502, 'documenting': 2503, 'awareness': 2504, 'apply': 2505, 'tender': 2506, 'tenders': 2507, 'rfqs': 2508, 'still': 2509, 'ace': 2510, 'fun': 2511, 'promotional': 2512, 'improvements': 2513, 'broad': 2514, 'translate': 2515, 'soliciting': 2516, 'scale': 2517, 'panchakarma': 2518, 'stocks': 2519, 'states': 2520, 'obsolete': 2521, 'housekeeping': 2522, 'executives': 2523, 'reported': 2524, 'land': 2525, 'recommended': 2526, 'selling': 2527, 'pilot': 2528, 'vertical': 2529, 'rule': 2530, 'championship': 2531, 'storing': 2532, '37': 2533, 'ecosystems': 2534, 'sorted': 2535, 'versa': 2536, 'professionally': 2537, 'terminal': 2538, 'format': 2539, 'intertek': 2540, 'disciplines': 2541, 'clarifying': 2542, 'stages': 2543, 'inlight': 2544, 'bas': 2545, 'tango': 2546, 'difficult': 2547, 'nosql': 2548, 'lake': 2549, 'connection': 2550, 'exported': 2551, 'rlm': 2552, 'yarn': 2553, 'sheets': 2554, 'uracy': 2555, 'assign': 2556, 'item': 2557, 'exact': 2558, 'corel': 2559, 'illustrator': 2560, 'virtuous': 2561, 'adobe': 2562, 'studying': 2563, 'gives': 2564, 'common': 2565, 'producing': 2566, 'contributors': 2567, 'rave': 2568, 'mca': 2569, 'collaborated': 2570, 'patch': 2571, 'aurus': 2572, 'cd': 2573, 'grade': 2574, 'decisions': 2575, 'confidence': 2576, 'shegaon': 2577, 'dataiku': 2578, 'reconciliations': 2579, 'recs': 2580, 'ora': 2581, 'assists': 2582, 'salcluster': 2583, 'pages': 2584, 'professor': 2585, 'sass': 2586, 'brackets': 2587, 'raisoni': 2588, 'photography': 2589, 'click': 2590, 'renovated': 2591, 'maintainable': 2592, 'optimised': 2593, 'guidelines': 2594, 'incorporated': 2595, 'integrate': 2596, 'payers': 2597, 'additionally': 2598, 'register': 2599, 'analytica': 2600, 'analytika': 2601, 'shows': 2602, 'liability': 2603, 'tsr': 2604, 'vidarbha': 2605, 'op': 2606, 'gisss': 2607, 'softtrust': 2608, 'jallosh': 2609, 'endeavor': 2610, '10magicalfingers': 2611, 'xoriant': 2612, 'flash': 2613, 'skilled': 2614, 'stakeholder': 2615, 'budgeting': 2616, 'b1': 2617, 'seattle': 2618, 'symbiosis': 2619, 'cloudformation': 2620, 'template': 2621, 'dynamo': 2622, 'bean': 2623, 'stalk': 2624, 'appdynamics': 2625, 'chance': 2626, 'hired': 2627, 'eip': 2628, 'trigger': 2629, 'puppet': 2630, 'farms': 2631, 'boxes': 2632, 'tsys': 2633, 'rhds': 2634, 'vdi': 2635, 'aix': 2636, 'caters': 2637, 'imaging': 2638, 'scanned': 2639, 'l1': 2640, 'visited': 2641, 'eprocess': 2642, 'trexo': 2643, 'older': 2644, 'analyse': 2645, 'instruments': 2646, 'efficiently': 2647, 'trading': 2648, 'contractors': 2649, 'dealing': 2650, 'guard': 2651, 'removing': 2652, 'strictly': 2653, 'copy': 2654, 'profiler': 2655, 'indexes': 2656, 'stp': 2657, 'press': 2658, 'hosting': 2659, 'watching': 2660, 'zensar': 2661, 'come': 2662, 'liaison': 2663, 'maintains': 2664, 'audio': 2665, 'failover': 2666, 'option': 2667, 'thus': 2668, 'desired': 2669, 'interfacing': 2670, 'login': 2671, 'canada': 2672, '2002': 2673, 'specified': 2674, 'preparations': 2675, 'submitted': 2676, 'xillinx': 2677, 'modelsim': 2678, 'multisim': 2679, 'fpga': 2680, 'encryption': 2681, 'cryptography': 2682, 'secret': 2683, '230': 2684, 'sorts': 2685, 'rgb': 2686, 'balls': 2687, 'ward': 2688, 'buy': 2689, 'fixers': 2690, 'sinks': 2691, 'configura': 2692, 'tion': 2693, 'war': 2694, 'ear': 2695, 'jar': 2696, 'mul': 2697, 'tiple': 2698, 'respectively': 2699, 'bangkok': 2700, 'thaitrade': 2701, 'simultaneous': 2702, 'leases': 2703, 'conflicts': 2704, 'propagation': 2705, 'testers': 2706, 'holdings': 2707, 'sellers': 2708, 'bblwtp': 2709, 'subversion': 2710, 'deploys': 2711, 'indoor': 2712, 'situations': 2713, 'bpt': 2714, 'dcmtk': 2715, 'quest': 2716, 'archiving': 2717, 'lots': 2718, 'backlog': 2719, 'collaborative': 2720, 'validated': 2721, 'knn': 2722, 'intent': 2723, 'fetching': 2724, 'numbers': 2725, 'tensor': 2726, 'dataset': 2727, 'sgd': 2728, 'ner': 2729, 'qualitative': 2730, 'productive': 2731, '47': 2732, 'travelled': 2733, 'approvals': 2734, 'solidworks': 2735, 'manufactured': 2736, 'waves': 2737, 'generator': 2738, 'treasurer': 2739, 'statistics': 2740, 'soap': 2741, 'jharkhand': 2742, 'women': 2743, 'auxledger': 2744, 'otc': 2745, 'ripple': 2746, 'fabric': 2747, 'continue': 2748, 'loyalty': 2749, 'reminder': 2750, 'parking': 2751, 'react': 2752, 'tidal': 2753, 'debugger': 2754, 'award': 2755, 'relations': 2756, 'pt': 2757, 'posting': 2758, '360': 2759, 'interactive': 2760, 'mgm': 2761, 'mit': 2762, 'attributes': 2763, 'andrews': 2764, 'cabling': 2765, 'pcc': 2766, 'vfd': 2767, 'plants': 2768, 'rgpv': 2769, 'utr': 2770, 'scraping': 2771, 'techn': 2772, 'cl': 2773, 'ile': 2774, 'brokerage': 2775, 'candidates': 2776, 'initial': 2777, 'roi': 2778, 'poc': 2779, 'matter': 2780, 'advantage': 2781, 'ranging': 2782, 'gathered': 2783, 'offs': 2784, 'community': 2785, 'streamlining': 2786, 'dispatch': 2787, 'device': 2788, 'answer': 2789, 'estimating': 2790, '9x': 2791, 'divisions': 2792, 'advert': 2793, 'provisioning': 2794, 'datamart': 2795, '30th': 2796, 'retailers': 2797, 'seniors': 2798, 'gate': 2799, 'responding': 2800, 'trace': 2801, 'hexad': 2802, 'consolidation': 2803, 'remediated': 2804, 'must': 2805, 'therefore': 2806, 'mistakes': 2807, '05': 2808, '02': 2809, 'breakdown': 2810, 'strategizing': 2811, 'poona': 2812, 'continuously': 2813, 'seasonal': 2814, 'promotions': 2815, 'aspire': 2816, 'ensono': 2817, 'apex': 2818, 'vanet': 2819, 'parson': 2820, 'brings': 2821, 'loads': 2822, 'tsqlrow': 2823, 'dimension': 2824, 'outside': 2825, 'folders': 2826, 'aissms': 2827, 'sell': 2828, 'dossier': 2829, 'dim': 2830, 'germany': 2831, 'average': 2832, 'marine': 2833, 'drivers': 2834, 'walk': 2835, 'servicing': 2836, 'hobbies': 2837, 'dapps': 2838, 'mean': 2839, 'navi': 2840, 'random': 2841, 'na': 2842, 'debit': 2843, 'headquartered': 2844, 'city': 2845, 'cv': 2846, 'ccna': 2847, 'reputation': 2848, 'gained': 2849, 'inovics': 2850, 'urllib': 2851, 'hub': 2852, 'motivated': 2853, 'cassandra': 2854, 'larsen': 2855, 'fresher': 2856, '1995': 2857, 'sizing': 2858, 'rotary': 2859, 'fabricated': 2860, 'technically': 2861, 'saving': 2862, 'examine': 2863, 'arrival': 2864, 'duncan': 2865, 'petrochemical': 2866, 'fruitful': 2867, 'rotex': 2868, 'assemblies': 2869, 'ecommerce': 2870, 'uae': 2871, 'conglomerate': 2872, 'petronet': 2873, 'words': 2874, 'analytic': 2875, 'ready': 2876, 'kranti': 2877, 'scrapping': 2878, 'confident': 2879, 'sanarco': 2880, 'cms': 2881, 'teacher': 2882, 'collections': 2883, 'dictionary': 2884, 'regularization': 2885, 'fields': 2886, 'displayed': 2887, 'navigated': 2888, 'assistence': 2889, 'nodejs': 2890, 'zhypility': 2891, 'hackthon': 2892, 'rome': 2893, 'jio': 2894, 'nearby': 2895, 'kgp': 2896, 'kingdom': 2897, 'capturing': 2898, 'directors': 2899, 'fiori': 2900, 'passing': 2901, 'partition': 2902, 'rdd': 2903, 'biar': 2904, 'limitations': 2905, 'supervisor': 2906, 'shri': 2907, 'chandrapur': 2908, 'section': 2909, 'pipeline': 2910, 'led': 2911, 'ledger': 2912, 'gst': 2913, 'jaipur': 2914, 'orgnization': 2915, 'eg': 2916, 'yallaspree': 2917, 'railtiffin': 2918, 'olite': 2919, 'scoe': 2920, 'agro': 2921, 'hingna': 2922, 'metal': 2923, 'fab': 2924, 'automotive': 2925, 'experiance': 2926, 'th': 2927, 'semister': 2928, 'multitasking': 2929, 'grow': 2930, 'timeline': 2931, 'solve': 2932, 'ios': 2933, 'undertaken': 2934, 'segments': 2935, 'latest': 2936, 'cloning': 2937, 'cycles': 2938, 'citi': 2939, 'fortinet': 2940, 'escalations': 2941, 'teachers': 2942, 'surfing': 2943, 'learnt': 2944, 'mutually': 2945, 'captured': 2946, 'failed': 2947, 'centos': 2948, 'ignou': 2949, 'organising': 2950, 'essential': 2951, '45': 2952, 'cooling': 2953, 'prime': 2954, '2960': 2955, 'enhancing': 2956, '7education': 2957, 'clusters': 2958, 'w': 2959, 'ethernet': 2960, 'vlans': 2961, 'hopping': 2962, 'standalone': 2963, 'command': 2964, 'ordinator': 2965, 'bus': 2966, 'airtel': 2967, 'young': 2968, 'initiatives': 2969, 'logins': 2970, 'notification': 2971, 'players': 2972, 'lifekonnect': 2973, 'centres': 2974, 'hsbc': 2975, 'ordinating': 2976, 'migrating': 2977, 'logical': 2978, 'emea': 2979, 'exercise': 2980, 'jalgaon': 2981, 'palo': 2982, 'alto': 2983, 'ltm': 2984, 'foot': 2985, 'refreshers': 2986, 'nutritionist': 2987, 'http': 2988, 'golden': 2989, 'reusable': 2990, 'downstream': 2991, 'medium': 2992, 'passed': 2993, 'earliest': 2994, 'regex': 2995, 'output': 2996, 'suited': 2997, 'ce': 2998, 'marital': 2999, 'reliable': 3000, 'graphs': 3001, 'scratch': 3002, 'softwares': 3003, 'bringing': 3004, 'punjab': 3005, 'qualifier': 3006, 'workflows': 3007, 'screens': 3008, 'schemes': 3009, 'periodic': 3010, 'liaise': 3011, 'manuals': 3012, 'siemens': 3013, 'rs': 3014, 'prototyping': 3015, 'hpqc': 3016, 'integrator': 3017, 'taken': 3018, 'walkthroughs': 3019, 'electronic': 3020, 'deals': 3021, 'police': 3022, 'mobilization': 3023, 'targeted': 3024, 'variation': 3025, 'piping': 3026, 'submittal': 3027, 'loans': 3028, 'equities': 3029, 'moved': 3030, 'msc': 3031, 'logging': 3032, 'sciences': 3033, 'heading': 3034, 'chart': 3035, 'official': 3036, 'exception': 3037, 'ethics': 3038, 'ensures': 3039, 'om': 3040, 'progressing': 3041, 'pas': 3042, 'converting': 3043, 'thorough': 3044, 'expert': 3045, 'enquiry': 3046, 'awarded': 3047, 'develops': 3048, 'shift': 3049, 'vidya': 3050, 'firm': 3051, 'suite': 3052, 'utilize': 3053, 'structural': 3054, 'west': 3055, 'regards': 3056, 'agency': 3057, 'billion': 3058, 'bulk': 3059, 'owned': 3060, 'sharjah': 3061, 'purchases': 3062, 'purposes': 3063, 'independently': 3064, 'suggest': 3065, 'shivaji': 3066, 'fault': 3067, 'correcting': 3068, 'operated': 3069, 'reliability': 3070, 'conventional': 3071, 'declare': 3072, 'belief': 3073, 'mnu': 3074, 'red': 3075, 'bayes': 3076, 'seamlessly': 3077, 'put': 3078, 'extensive': 3079, 'organisational': 3080, 'iot': 3081, 'institutions': 3082, 'pyspark': 3083, 'churn': 3084, 'outcomes': 3085, 'thakur': 3086, 'transforms': 3087, 'mode': 3088, 'courts': 3089, 'scd2': 3090, 'honesty': 3091, 'password': 3092, 'prakash': 3093, 'powerful': 3094, 'voice': 3095, 'contents': 3096, 'assisted': 3097, 'participation': 3098, 'assistance': 3099, 'eta': 3100, 'regions': 3101, 'sybase': 3102, 'mc': 3103, 'eplan': 3104, 'diagram': 3105, 'whole': 3106, 'ha': 3107, 'portfolio': 3108, 'webservices': 3109, 'intermediate': 3110, 'discipline': 3111, 'smec': 3112, 'scanners': 3113, 'libraries': 3114, 'diabetes': 3115, 'steady': 3116, 'japan': 3117, 'look': 3118, 'hospitality': 3119, 'pf': 3120, 'exhibition': 3121, 'mi': 3122, 'vmware': 3123, 'mails': 3124, 'symantec': 3125, 'datacenter': 3126, '000': 3127, 'measurements': 3128, 'contacting': 3129, '97': 3130, '44': 3131, 'advisor': 3132, 'kt': 3133, 'scan': 3134, 'pi': 3135, 'xampp': 3136, 'tour': 3137, 'totally': 3138, 'properties': 3139, 'duty': 3140, 'handover': 3141, 'juniors': 3142, 'communicator': 3143, 'bcp': 3144, 'automatic': 3145, 'fire': 3146, 'telephone': 3147, 'e2e': 3148, 'share': 3149, 'kurla': 3150, 'stop': 3151, 'willingness': 3152, 'vodafone': 3153, '100': 3154, 'researching': 3155, 'odata': 3156, 'fi': 3157, 'craft': 3158, 'supports': 3159, 'many': 3160, 'pro': 3161, 'setups': 3162, 'skillset': 3163, 'enable': 3164, 'vip': 3165, 'ise': 3166, '84': 3167, 'generic': 3168, 'gcp': 3169, 'inception': 3170, 'seaborn': 3171, 'cufflinks': 3172, 'emphasis': 3173, 'brief': 3174, 'unstructured': 3175, 'dates': 3176, 'bluemix': 3177, 'sklearn': 3178, 'rnn': 3179, 'lstm': 3180, 'keras': 3181, 'detect': 3182, 'father': 3183, 'birth': 3184, '1993': 3185, 'mm': 3186, 'approve': 3187, 'conveyor': 3188, 'era': 3189, 'robotics': 3190, 'propose': 3191, 'expression': 3192, 'beans': 3193, 'holy': 3194, 'forms': 3195, 'return': 3196, 'mms': 3197, 'achievement': 3198, 'gulbarga': 3199, 'wai': 3200, 'kisanveer': 3201, 'refcon': 3202, 'bidding': 3203, 'starters': 3204, 'transformer': 3205, 'sf6': 3206, 'matelabs': 3207, 'preprocessing': 3208, 'mec': 3209, 'ulhasnagar': 3210, 'hexaware': 3211, 'could': 3212, 'interviews': 3213, 'early': 3214, 'participating': 3215, 'background': 3216, 'write': 3217, 'lab': 3218, 'iqvia': 3219, 'pay': 3220, 'located': 3221, 'internally': 3222, 'wqr': 3223, 'aurangabad': 3224, 'nafjan': 3225, 'abad': 3226, 'submittals': 3227, 'ofj': 3228, 'listed': 3229, 'architects': 3230, 'incentive': 3231, 'houses': 3232, 'scom': 3233, 'rca': 3234, 'dataguard': 3235, 'speed': 3236, 'samarth': 3237, 'exhibitions': 3238, 'taught': 3239, 'firms': 3240, 'guiding': 3241, 'studies': 3242, 'attract': 3243, 'indira': 3244, 'llb': 3245, 'programing': 3246, 'v10': 3247, 'practices': 3248, 'joins': 3249, 'iii': 3250, 'briefing': 3251, 'addition': 3252, 'carrier': 3253, 'airlines': 3254, 'ordinated': 3255, 'inventories': 3256, 'serving': 3257, 'exceptional': 3258, 'kva': 3259, 'kirloskar': 3260, 'relays': 3261, 'circuit': 3262, 'battery': 3263, 'kw': 3264, 'contactor': 3265, 'martial': 3266, 'medals': 3267, 'executions': 3268, 'reading': 3269, 'postgressql': 3270, 'assets': 3271, 'profitability': 3272, '32': 3273, 'hodoop': 3274, 'wanted': 3275, 'behavior': 3276, 'placed': 3277, 'complied': 3278, 'pfizer': 3279, 'ddr': 3280, 'steering': 3281, 'optimum': 3282, 'intern': 3283, 'even': 3284, 'similarity': 3285, 'negative': 3286, 'committee': 3287, 'translation': 3288, 'matric': 3289, 'fighting': 3290, 'doors': 3291, 'jformdesigner': 3292, 'd365': 3293, 'cit': 3294, 'questionnaire': 3295, 'beyond': 3296, 'allcargo': 3297, 'salesperson': 3298, 'opportunity': 3299, 'consent': 3300, 'weblogic12c': 3301, 'webserver': 3302, 'geneva': 3303, 'preformed': 3304, 'staa': 3305, 'weblogic': 3306, 'owner': 3307, 'adaptability': 3308, 'glyphisoft': 3309, 'millions': 3310, 'collected': 3311, 'hue': 3312, 'toubro': 3313, 'markets': 3314, 'tez': 3315, 'trips': 3316, 'prices': 3317, 'question': 3318, 'remain': 3319, 'gauge': 3320, 'lecturer': 3321, 'shubhankan': 3322, 'limits': 3323, 'gsk': 3324, 'instruction': 3325, 'geepas': 3326, '42': 3327, 'builders': 3328, 'scm': 3329, 'sps12': 3330, 'attribute': 3331, 'beautiful': 3332, 'technique': 3333, 'machinery': 3334, 'category': 3335, 'sociology': 3336, 'sophia': 3337, 'applicants': 3338, 'grants': 3339, 'attractive': 3340, 'contributing': 3341, 'posters': 3342, 'publicity': 3343, 'leaflets': 3344, 'attracting': 3345, 'venue': 3346, 'fm': 3347, 'transmission': 3348, 'interviewees': 3349, 'selecting': 3350, 'presenters': 3351, 'recorded': 3352, 'copyrights': 3353, 'cleared': 3354, 'sonic': 3355, 'xs': 3356, 'netweaver': 3357, 'sd': 3358, 'cs': 3359, 'derby': 3360, 'debugged': 3361, 'confirm': 3362, 'alleviate': 3363, 'fund': 3364, 'indent': 3365, 'mailing': 3366, 'finder': 3367, 'representing': 3368, 'metadata': 3369, 'nordea': 3370, 'wise': 3371, 'introductory': 3372, 'atex': 3373, 'nfpa': 3374, 'iec': 3375, 'nec': 3376, 'sant': 3377, 'gajanan': 3378, 'maharaj': 3379, 'hazardous': 3380, 'outdoor': 3381, 'trench': 3382, 'duct': 3383, 'voltage': 3384, 'unravel': 3385, 'lineage': 3386, 'focus': 3387, 'stability': 3388, 'utilizations': 3389, 'benchmark': 3390, 'greenplum': 3391, 'ubc': 3392, 'expdp': 3393, 'awr': 3394, 'technicalskills': 3395, 'springmvc': 3396, 'azureweb': 3397, 'suntechnologies': 3398, 'restapi': 3399, 'opensourcetechnologies': 3400, 'webservers': 3401, 'apachetomcatserver': 3402, 'internettechnologiesand': 3403, 'onesignalwebpushnotifications': 3404, 'azurewebservices': 3405, 'operatingsystem': 3406, 'windowsserver2012r2': 3407, 'winxp': 3408, 'sapkal': 3409, 'replete': 3410, 'viability': 3411, 'notices': 3412, 'docker': 3413, 'boot': 3414, 'omegasoft': 3415, 'tie': 3416, 'specifically': 3417, 'quantities': 3418, 'predict': 3419, 'braindatawire': 3420, 'parola': 3421, 'dist': 3422, 'ax': 3423, 'san': 3424, 'labour': 3425, 'everywhere': 3426, 'trusted': 3427, 'org': 3428, 'ext': 3429, 'soapbox': 3430, 'gondia': 3431, 'hertz': 3432, 'ghatkopar': 3433, 'ymca': 3434, 'kibana': 3435, 'showrooms': 3436, 'schlumberger': 3437, 'ds': 3438, 'almighty': 3439, 'ldap': 3440, 'frequent': 3441, 'perspective': 3442, 'eliminated': 3443, 'polices': 3444, 'facilitate': 3445, 'prioritizing': 3446, 'failure': 3447, 'scheduler': 3448, 'sccm': 3449, 'rhel': 3450, 'suggestion': 3451, 'fundamentals': 3452, 'wealth': 3453, 'print': 3454, '350': 3455, 'listening': 3456, 'walchand': 3457, 'exceeded': 3458, 's3': 3459, 'incremental': 3460, 'choice': 3461, 'complain': 3462, 'china': 3463, 'engagements': 3464, 'authorization': 3465, 'pick': 3466, 'fair': 3467, 'optimized': 3468, 'conformance': 3469, 'graphical': 3470, 'browser': 3471, 'aware': 3472, 'raise': 3473, 'creative': 3474, 'generally': 3475, 'linguistic': 3476, 'eligible': 3477, 'patients': 3478, 'versions': 3479, 'meraki': 3480, '79': 3481, 'edge': 3482, 'zero': 3483, 'mutual': 3484, 'weight': 3485, 'owners': 3486, 'especially': 3487, 'confluence': 3488, 'sikuli': 3489, 'arya': 3490, 'udemy': 3491, 'synthesize': 3492, 'ification': 3493, 'macros': 3494, 'paced': 3495, 'particularly': 3496, 'formulae': 3497, 'pivots': 3498, 'saints': 3499, 'prudential': 3500, 'multiclient': 3501, 'pheonix': 3502, 'glasgow': 3503, 'transitioned': 3504, 'pmos': 3505, 'robust': 3506, 'saviant': 3507, 'seasoned': 3508, 'supportive': 3509, 'allowed': 3510, 'imaginative': 3511, 'budgeted': 3512, 'dollars': 3513, 'collate': 3514, 'outliers': 3515, 'tl': 3516, 'influence': 3517, 'yearly': 3518, 'publish': 3519, 'ice': 3520, 'ai': 3521, 'produce': 3522, 'arrangement': 3523, '90': 3524, 'keeps': 3525, 'thermal': 3526, 'workers': 3527, 'twice': 3528, 'partner': 3529, '24x7': 3530, '40': 3531, 'maths': 3532, '2900s': 3533, 'catalyst': 3534, 'exec': 3535, '12d': 3536, 'cloudatix': 3537, 'wifi': 3538, 'asha': 3539, 'mmpc': 3540, 'mp': 3541, 'laptop': 3542, 'computerized': 3543, 'sky': 3544, 'subjects': 3545, 'character': 3546, 'aptech': 3547, 'deltannex': 3548, 'integrators': 3549, 'outlays': 3550, 'fostering': 3551, 'teamwork': 3552, 'prioritization': 3553, 'complying': 3554, 'compilation': 3555, 'waivers': 3556, 'concessions': 3557, 'approving': 3558, 'mrn': 3559, 'closeout': 3560, 'constant': 3561, 'earlier': 3562, 'ev': 3563, 'variances': 3564, 'biweekly': 3565, 'adheres': 3566, 'ordinates': 3567, 'tqs': 3568, 'revisions': 3569, 'revision': 3570, 'seoul': 3571, 'south': 3572, 'jas': 3573, 'pc': 3574, 'ja': 3575, 'concerns': 3576, 'sides': 3577, 'invitation': 3578, 'ccvi': 3579, 'permits': 3580, 'teleconference': 3581, 'epc': 3582, 'tbes': 3583, 'fgp': 3584, 'wpmp': 3585, 'tco': 3586, 'mustang': 3587, 'sta': 3588, 'ing': 3589, 'grain': 3590, 'cbi': 3591, 'tanker': 3592, 'miscellaneous': 3593, 'cord': 3594, 'appreciations': 3595, 'mx8800': 3596, 'ccr1': 3597, 'offsites': 3598, 'enppi': 3599, 'ethydco': 3600, 'ethylene': 3601, '2nos': 3602, 'doubts': 3603, 'abu': 3604, 'dhabi': 3605, 'plant6': 3606, 'ml200': 3607, 'tunnel': 3608, 'chevron': 3609, 'oronite': 3610, 'singapore': 3611, 'hmiweb': 3612, '66': 3613, 'noticed': 3614, 'tgi': 3615, 'modernization': 3616, 'kh': 3617, 'nederland': 3618, 'raffinaderji': 3619, 'amsterdam': 3620, 'hg': 3621, 'cmpi': 3622, 'coil': 3623, 'balancing': 3624, 'strategically': 3625, 'ountable': 3626, 'contingency': 3627, 'advises': 3628, 'adopt': 3629, 'freeze': 3630, 'iron': 3631, 'ambiguities': 3632, 'please': 3633, 'annexure': 3634, 'enercon': 3635, 'inverter': 3636, 'converter': 3637, 'igbts': 3638, 'thyristors': 3639, 'secretary': 3640, 'pp': 3641, 'alarm': 3642, 'integrity': 3643, 'indexing': 3644, 'ie': 3645, 'sage': 3646, 'lm': 3647, 'wms': 3648, '050education': 3649, 'landmarkgroup': 3650, 'turnover': 3651, '2200': 3652, 'cr': 3653, 'cheque': 3654, 'correctly': 3655, 'underwriting': 3656, 'costings': 3657, 'followups': 3658, 'trippereri': 3659, 'travels': 3660, 'looked': 3661, 'vish': 3662, 'distributor': 3663, 'amenities': 3664, 'incharge': 3665, 'overlooking': 3666, 'cha': 3667, 'quickest': 3668, 'adhered': 3669, 'rebates': 3670, 'availed': 3671, 'exim': 3672, 'satisfied': 3673, 'obstacles': 3674, 'faced': 3675, 'smoothened': 3676, 'hassel': 3677, 'paybles': 3678, 'manufacture': 3679, 'shortfalls': 3680, 'fze': 3681, 'sophisticated': 3682, 'revenues': 3683, 'excess': 3684, 'eur': 3685, 'annually': 3686, 'acquire': 3687, 'economical': 3688, 'eye': 3689, 'negotiate': 3690, 'charges': 3691, 'americas': 3692, 'snag': 3693, 'loopholes': 3694, 'deadline': 3695, 'transporters': 3696, 'clearances': 3697, 'transportation': 3698, 'loss': 3699, 'european': 3700, 'curtail': 3701, 'wastages': 3702, 'disposal': 3703, 'retired': 3704, 'distributions': 3705, 'receipt': 3706, 'affecting': 3707, 'punctuality': 3708, 'vacation': 3709, 'expired': 3710, 'aligned': 3711, 'procuring': 3712, 'registrations': 3713, 'factories': 3714, 'picking': 3715, 'packing': 3716, 'aed': 3717, 'sabic': 3718, 'discrepancy': 3719, 'stocking': 3720, 'abridged': 3721, 'decrease': 3722, 'turnaround': 3723, 'kuehne': 3724, 'nagel': 3725, 'seafreight': 3726, 'airfreight': 3727, 'overland': 3728, 'negotiated': 3729, 'routes': 3730, 'carriers': 3731, 'essayed': 3732, 'nations': 3733, 'marriot': 3734, 'hilton': 3735, 'movements': 3736, 'far': 3737, 'amman': 3738, 'exit': 3739, 'grievances': 3740, 'courrier': 3741, 'wholly': 3742, 'dpwn': 3743, 'deutsche': 3744, 'ountholders': 3745, 'tracing': 3746, 'undelivered': 3747, 'paperworks': 3748, 'warrants': 3749, 'wns': 3750, 'airlink': 3751, 'jebel': 3752, 'ali': 3753, 'barge': 3754, 'loadouts': 3755, 'adhering': 3756, 'dispatching': 3757, 'reorder': 3758, 'par': 3759, 'radiators': 3760, 'coolers': 3761, 'exchangers': 3762, 'circulating': 3763, 'memos': 3764, 'petty': 3765, 'cashiering': 3766, 'campaigns': 3767, 'escalationseducation': 3768, 'icfai': 3769, 'eliminate': 3770, 'controllership': 3771, 'reengineering': 3772, 'charter': 3773, 'ud': 3774, 'sops': 3775, 'impacted': 3776, 'teleperformance': 3777, 'exploring': 3778, 'preferences': 3779, 'conceptualizing': 3780, 'batch': 3781, 'joiners': 3782, 'barging': 3783, 'adhoc': 3784, 'tag': 3785, 'balancers': 3786, '3600': 3787, '4500': 3788, 'belt': 3789, 'forest': 3790, 'expenditure': 3791, 'demonstrated': 3792, 'centric': 3793, 'deft': 3794, 'delinquencies': 3795, 'dexterity': 3796, 'recoveries': 3797, 'bottom': 3798, 'quartile': 3799, 'relate': 3800, 'verticals': 3801, 'measuring': 3802, 'measured': 3803, 'appropriately': 3804, 'ctl': 3805, 'amex': 3806, 'tid': 3807, 'oceans': 3808, '73': 3809, 'pins': 3810, 'chargeback': 3811, 'replied': 3812, 'bankers': 3813, 'stringent': 3814, 'premises': 3815, 'aforesaid': 3816, 'determining': 3817, 'retain': 3818, 'ags': 3819, 'transact': 3820, 'atms': 3821, 'vertex': 3822, 'con': 3823, 'inclusion': 3824, 'cascading': 3825, 'inward': 3826, 'outward': 3827, 'foi': 3828, 'snail': 3829, 'faculty': 3830, 'enabling': 3831, 'students': 3832, 'likely': 3833, 'associates': 3834, 'subnetting': 3835, 'supernetting': 3836, 'lans': 3837, 'snooping': 3838, 'aaa': 3839, 'bgp': 3840, 'telemetary': 3841, 'fan': 3842, 'sem': 3843, 'simply': 3844, 'senses': 3845, 'moisture': 3846, 'mahatma': 3847, 'acls': 3848, 'rip': 3849, 'tortoise': 3850, 'respect': 3851, 'annotations': 3852, 'swift': 3853, 'universal': 3854, 'bt': 3855, 'join': 3856, 'storm': 3857, 'officeeducation': 3858, 'anaconda': 3859, 'jupyter': 3860, 'arrive': 3861, 'comfort': 3862, 'individually': 3863, 'ministry': 3864, 'gujarat': 3865, 'charge': 3866, 'analysing': 3867, 'ept': 3868, 'niketan': 3869, 'practical': 3870, 'kendoui': 3871, 'reality': 3872, 'dance': 3873, 'overview': 3874, 'reverse': 3875, 'geo': 3876, 'grasping': 3877, 'combines': 3878, 'groomed': 3879, 'dietetics': 3880, 'wellness': 3881, 'viamedia': 3882, 'maternal': 3883, 'nutritional': 3884, 'diet': 3885, 'wcf': 3886, 'schneider': 3887, 'vinayaka': 3888, 'missions': 3889, 'worth': 3890, 'advisors': 3891, 'bs': 3892, 'collects': 3893, '218': 3894, 'brooklyn': 3895, 'pittsburgh': 3896, 'syracuse': 3897, 'collateral': 3898, 'apac': 3899, 'fiserv': 3900, 'firre': 3901, 'tasked': 3902, 'unbilled': 3903, 'resumption': 3904, 'defense': 3905, 'ountability': 3906, 'ore': 3907, 'ordingly': 3908, 'green': 3909, 'eap': 3910, 'underperforming': 3911, 'semiannual': 3912, 'cut': 3913, 'hire': 3914, 'brainshark': 3915, 'encourage': 3916, 'competitive': 3917, 'play': 3918, 'conceptualized': 3919, 'funneling': 3920, 'breakdowns': 3921, 'toll': 3922, 'esses': 3923, 'differentiate': 3924, 'paths': 3925, 'rotation': 3926, 'recognitions': 3927, 'ais': 3928, 'bds': 3929, 'custodian': 3930, 'trustee': 3931, 'paying': 3932, 'registrar': 3933, 'billed': 3934, 'invoiced': 3935, 'mailboxes': 3936, 'equal': 3937, 'spreadsheets': 3938, 'designated': 3939, 'actioned': 3940, 'handoff': 3941, 'counterparts': 3942, 'sigma': 3943, 'ones': 3944, 'corp': 3945, 'tieriii': 3946, 'compiled': 3947, 'stb': 3948, 'flip': 3949, 'span': 3950, 'article': 3951, '29th': 3952, 'customizes': 3953, 'satisfy': 3954, '500': 3955, 'walking': 3956, 'interim': 3957, 'concerning': 3958, 'refunds': 3959, 'credits': 3960, 'queues': 3961, 'intervening': 3962, 'delayed': 3963, 'deriving': 3964, 'hurdles': 3965, 'improvise': 3966, 'expeditious': 3967, 'additions': 3968, 'commonly': 3969, 'urring': 3970, 'motivation': 3971, 'nominated': 3972, 'gecis': 3973, 'lending': 3974, 'leasing': 3975, 'outbound': 3976, 'credibility': 3977, 'absence': 3978, 'focused': 3979, 'dallas': 3980, 'suit': 3981, 'conversation': 3982, 'formerly': 3983, 'introduction': 3984, 'gaia': 3985, 'hcl': 3986, 'comnet': 3987, 'rsa': 3988, 'webdriver': 3989, 'instructor': 3990, 'dental': 3991, 'operate': 3992, 'sculpt': 3993, 'notice': 3994, 'comfortable': 3995, 'utm': 3996, 'fanuc': 3997, 'body': 3998, 'cum': 3999, 'healthy': 4000, 'mrs': 4001, 'cpro': 4002, 'xtraction': 4003, 'rkims': 4004, 'bench': 4005, 'aspiration': 4006, 'crunch': 4007, 'wfm': 4008, 'trended': 4009, 'nld': 4010, 'elevate': 4011, 'trb': 4012, 'te': 4013, 'wims': 4014, 'sims': 4015, 'impacting': 4016, 'coordinates': 4017, 'bu': 4018, 'distribute': 4019, 'ratios': 4020, 'seat': 4021, 'pwd': 4022, 'dob': 4023, '1986': 4024, 'awvpb7123n': 4025, 'passport': 4026, 'j1409038': 4027, 'kannada': 4028, 'konkani': 4029, 'married': 4030, 'inform': 4031, 'reduced': 4032, 'inbuilt': 4033, 'bmn': 4034, 'promoter': 4035, 'ugc': 4036, 'expense': 4037, 'golds': 4038, '63': 4039, 'challenging': 4040, 'gender': 4041, 'awards': 4042, 'tds': 4043, 'collaborator': 4044, 'sanity': 4045, 'bots': 4046, 'shop': 4047, 'notes': 4048, 'netbackup': 4049, 'exporting': 4050, 'academia': 4051, 'sgbau': 4052, 'ssms': 4053, 'blocking': 4054, 'disaster': 4055, 'consistency': 4056, 'viewer': 4057, 'distance': 4058, 'desktop': 4059, 'memory': 4060, 'nettech': 4061, '12k': 4062, 'movie': 4063, 'epi': 4064, 'charni': 4065, 'iis': 4066, 'netezza': 4067, 'packs': 4068, 'schemas': 4069, 'raspberry': 4070, 'obtained': 4071, 'slow': 4072, 'text2': 4073, 'codeigniter': 4074, 'augest': 4075, 'pragat': 4076, 'diifernt': 4077, 'ayur': 4078, 'ayurveda': 4079, 'traditionally': 4080, 'classical': 4081, 'ayurvedic': 4082, 'vitsanindia': 4083, 'shooping': 4084, 'iv': 4085, 'mahabaleshwartours': 4086, 'cityspaceindia': 4087, 'vi': 4088, 'fruitsbuddy': 4089, 'fruitbuddy': 4090, 'guaranteed': 4091, 'vii': 4092, 'totalcitee': 4093, 'visitors': 4094, 'viii': 4095, 'golchha': 4096, 'variety': 4097, 'snapshot': 4098, 'ies': 4099, 'ips': 4100, 'creates': 4101, 'participants': 4102, 'pattern': 4103, 'eco': 4104, 'identity': 4105, 'relating': 4106, 'involvement': 4107, 'connect': 4108, 'temporary': 4109, 'schedulers': 4110, 'pertaining': 4111, 'rack': 4112, 'mysql5': 4113, 'developement': 4114, 'innovesta': 4115, 'priyadarshini': 4116, 'conferring': 4117, 'understood': 4118, 'incorporate': 4119, 'nitka': 4120, 'mintmetrix': 4121, 'tagline': 4122, 'videos': 4123, 'smartbadge': 4124, 'shreekiaspack': 4125, '3staragroproducts': 4126, 'luckystationery': 4127, 'logos': 4128, 'brochures': 4129, 'banners': 4130, 'pamphlet': 4131, 'hoardings': 4132, 'diagnosis': 4133, 'mini': 4134, 'clinics': 4135, 'exploratory': 4136, 'consolidated': 4137, 'ernst': 4138, 'ids': 4139, 'refresh': 4140, 'bills': 4141, 'economics': 4142, 'manipal': 4143, 'omplishments': 4144, 'rolled': 4145, 'telerik': 4146, 'things': 4147, 'crash': 4148, 'tnsnames': 4149, 'mariadb': 4150, 'garments': 4151, 'addm': 4152, 'impdp': 4153, 'bse': 4154, 'speaker': 4155, 'helped': 4156, 'kanban': 4157, 'extreme': 4158, 'fdd': 4159, 'modular': 4160, 'runner': 4161, 'bugzilla': 4162, 'tcp': 4163, 'https': 4164, '109': 4165, '69': 4166, 'discussed': 4167, 'explained': 4168, 'changing': 4169, 'published': 4170, 'epics': 4171, 'grooming': 4172, 'stand': 4173, 'retrospective': 4174, 'came': 4175, 'controlflash': 4176, 'comparetool': 4177, 'fda': 4178, 'initiating': 4179, 'guided': 4180, 'descriptive': 4181, 'scenario': 4182, 'hdfc': 4183, 'vistaar': 4184, 'referred': 4185, 'sanitary': 4186, 'v2002': 4187, 'rayat': 4188, 'bahra': 4189, 'biotechnology': 4190, 'bhawana': 4191, 'aggarwal': 4192, 'bias': 4193, 'vector': 4194, 'unsupervised': 4195, 'reinforcement': 4196, 'google': 4197, 'laterally': 4198, 'reusability': 4199, '78': 4200, 'harnesses': 4201, 'artificial': 4202, 'cognitive': 4203, 'comprises': 4204, 'reasoning': 4205, 'entailed': 4206, 'monster': 4207, 'answered': 4208, 'alll1': 4209, 'nlu': 4210, 'classifications': 4211, 'predicting': 4212, 'mnb': 4213, 'bidirectional': 4214, 'whether': 4215, 'vessel': 4216, 'condenser': 4217, 'khadakwasla': 4218, 'laboratory': 4219, 'harbor': 4220, 'goa': 4221, 'bangladesh': 4222, 'maker': 4223, 'servo': 4224, 'axial': 4225, 'piston': 4226, 'cwprs': 4227, 'v5': 4228, 'proe': 4229, 'curricular': 4230, 'coordinator': 4231, 'readiness': 4232, 'atributes': 4233, 'passionate': 4234, 'datamites': 4235, 'manipulating': 4236, 'markup': 4237, 'glassfish': 4238, 'jharnet': 4239, 'elementary': 4240, 'addressing': 4241, 'lease': 4242, 'osi': 4243, 'customize': 4244, 'byte': 4245, 'doc': 4246, 'explore': 4247, 'litecoin': 4248, 'p2p': 4249, 'lavisa': 4250, 'manageable': 4251, 'adhar': 4252, 'dapp': 4253, 'extc': 4254, 'vashi': 4255, 'fr': 4256, 'agnel': 4257, 'eligibility': 4258, 'enrollment': 4259, 'aggregator': 4260, 'normalizer': 4261, 'sorter': 4262, 'corresponding': 4263, 'figure': 4264, 'membership': 4265, 'kudos': 4266, 'values': 4267, 'saral': 4268, 'restructuring': 4269, 'starting': 4270, 'assuring': 4271, 'prompt': 4272, 'satisfactory': 4273, 'gratuity': 4274, 'manpower': 4275, 'throttle': 4276, 'race': 4277, 'stepcone': 4278, 'contest': 4279, 'gmr': 4280, 'instiute': 4281, 'approaches': 4282, 'abb': 4283, 'scipy': 4284, 'mainly': 4285, 'missing': 4286, 'outlier': 4287, 'dimensionality': 4288, 'meta': 4289, 'estimate': 4290, 'fs': 4291, 'ts': 4292, 'utp': 4293, 'ptf': 4294, 'a2': 4295, 'goethe': 4296, 'maples': 4297, 'rpgle': 4298, '6th': 4299, 'cache': 4300, 'memoization': 4301, 'pws': 4302, 'query400': 4303, 'subfiles': 4304, 'printer': 4305, 'trial': 4306, 'notifications': 4307, 'smes': 4308, 'holder': 4309, 'powertech': 4310, 'dammam': 4311, 'saudi': 4312, 'supervisors': 4313, 'approved': 4314, 'mmrda': 4315, 'leaning': 4316, 'chok': 4317, 'technicalproficiencies': 4318, 'domains': 4319, 'headquarters': 4320, 'operates': 4321, 'investments': 4322, 'securities': 4323, 'bonds': 4324, 'fx': 4325, 'modelers': 4326, 'cfoc': 4327, 'infa': 4328, 'powercenter': 4329, 'jun': 4330, 'advertisement': 4331, 'courter': 4332, 'egc': 4333, 'suffice': 4334, 'belonging': 4335, 'rejection': 4336, 'cognos': 4337, 'mart': 4338, 'niche': 4339, 'casualty': 4340, 'documented': 4341, 'uploaded': 4342, 'yashwantrao': 4343, 'chavan': 4344, 'hgs': 4345, '16th': 4346, 'retaing': 4347, 'casa': 4348, 'shopkeeper': 4349, 'signup': 4350, 'mahal': 4351, '04th': 4352, 'gegenerat': 4353, 'bunglows': 4354, 'plots': 4355, 'bookmyflat': 4356, 'restoring': 4357, 'interval': 4358, 'certifications': 4359, 'jsf': 4360, 'ver': 4361, 'btech': 4362, 'willingdon': 4363, 'martin': 4364, 'integrating': 4365, 'preferred': 4366, 'minimum': 4367, 'trend': 4368, 'interests': 4369, 'tournament': 4370, 'thee': 4371, 'volunteer': 4372, 'tricks': 4373, 'moledina': 4374, '104': 4375, 'f2': 4376, 'applauded': 4377, 'ranked': 4378, 'superior': 4379, 'honoree': 4380, 'thereby': 4381, 'discount': 4382, 'weekends': 4383, 'visualforce': 4384, 'streaming': 4385, 'steaming': 4386, 'drowsiness': 4387, 'detects': 4388, 'drowsy': 4389, 'condition': 4390, 'sanghavi': 4391, 'shree': 4392, 'mahavir': 4393, 'meri': 4394, 'workbench': 4395, 'redshift': 4396, 'athena': 4397, 'kochi': 4398, 'francis': 4399, 'tjdbcconfiguration': 4400, 'tjdbcinput': 4401, 'thdfsconfiguration': 4402, 'ts3configuration': 4403, 'tcacheout': 4404, 'tcachein': 4405, 'tfileinputdelimited': 4406, 'tfileoutputdelimited': 4407, 'tjoin': 4408, 'treplicate': 4409, 'tparallelize': 4410, 'tconverttype': 4411, 'taggregate': 4412, 'tsortrow': 4413, 'tflowmeter': 4414, 'tlogcatcher': 4415, 'trowgenerator': 4416, 'tjava': 4417, 'tjavarow': 4418, 'taggregaterow': 4419, 'tfilter': 4420, 'naming': 4421, 'joblets': 4422, 'trunjob': 4423, 'pass': 4424, 'expressions': 4425, 'implicit': 4426, 'variables': 4427, 'counts': 4428, 'tparalleize': 4429, 'thread': 4430, 'subjobs': 4431, 'parallel': 4432, 'increases': 4433, 'tfilelist': 4434, 'ts3put': 4435, 'tftput': 4436, 'tfileexist': 4437, 'tftpconnection': 4438, 'flatfiles': 4439, 'variable': 4440, 'profound': 4441, 'pursuing': 4442, 'anantrao': 4443, 'pawar': 4444, 'cybage': 4445, 'want': 4446, 'gain': 4447, 'starter': 4448, 'chess': 4449, 'rubik': 4450, 'cube': 4451, 'jspm': 4452, 'jayawantrao': 4453, 'sawant': 4454, 'productively': 4455, 'wallets': 4456, 'alterations': 4457, 'checked': 4458, 'bit': 4459, 'bucket': 4460, 'ins': 4461, 'intio': 4462, 'yee': 4463, 'football': 4464, 'travelling': 4465, 'factual': 4466, 'manish': 4467, 'prabhakar': 4468, 'bharati': 4469, 'vidyapeeth': 4470, 'khalsa': 4471, 'datastage': 4472, 'infocomm': 4473, 'havevbeen': 4474, '3years': 4475, 'acquired': 4476, 'andhra': 4477, 'mostly': 4478, 'visualize': 4479, 'faces': 4480, 'tweets': 4481, 'neutral': 4482, 'enthusiast': 4483, 'evaluated': 4484, 'defence': 4485, 'boards': 4486, 'drf': 4487, 'sqlite': 4488, 'managent': 4489, 'bamu': 4490, 'sqlit3': 4491, 'collectively': 4492, 'switched': 4493, 'example': 4494, 'templates': 4495, 'templating': 4496, 'navigation': 4497, 'pymysql': 4498, 'crud': 4499, 'routines': 4500, 'navigations': 4501, 'paginations': 4502, 'sqlalchemy': 4503, 'restfull': 4504, 'mvt': 4505, 'ejb': 4506, 'centralized': 4507, 'know': 4508, 'combined': 4509, 'proficiencies': 4510, 'fedora': 4511, 'cent': 4512, 'ryk': 4513, 'ites': 4514, 'directed': 4515, 'mgmt': 4516, 'alternatives': 4517, 'amendment': 4518, 'plotting': 4519, 'bought': 4520, 'thumb': 4521, 'realistic': 4522, 'databanks': 4523, 'readily': 4524, 'dept': 4525, 'submitting': 4526, 'pending': 4527, 'concern': 4528, 'pain': 4529, 'tailor': 4530, 'predesigned': 4531, 'chemtronics': 4532, 'commercially': 4533, 'viable': 4534, 'savings': 4535, 'finalization': 4536, 'comparisons': 4537, 'digitize': 4538, 'incoming': 4539, 'note': 4540, 'buying': 4541, 'finders': 4542, 'ask': 4543, 'quote': 4544, 'substantial': 4545, 'expenditures': 4546, 'dombivali': 4547, 'kaylan': 4548, 'pneumatics': 4549, 'comparing': 4550, 'schrader': 4551, 'modify': 4552, 'assy': 4553, 'assure': 4554, 'conformity': 4555, 'nc': 4556, 'touch': 4557, 'hods': 4558, 'iso9001': 4559, 'dealers': 4560, 'hoist': 4561, 'lifts': 4562, 'joist': 4563, 'mech': 4564, 'rabale': 4565, 'thane': 4566, 'mukand': 4567, 'marking': 4568, 'machining': 4569, 'surface': 4570, 'finishing': 4571, 'springernature': 4572, 'akzonobel': 4573, 'sincere': 4574, 'rlt': 4575, 'trainee': 4576, 'ray': 4577, 'glaxo': 4578, 'smith': 4579, 'kline': 4580, 'usd': 4581, 'effluent': 4582, 'method': 4583, 'certificates': 4584, 'observations': 4585, 'gulf': 4586, 'contracting': 4587, 'concrete': 4588, 'inspections': 4589, 'correction': 4590, 'pertinent': 4591, 'dahej': 4592, 'importer': 4593, 'tons': 4594, 'villas': 4595, 'pal': 4596, 'deloitte': 4597, 'usi': 4598, 'sentence': 4599, 'fmcg': 4600, 'decomposition': 4601, 'bobj': 4602, 'segmentation': 4603, 'rfm': 4604, 'python3': 4605, 'verifying': 4606, 'closed': 4607, 'kpis': 4608, 'functionalities': 4609, 'psychology': 4610, 'malappuram': 4611, 'fruit': 4612, 'liabrary': 4613, 'matplolib': 4614, 'ountabilities': 4615, 'testability': 4616, 'liabray': 4617, 'tk': 4618, 'dyanamics': 4619, 'vidisha': 4620, 'nltk': 4621, 'cosine': 4622, 'mould': 4623, 'alamuri': 4624, 'ratnamala': 4625, 'rajdevi': 4626, 'maharshtra': 4627, '1year': 4628, 'surya': 4629, 'wall': 4630, 'perhaps': 4631, 'ideally': 4632, 'rendering': 4633, 'easier': 4634, 'effortless': 4635, 'mortar': 4636, 'detais': 4637, 'gyandatt': 4638, 'chauhan': 4639, 'oop': 4640, 'linq': 4641, 'kendo': 4642, 'politician': 4643, 'fees': 4644, 'marks': 4645, 'expiry': 4646, 'otherwise': 4647, 'ni': 4648, 'lux': 4649, 'convincing': 4650, 'dependability': 4651, 'taxing': 4652, 'demanding': 4653, 'reasonably': 4654, 'stretchable': 4655, 'slots': 4656, 'cooperatively': 4657, 'shope': 4658, 'telle': 4659, 'caller': 4660, 'finserv': 4661, 'square': 4662, 'corda': 4663, 'tendermint': 4664, 'specilaized': 4665, 'reactjs': 4666, 'angulareducation': 4667, 'blood': 4668, 'vidyashram': 4669, 'une': 4670, 'amway': 4671, 'bharti': 4672, 'scholar': 4673, 'tor': 4674, 'vergata': 4675, 'journal': 4676, 'ijar': 4677, '20656': 4678, 'reviewer': 4679, 'revolutionizing': 4680, 'ijsrd': 4681, 'maharastra': 4682, 'interns': 4683, 'drums': 4684, 'positron': 4685, 'equality': 4686, 'violence': 4687, 'essibility': 4688, 'briefings': 4689, 'advice': 4690, 'poi': 4691, 'white': 4692, 'globalization': 4693, 'compatibility': 4694, 'stlc': 4695, 'retesting': 4696, 'ess2007': 4697, 'valuable': 4698, 'bcs': 4699, 'fromjspm': 4700, 'ale': 4701, 'idoc': 4702, 'ewm': 4703, 'apo': 4704, '4hana': 4705, 'bachelors': 4706, 'adoption': 4707, 'ul': 4708, 'litigation': 4709, 'gross': 4710, 'counterpart': 4711, 'workaround': 4712, 'delay': 4713, 'weather': 4714, 'suggested': 4715, 'swing': 4716, 'petroleum': 4717, '06th': 4718, 'boiler': 4719, 'started': 4720, 'rescheduling': 4721, 'kindo': 4722, 'satara': 4723, 'sdnbvc': 4724, 'anything': 4725, 'golang': 4726, 'culturally': 4727, 'fit': 4728, 'microservices': 4729, 'consensuseducation': 4730, 'malaviya': 4731, 'kolhapur': 4732, 'tradefinex': 4733, 'registry': 4734, 'mh': 4735, 'infactor': 4736, 'factoring': 4737, 'erc': 4738, 'oro': 4739, 'orowealth': 4740, 'commision': 4741, 'mf': 4742, '22k': 4743, 'cakephp': 4744, 'passengers': 4745, 'customisation': 4746, 'endpoints': 4747, 'opencart': 4748, 'ka': 4749, 'birst': 4750, 'utilising': 4751, 'ties': 4752, 'nallasopara': 4753, 'encharge': 4754, 'near': 4755, 'casting': 4756, 'exterior': 4757, 'sec': 4758, 'ramesh': 4759, 'gaarment': 4760, 'tirupur': 4761, 'guru': 4762, 'nanak': 4763, 'emperor': 4764, 'cars': 4765, 'sportsmen': 4766, 'tournaments': 4767, 'esd': 4768, 'employability': 4769, 'jscoe': 4770, 'sparkle': 4771, 'avishkar': 4772, 'sponsorship': 4773, 'platinum': 4774, 'enfield': 4775, 'rank': 4776, 'poster': 4777, 'ambulance': 4778, 'arduino': 4779, 'skncoe': 4780, 'competitions': 4781, 'pict': 4782, 'opencv': 4783, 'pil': 4784, 'optimistic': 4785, 'teamleader': 4786, 'visualizing': 4787, 'grip': 4788, 'loyal': 4789, 'compatible': 4790, 'amity': 4791, 'cohesive': 4792, 'entrepreneur': 4793, 'syllabus': 4794, 'mscit': 4795, 'milling': 4796, 'honest': 4797, 'criculum': 4798, 'adani': 4799, 'suzuki': 4800, 'jet': 4801, 'airways': 4802, 'rd': 4803, 'seen': 4804, 'jsw': 4805, 'urja': 4806, 'assembly': 4807, 'disassembly': 4808, 'nd': 4809, 'punching': 4810, 'paddle': 4811, 'sugarcane': 4812, 'juicer': 4813, 'super': 4814, 'navshar': 4815, 'navnirman': 4816, 'festival': 4817, 'none': 4818, 'sns': 4819, 'bancs': 4820, 'los': 4821, 'credence': 4822, 'scd1': 4823, 'sever': 4824, 'preserving': 4825, 'sdk': 4826, 'wdeploy': 4827, 'separate': 4828, 'vintela': 4829, 'sso': 4830, 'clock': 4831, 'embedding': 4832, 'lda': 4833, 'nmf': 4834, 'visualizations': 4835, 'd3': 4836, 'investigations': 4837, 'tar': 4838, 'evidence': 4839, 'chatbot': 4840, 'preforming': 4841, 'investigative': 4842, 'buildcon': 4843, 'apartments': 4844, 'maharashatra': 4845, 'native': 4846, 'planviz': 4847, 'sda': 4848, 'fujitsu': 4849, 'modifying': 4850, 'donald': 4851, 'atharva': 4852, 'trials': 4853, 'chandigarh': 4854, 'cgpa': 4855, '600': 4856, 'devising': 4857, 'aditya': 4858, 'performs': 4859, 'gets': 4860, 'typical': 4861, 'cutover': 4862, 'decommissioning': 4863, 'niit': 4864, 'depth': 4865, 'drill': 4866, 'label': 4867, 'ooad': 4868, 'acting': 4869, 'varying': 4870, 'ao': 4871, 'manually': 4872, 'introduced': 4873, '9i': 4874, 'explaining': 4875, 'flexible': 4876, 'rms': 4877, 'arrangements': 4878, 'forge': 4879, 'sizes': 4880, 'phases': 4881, 'pg': 4882, 'requested': 4883, 'ssrs': 4884, 'predefined': 4885, 'amazon': 4886, 'soa': 4887, 'north': 4888, 'maximum': 4889, 'pac': 4890, 'backgrounds': 4891, 'assignments': 4892, 'oops': 4893, '0education': 4894, 'vidyabharati': 4895, 'winsol': 4896, 'opening': 4897, 'settlement': 4898, 'fluency': 4899, 'relationeducation': 4900, 'rivzi': 4901, 'allana': 4902, 'canossa': 4903, 'interdependencies': 4904, 'derivable': 4905, 'commversion': 4906, 'ease': 4907, 'matched': 4908, 'relocate': 4909, 'vtu': 4910, 'vishweshwariya': 4911, 'mahavidyalay': 4912, 'kohlapur': 4913, 'greenfield': 4914, 'libs': 4915, 'braseries': 4916, 'burkena': 4917, 'faso': 4918, 'africa': 4919, 'citrus': 4920, 'carlsberg': 4921, 'myanmar': 4922, 'yangon': 4923, 'mysore': 4924, 'haldiram': 4925, 'tetra': 4926, 'pak': 4927, 'amreli': 4928, 'instrument': 4929, 'philosophy': 4930, 'trays': 4931, 'apfc': 4932, 'metering': 4933, 'pts': 4934, 'acbs': 4935, 'analog': 4936, 'floating': 4937, 'alignment': 4938, 'route': 4939, 'tray': 4940, 'danfoss': 4941, 'schnider': 4942, 'vacon': 4943, 's7': 4944, '1200': 4945, '1500': 4946, 'et': 4947, '200s': 4948, 'allen': 4949, 'bready': 4950, 'logix5000': 4951, 'modulating': 4952, 'solenoid': 4953, 'meter': 4954, 'sugars': 4955, 'erection': 4956, 'allied': 4957, 'overhauling': 4958, 'shunt': 4959, 'switchgears': 4960, 'vfds': 4961, 'dg': 4962, 'amf': 4963, 'acb': 4964, 'vcb': 4965, 'fcbc': 4966, 'microprocessor': 4967, 'numerical': 4968, 'bizagi': 4969, 'indigo': 4970, 'waterfall': 4971, 'thadomal': 4972, 'shahani': 4973, 'bbh': 4974, 'brown': 4975, 'brothers': 4976, 'harriman': 4977, 'merger': 4978, 'advisory': 4979, 'custody': 4980, 'financing': 4981, 'describes': 4982, 'aht': 4983, 'calculated': 4984, 'calculating': 4985, 'complexity': 4986, 'considered': 4987, 'licenses': 4988, 'converted': 4989, 'constructing': 4990, 'toward': 4991, 'eptable': 4992, 'fadv': 4993, 'delivers': 4994, 'screenings': 4995, 'flagging': 4996, 'aging': 4997, 'ar': 4998, 'rebill': 4999, 'formal': 5000, 'approvers': 5001, 'translating': 5002, 'collaborating': 5003, 'fulfill': 5004, 'initiation': 5005, 'expected': 5006, 'pat': 5007, 'representations': 5008, 'baseline': 5009, 'eduavenir': 5010, 'procured': 5011, 'sold': 5012, 'returned': 5013, 'invoicesalong': 5014, 'withcustomized': 5015, 'managescustomer': 5016, 'complaint': 5017, 'forecastingis': 5018, 'pod': 5019, 'stay': 5020, 'conjunction': 5021, 'designers': 5022, 'nuances': 5023, 'finally': 5024, 'movement': 5025, 'golive': 5026, 'requires': 5027, 'eliciting': 5028, 'dependency': 5029, 'humana': 5030, 'supplying': 5031, 'citizens': 5032, 'citizen': 5033, 'drug': 5034, 'choose': 5035, 'progressive': 5036, 'sultan': 5037, 'jabalpur': 5038, 'takshshila': 5039, 'wab': 5040, 'softwere': 5041, 'cpu': 5042, 'psu': 5043, 'disks': 5044, 'sync': 5045, 'lagging': 5046, 'archives': 5047, 'migrations': 5048, 'brose': 5049, 'vm': 5050, 'revoking': 5051, 'weekend': 5052, 'keen': 5053, 'solutionseducation': 5054, '210': 5055, 'campus': 5056, 'vj': 5057, 'pharmacy': 5058, 'personality': 5059, 'agricultural': 5060, 'hrs': 5061, 'elringklinger': 5062, 'automotives': 5063, 'kubler': 5064, 'chakan': 5065, 'finanza': 5066, 'pimple': 5067, 'saudagar': 5068, 'sharvari': 5069, 'junner': 5070, 'entrepreneurship': 5071, '168': 5072, 'narayangaon': 5073, '229': 5074, 'adjoining': 5075, 'fashion': 5076, 'infrasoft': 5077, 'detector': 5078, 'deduplication': 5079, 'pointers': 5080, 'oot': 5081, 'pps': 5082, 'ias': 5083, 'cipher': 5084, 'dated': 5085, 'repo': 5086, 'pharmaceuticals': 5087, 'chemicals': 5088, 'customization': 5089, 'remove': 5090, 'mphasis': 5091, 'ag': 5092, 'mirror': 5093, 'mastek': 5094, 'v11': 5095, 'v12': 5096, 'foundations': 5097, 'trimax': 5098, 'problematic': 5099, 'myisam': 5100, 'innodb': 5101, 'shifting': 5102, 'parameter': 5103, 'purging': 5104, 'xtrabackup': 5105, '625': 5106, 'diesel': 5107, 'provision': 5108, 'interlocking': 5109, 'vacuum': 5110, '5000': 5111, '2000a': 5112, 'wtp': 5113, 'blower': 5114, 'eot': 5115, 'crane': 5116, 'mono': 5117, 'rail': 5118, 'centrifugal': 5119, 'pumps': 5120, 'rolling': 5121, 'lath': 5122, 'ahu': 5123, 'chiller': 5124, 'charger': 5125, '450': 5126, '110v': 5127, 'resetting': 5128, 'factor': 5129, '55': 5130, 'submersible': 5131, 'auxiliary': 5132, 'effecting': 5133, 'uptime': 5134, '33': 5135, '22kv': 5136, 'feeder': 5137, '11kv': 5138, 'maint': 5139, 'aspect': 5140, 'familiar': 5141, 'lockout': 5142, 'permit': 5143, 'protective': 5144, 'ident': 5145, '2021': 5146, 'entermediate': 5147, 'sunbeam': 5148, 'samne': 5149, 'ghat': 5150, 'varanasi': 5151, 'dan': 5152, 'represented': 5153, 'croatia': 5154, 'jhulelal': 5155, 'dayanand': 5156, 'kanya': 5157, 'december': 5158, 'medicinal': 5159, 'ailments': 5160, 'surgical': 5161, 'wholesalers': 5162, 'ordering': 5163, 'debtor': 5164, 'freelancers': 5165, 'oldest': 5166, 'fulfil': 5167, 'rose': 5168, 'weka': 5169, 'hat': 5170, 'msbte': 5171, 'dnyanganaga': 5172, 'takali': 5173, 'kerberos': 5174, 'securing': 5175, 'dxc': 5176, 'hpe': 5177, 'emr': 5178, 'hdinsight': 5179, 'bent': 5180, 'mind': 5181, 'unlearn': 5182, 'relearn': 5183, 'surely': 5184, 'handy': 5185, 'center8': 5186, 'intellij': 5187, '11geducation': 5188, 'avail': 5189, 'spending': 5190, 'ranges': 5191, 'analyes': 5192, 'regulators': 5193, 'analyses': 5194, 'retrieve': 5195, 'terabytes': 5196, 'trun': 5197, 'vistor': 5198, 'crawl': 5199, 'tabular': 5200, 'oracle11g': 5201, 'etrack': 5202, 'tsp': 5203, 'sadms': 5204, 'gfs': 5205, 'gdo': 5206, 'goes': 5207, 'slows': 5208, 'replace': 5209, 'extracts': 5210, 'upstream': 5211, 'epecs': 5212, 'cdss': 5213, 'rcm': 5214, 'prc': 5215, 'edh': 5216, 'dimensional': 5217, 'aggregators': 5218, 'sorters': 5219, 'dependencies': 5220, 'sk': 5221, 'mapplet': 5222, 'populate': 5223, 'worklets': 5224, 'utc': 5225, 'type1': 5226, 'type2': 5227, 'cdc': 5228, 'jijayi': 5229, 'heights': 5230, '118': 5231, 'narhe': 5232, 'chowki': 5233, '411041': 5234, 'highly': 5235, 'microsft': 5236, 'excell': 5237, 'navy': 5238, 'nuclear': 5239, 'biological': 5240, 'chemical': 5241, '04': 5242, 'citrix': 5243, 'v9': 5244, 'artifact': 5245, 'vlsi': 5246, '75': 5247, 'frds': 5248, 'walkthrough': 5249, 'assess': 5250, 'importers': 5251, 'exporters': 5252, 'scoring': 5253, 'assessed': 5254, 'certain': 5255, 'brds': 5256, 'fsds': 5257, 'bureau': 5258, 'discontinued': 5259, 'schenker': 5260, 'impart': 5261, 'mwb': 5262, 'legs': 5263, 'leg': 5264, 'hudson': 5265, 'xcode': 5266, 'sierra': 5267, 'goregaon': 5268, 'vidyalankar': 5269, 'john': 5270, 'formatter': 5271, 'gmf': 5272, 'reads': 5273, 'encapsulation': 5274, 'tlv': 5275, 'validations': 5276, 'cosmoss': 5277, 'ejbs': 5278, 'facing': 5279, 'rent': 5280, 'ware': 5281, 'becomes': 5282, 'zookeeper': 5283, 'latin': 5284, 'principles': 5285, 'affect': 5286, 'tpt': 5287, 'partitions': 5288, 'launching': 5289, 'websphere': 5290, 'v8': 5291, 'discover': 5292, 'hiveql': 5293, 'partitioning': 5294, 'de': 5295, 'normalized': 5296, 'avro': 5297, 'standardizations': 5298, 'orchestrate': 5299, 'jdk': 5300, 'guwahati': 5301, 'gauhati': 5302, 'hindustan': 5303, 'mill': 5304, 'forums': 5305, 'tectia': 5306, 'notebool': 5307, 'unixeducation': 5308, 'dbs': 5309, 'srm': 5310, 'technosoft': 5311, 'citibank': 5312, 'aml': 5313, 'tm': 5314, 'icg': 5315, 'responesbilities': 5316, 'layered': 5317, 'workspace': 5318, 'suspicious': 5319, 'fraudulent': 5320, 'ran': 5321, 'horton': 5322, 'hdp2': 5323, 'alcatel': 5324, 'lucent': 5325, '1x': 5326, 'ruckus': 5327, 'wireless': 5328, 'mediation': 5329, 'oms': 5330, 'rf': 5331, 'boost': 5332, 'framwe': 5333, '56': 5334, '07education': 5335, 'artist': 5336, 'atd': 5337, 'bfa': 5338, 'mfa': 5339, 'rangoli': 5340, 'summer': 5341, 'disability': 5342, 'orthopedically': 5343, 'osmania': 5344, 'hand': 5345, 'joint': 5346, 'completing': 5347, 'pipe': 5348, 'packet': 5349, 'tracer': 5350, 'overcome': 5351, 'shoulder': 5352, 'algo': 5353, 'farming': 5354, 'prakshal': 5355, 'dues': 5356, 'mortgage': 5357, 'skillseducation': 5358, '1997': 5359, '1996': 5360, 'teresa': 5361, 'convent': 5362, 'theatre': 5363, 'conception': 5364, 'deputy': 5365, 'compelling': 5366, 'convey': 5367, 'charles': 5368, 'wallace': 5369, 'entrepreneurs': 5370, 'chevening': 5371, 'clore': 5372, 'scholarship': 5373, 'shortlisting': 5374, 'fellowships': 5375, 'geographic': 5376, 'officials': 5377, 'partnership': 5378, 'continents': 5379, 'connecting': 5380, 'cultures': 5381, 'bc': 5382, 'ambitious': 5383, 'strengthening': 5384, 'colleagues': 5385, 'longer': 5386, 'performers': 5387, 'artists': 5388, 'performances': 5389, 'authorities': 5390, 'film': 5391, 'outreach': 5392, 'aircheck': 5393, 'intended': 5394, 'metros': 5395, 'pitching': 5396, 'commissions': 5397, 'reporters': 5398, 'mixing': 5399, 'vegas': 5400, 'acid': 5401, 'midi': 5402, 'definitive': 5403, 'continent': 5404, 'surrounds': 5405, 'exclusive': 5406, 'sensibility': 5407, 'editorial': 5408, 'publishing': 5409, 'covers': 5410, 'genre': 5411, 'perspectives': 5412, 'photographers': 5413, 'freelance': 5414, 'writers': 5415, 'storming': 5416, 'decide': 5417, 'primarily': 5418, 'banyan': 5419, 'french': 5420, 'embassy': 5421, 'oxygen': 5422, 'sonarqube': 5423, 'responsibilitis': 5424, 'adavance': 5425, 'multicultural': 5426, 'continued': 5427, 'tybcom': 5428, 'motilal': 5429, 'oswal': 5430, 'cag': 5431, 'derivative': 5432, 'macro': 5433, 'bd': 5434, 'investors': 5435, 'fss': 5436, 'depa': 5437, 'ment': 5438, 'custodians': 5439, 'percentage': 5440, 'angel': 5441, 'broking': 5442, 'manger': 5443, 'repots': 5444, 'remark': 5445, 'premier': 5446, 'biopharmaceutical': 5447, 'produces': 5448, 'va': 5449, 'ines': 5450, 'immunology': 5451, 'oncology': 5452, 'cardiology': 5453, 'endocrinology': 5454, 'neurology': 5455, 'pathways': 5456, 'journey': 5457, 'rare': 5458, 'cdh3': 5459, 'tb': 5460, 'nfs': 5461, 'nn': 5462, 'sparkapi': 5463, 'imported': 5464, 'bucketing': 5465, 'sparkcontext': 5466, 'orc': 5467, 'parquet': 5468, 'serialization': 5469, 'snappy': 5470, 'compression': 5471, 'showing': 5472, 'articulate': 5473, 'cca': 5474, '175': 5475, 'november': 5476, 'looking': 5477, 'slipstream': 5478, 'grant': 5479, 'archive': 5480, 'smsql': 5481, 'deletion': 5482, 'shrinking': 5483, 'entries': 5484, 'calm': 5485, 'spirit': 5486, 'cope': 5487, 'fluent': 5488, 'dep': 5489, 'prof': 5490, 'jawaleker': 5491, 'nangal': 5492, 'mandir': 5493, '74': 5494, 'osmoflo': 5495, 'overseas': 5496, 'australia': 5497, 'vivid': 5498, 'electromech': 5499, '20th': 5500, 'stabilizers': 5501, 'bust': 5502, 'stabilizer': 5503, 'authorised': 5504, 'ti': 5505, 'ador': 5506, 'welding': 5507, '17th': 5508, 'conversant': 5509, 'etap': 5510, 'csa': 5511, 'iecex': 5512, 'dfmea': 5513, 'bid': 5514, 'sat': 5515, 'yibal': 5516, 'oman': 5517, '6thmay': 5518, 'cfbc': 5519, 'turbine': 5520, 'routine': 5521, '132kv': 5522, 'ac': 5523, 'yard': 5524, 'cadd': 5525, 'jm': 5526, 'omplish': 5527, 'ethical': 5528, 'medi': 5529, 'caps': 5530, 'division': 5531, 'injecting': 5532, 'govern': 5533, 'increasing': 5534, 'sends': 5535, 'ingest': 5536, 'server2': 5537, 'serde': 5538, 'wm': 5539, 'tws': 5540, 'authentic': 5541, 'morgan': 5542, 'stanley': 5543, 'absa': 5544, 'wmdatalake': 5545, 'become': 5546, 'optimising': 5547, 'pso': 5548, 'gradation': 5549, 'resizing': 5550, 'renaming': 5551, 'datafiles': 5552, 'restoration': 5553, 'silent': 5554, 'oem': 5555, 'crontab': 5556, 'transactional': 5557, 'undo': 5558, 'atom': 5559, 'unanth': 5560, 'solo': 5561, 'uom': 5562, 'reason': 5563, 'dinman': 5564, 'displaying': 5565, 'agri': 5566, 'vegetables': 5567, 'assignment': 5568, 'newspapers': 5569, 'subscriptions': 5570, 'light': 5571, 'advertisements': 5572, 'facebook': 5573, 'ghs': 5574, 'bhuli': 5575, 'enigma': 5576, 'rplus': 5577, 'uses': 5578, 'sentiments': 5579, 'derive': 5580, 'identifies': 5581, 'hordes': 5582, 'selects': 5583, 'datasets': 5584, 'infiniteworx': 5585, 'omnichannel': 5586, 'diagnose': 5587, 'redo': 5588, 'scheme': 5589, 'camp': 5590, 'sponsored': 5591, 'youth': 5592, 'affairs': 5593, '201': 5594, 'faithfully': 5595, 'pia': 5596, 'jetalal': 5597, 'hiralal': 5598, 'gorbanjara': 5599, 'political': 5600, 'sci': 5601, 'bahadarpur': 5602, 'tai': 5603, '11gr2': 5604, 'dbca': 5605, 'netmgr': 5606, 'netca': 5607, 'ash': 5608, 'marketplace': 5609, 'emc': 5610, 'passive': 5611, 'ec': 5612, 'hydrocarbon': 5613, 'punctual': 5614, 'respectfulness': 5615, 'true': 5616, 'sciene': 5617, 'amaravti': 5618, 'sprinng': 5619, 'oim': 5620, 'oam': 5621, 'ohs': 5622, '99': 5623, 'contributed': 5624, 'haryana': 5625, 'exceleducation': 5626, 'manoharbhai': 5627, 'patel': 5628, 'resrent': 5629, 'portfolios': 5630, 'hit': 5631, 'interfaces': 5632, 'ucs': 5633, 'debug': 5634, 'effect': 5635, 'multifunctional': 5636, 'programmers': 5637, 'rachana': 5638, 'sansad': 5639, 'deign': 5640, 'jungle': 5641, 'cubs': 5642, 'spent': 5643, 'conflict': 5644, 'much': 5645, 'fino': 5646, 'sawitribai': 5647, 'ides': 5648, 'trimurti': 5649, 'realestate': 5650, 'vimay': 5651, '58': 5652, 'cometchat': 5653, 'pjlce': 5654, 'mansa': 5655, 'interview': 5656, 'intervlan': 5657, 'ripv2': 5658, 'ripng': 5659, 'acl': 5660, 'vtp': 5661, 'ehterchannel': 5662, 'hsrp': 5663, 'ipv6': 5664, '1800s': 5665, '1900s': 5666, '2600s': 5667, '3600s': 5668, '3800s': 5669, '7200s': 5670, '3700s': 5671, '4850s': 5672, 'proliant': 5673, 'lenovo': 5674, 'modem': 5675, 'rodc': 5676, 'wds': 5677, 'ris': 5678, 'virtualisation': 5679, 'esxi': 5680, 'workstation': 5681, 'virtualbox': 5682, 'gns3': 5683, 'simulator': 5684, 'aisect': 5685, 'jiwaji': 5686, 'railwire': 5687, 'railtel': 5688, 'trenching': 5689, 'handing': 5690, 'bali': 5691, 'pali': 5692, 'dpmcu': 5693, 'milknet': 5694, 'ems': 5695, 'qms': 5696, 'scindia': 5697, 'fort': 5698, 'gwalior': 5699, 'teva': 5700, 'bhind': 5701, 'endpoint': 5702, 'unicenter': 5703, 'outlook': 5704, 'token': 5705, 'desktops': 5706, 'laptops': 5707, 'differential': 5708, 'corrupted': 5709, 'deleted': 5710, 'identally': 5711, 'nava': 5712, 'helpdesk': 5713, 'erp9': 5714, 'acquisition': 5715, 'numerous': 5716, 'netscreen': 5717, 'fwsm': 5718, 'familiarity': 5719, 'zenoss': 5720, 'solarwinds': 5721, '1800': 5722, '1900': 5723, '2500': 5724, '2600': 5725, '2800': 5726, 'nexus': 5727, '5k': 5728, '7k': 5729, '3750': 5730, 'bluecoat': 5731, 'sinhgad': 5732, 'boys': 5733, 'loadbalncing': 5734, 'undergo': 5735, 'caab': 5736, 'downgrade': 5737, 'decommission': 5738, 'l3vpn': 5739, 'comparative': 5740, 'mediums': 5741, 'ipv4': 5742, 'reconnaissance': 5743, 'ccnp': 5744, 'spanning': 5745, 'queuing': 5746, 'penultimate': 5747, 'ntp': 5748, 'netflow': 5749, 'fundamental': 5750, 'limit': 5751, 'damages': 5752, 'heating': 5753, 'watering': 5754, 'enginner': 5755, 'access': 5756, 'dm': 5757, 'failovers': 5758, 'stormfur': 5759, 'stromfur': 5760, 'assam': 5761, 'adapt': 5762, 'enjoy': 5763, 'representatives': 5764, 'seamless': 5765, 'schools': 5766, 'mcm': 5767, 'malaysia': 5768, 'conversion': 5769, 'comprising': 5770, 'continuity': 5771, 'smt': 5772, 'vhd': 5773, 'homescience': 5774, 'sas': 5775, 'subscribers': 5776, 'healthier': 5777, 'karma': 5778, 'innovations': 5779, 'jointly': 5780, 'campaign': 5781, 'glaxosmithkline': 5782, 'camps': 5783, 'practicing': 5784, 'gynaecologists': 5785, 'allotted': 5786, 'conveying': 5787, 'importance': 5788, 'nutrient': 5789, 'contain': 5790, 'nutrients': 5791, 'checkups': 5792, '800': 5793, 'cities': 5794, '3000': 5795, 'leaders': 5796, 'looks': 5797, 'medicals': 5798, 'whose': 5799, 'regulation': 5800, 'irda': 5801, 'mnyl': 5802, 'iinsurance': 5803, 'baxa': 5804, 'metlife': 5805, 'canara': 5806, 'deferrals': 5807, 'professionalism': 5808, 'vlcc': 5809, 'instructions': 5810, 'eating': 5811, 'distributors': 5812, 'slimming': 5813, 'vb6': 5814, 'debt': 5815, 'splat': 5816, 'csm': 5817, 'panorama': 5818, 'balancer': 5819, 'rsaenvision': 5820, 'bmc': 5821, 'scriptingeducation': 5822, '89': 5823, '5500': 5824, 'pools': 5825, 'offloading': 5826, 'renewals': 5827, 'pulse': 5828, 'realm': 5829, 'hld': 5830, 'lld': 5831, 'resiliency': 5832, 'lockdown': 5833, 'r75': 5834, 'r77': 5835, 'belongs': 5836, '29xx': 5837, '28xx': 5838, '19xx': 5839, '3560': 5840, 'dealt': 5841, 'moitoring': 5842, 'envision': 5843, 'siem': 5844, 'false': 5845, 'positives': 5846, 'malicious': 5847, 'qualis': 5848, 'correlation': 5849, 'parsers': 5850, 'uds': 5851, 'unsupported': 5852, 'consisting': 5853, '3845': 5854, '3750e': 5855, 'chassis': 5856, '5550': 5857, 'sa': 5858, '6500': 5859, 'entrust': 5860, '2fa': 5861, 'ebs': 5862, 'physiology': 5863, 'fl': 5864, 'florida': 5865, 'microbiology': 5866, 'abasaheb': 5867, 'garware': 5868, 'cardiovascular': 5869, 'cycling': 5870, 'ommodating': 5871, 'age': 5872, 'ompanying': 5873, 'metabolic': 5874, 'hypertension': 5875, 'obesity': 5876, 'ultimate': 5877, 'tripod': 5878, 'arena': 5879, 'considering': 5880, 'recruiting': 5881, 'rotas': 5882, 'retaining': 5883, 'emergencies': 5884, 'often': 5885, 'cashing': 5886, 'supplements': 5887, 'exciting': 5888, 'grouper': 5889, 'projections': 5890, 'legislation': 5891, 'endurance': 5892, 'certainly': 5893, 'polite': 5894, 'careful': 5895, 'considerate': 5896, 'thrive': 5897, 'enthusiasm': 5898, 'creativity': 5899, 'uncover': 5900, 'tenacious': 5901, 'akbar': 5902, 'peerbhoy': 5903, 'comm': 5904, 'janta': 5905, 'karvy': 5906, 'innotech': 5907, 'diagnostics': 5908, 'wi': 5909, 'administer': 5910, 'url': 5911, 'appliances': 5912, 'isps': 5913, 'sify': 5914, 'tikona': 5915, 'ho': 5916, 'crimping': 5917, 'mounting': 5918, 'ciso': 5919, 'diplomatically': 5920, 'seema': 5921, 'ansalon': 5922, 'massage': 5923, 'scalp': 5924, 'swedish': 5925, 'reflexology': 5926, 'aromatherapy': 5927, 'aerobics': 5928, 'radio': 5929, 'bhavan': 5930, 'slender': 5931, 'raymond': 5932, 'aroma': 5933, 'rudraaksh': 5934, 'plaza': 5935, 'windsor': 5936, 'holiday': 5937, 'inn': 5938, 'juhu': 5939, 'aromathai': 5940, 'khana': 5941, 'imitation': 5942, 'jewellery': 5943, 'beverage': 5944, 'indicators': 5945, '9yrs': 5946, 'contribute': 5947, 'lectureship': 5948, 'served': 5949, 'sufficiently': 5950, 'busy': 5951, 'startups': 5952, 'clubs': 5953, 'articles': 5954, 'volunteering': 5955, 'asking': 5956, 'filling': 5957, '1992': 5958, 'micheal': 5959, 'level3': 5960, 'flora': 5961, 'heart': 5962, 'saver': 5963, 'reps': 5964, 'commensurate': 5965, 'chd': 5966, '09876971076': 5967, 'vversatile': 5968, 'targeting': 5969, 'netbeans': 5970, 'notebooks': 5971, 'ug': 5972, 'schooling': 5973, 'xii': 5974, 'moti': 5975, 'ram': 5976, 'valley': 5977, 'experince': 5978, 'suffering': 5979, 'third': 5980, 'prize': 5981, 'ifications': 5982, 'coursera': 5983, 'tirlok': 5984, 'yyyy': 5985, 'dd': 5986, 'iabac': 5987, 'versatile': 5988, 'advocator': 5989, 'augmented': 5990, 'fahed': 5991, 'mohali': 5992, 'indo': 5993, 'querying': 5994, 'cleaning': 5995, 'heretic': 5996, 'cleansing': 5997, 'conclusions': 5998, 'pivot': 5999, 'applicationseducation': 6000, 'queen': 6001, 'margaret': 6002, 'edinburg': 6003, 'atri': 6004, 'checklists': 6005, 'leaves': 6006, 'salaries': 6007, 'esic': 6008, 'deduction': 6009, '24q': 6010, 'topics': 6011, 'shops': 6012, 'establishments': 6013, '1972': 6014, 'naukri': 6015, 'preliminary': 6016, 'orientation': 6017, 'facilitation': 6018, 'pms': 6019, 'disbursement': 6020, 'kra': 6021, 'welfare': 6022, 'celebration': 6023, 'diwali': 6024, 'dhamaka': 6025, 'offsite': 6026, 'md': 6027, 'offering': 6028, 'reimbursement': 6029, 'resigned': 6030, 'uit': 6031, 'statsmodels': 6032, 'ml': 6033, 'dummies': 6034, 'enthusiasts': 6035, 'koramangala': 6036, '5th': 6037, 'behind': 6038, 'sukh': 6039, 'sagar': 6040, 'encoding': 6041, 'linkedin': 6042, 'rathore': 6043, 'b4600b146': 6044, 'reasearch': 6045, 'arima': 6046, 'sarimax': 6047, 'holt': 6048, 'winter': 6049, 'prophet': 6050, 'rathorology': 6051, 'mixed': 6052, 'valid': 6053, '2006education': 6054, 'oxford': 6055, 'banglore': 6056, 'nabinagar': 6057, 'bihar': 6058, 'ntpc': 6059, 'brbcl': 6060, 'stc': 6061, 'qatif': 6062, '2065864': 6063, 'arif': 6064, 'kinfolk': 6065, 'king': 6066, 'fahad': 6067, 'airport': 6068, 'dar': 6069, 'hadassah': 6070, 'dpf': 6071, 'eleven': 6072, 'arabian': 6073, 'army': 6074, 'ommodation': 6075, 'arabia': 6076, 'foremen': 6077, 'subsequently': 6078, 'rfi': 6079, 'realizing': 6080, 'ducting': 6081, 'chilled': 6082, 'fittings': 6083, 'insulation': 6084, 'padke': 6085, 'pba': 6086, 'tipu': 6087, 'santnamdev': 6088, 'jammu': 6089, 'takeoff': 6090, 'plumbing': 6091, 'paintha': 6092, 'chock': 6093, 'paripora': 6094, 'nagar': 6095, 'jboss': 6096, 'ireport': 6097, 'dairy': 6098, 'dibrugarh': 6099, 'bba': 6100, 'lovely': 6101, 'acn': 6102, 'mgt': 6103, 'ghatkesar': 6104, 'aurora': 6105, 'scientific': 6106, 'warangal': 6107, 'personalization': 6108, 'interpretation': 6109, 'forecasts': 6110, 'pgp': 6111, 'teaching': 6112, 'appointments': 6113, 'teach': 6114, 'undergraduate': 6115, 'adjunct': 6116, 'furnish': 6117, 'lex': 6118, 'offered': 6119, 'scrap': 6120, 'messaging': 6121, 'qliksense': 6122, 'recognize': 6123, 'recognizing': 6124, 'compared': 6125, 'somewhere': 6126, 'else': 6127, 'hiding': 6128, 'prevent': 6129, 'frauds': 6130, 'pretend': 6131, 'twitter': 6132, 'expressed': 6133, 'opinion': 6134, 'emotions': 6135, 'quantifiable': 6136, 'mentored': 6137, 'gone': 6138, 'papers': 6139, 'congress': 6140, 'let': 6141, 'blumix': 6142, 'watson': 6143, 'utilise': 6144, 'convert': 6145, 'contacts': 6146, 'later': 6147, 'worker': 6148, 'jagiroad': 6149, 'tribunals': 6150, 'bodies': 6151, 'forum': 6152, 'judge': 6153, 'nagaon': 6154, 'imcost': 6155, 'menon': 6156, 'springer': 6157, 'smartforms': 6158, 'lenm': 6159, 'netherland': 6160, 'dsp': 6161, 'dsm': 6162, 'sinochem': 6163, 'paints': 6164, 'coatings': 6165, 'producer': 6166, 'wheeler': 6167, 'mlrit': 6168, 'bcom': 6169, 'srimedhav': 6170, 'nani': 6171, 'valuelabs': 6172, 'rrf': 6173, 'dlt': 6174, 'candidate': 6175, 'anna': 6176, 'jacobs': 6177, '150': 6178, 'medicine': 6179, 'etp': 6180, 'drain': 6181, 'shall': 6182, 'vise': 6183, 'itr': 6184, 'checklist': 6185, 'issued': 6186, 'punch': 6187, 'dossiers': 6188, 'progression': 6189, 'chawla': 6190, 'architectural': 6191, '2b': 6192, 'roof': 6193, 'upcoming': 6194, 'entered': 6195, 'guinness': 6196, 'gac': 6197, 'arm': 6198, 'dollar': 6199, 'rp': 6200, 'pour': 6201, '793': 6202, 'cu': 6203, 'dh600': 6204, '163': 6205, 'rise': 6206, 'barsha': 6207, 'western': 6208, 'amendments': 6209, 'recall': 6210, 'hold': 6211, 'uncorrected': 6212, 'cancel': 6213, 'upon': 6214, 'noted': 6215, 'deficiencies': 6216, 'ncr': 6217, 'deviated': 6218, 'normal': 6219, 'retention': 6220, 'prm': 6221, 'toyo': 6222, 'liquefied': 6223, 'biggest': 6224, 'hike': 6225, 'metric': 6226, 'heater': 6227, 'room': 6228, 'comply': 6229, 'cary': 6230, 'follows': 6231, 'turned': 6232, 'flats': 6233, 'regard': 6234, 'ppe': 6235, 'safely': 6236, 'undertake': 6237, 'lumira': 6238, 'pgdm': 6239, 'great': 6240, 'lakes': 6241, 'illinois': 6242, 'horizon': 6243, 'visvesvaraya': 6244, 'historic': 6245, 'geographies': 6246, 'infer': 6247, 'blockades': 6248, 'handwriting': 6249, 'handwritten': 6250, 'enough': 6251, 'argus': 6252, 'lot': 6253, 'consumption': 6254, 'flowers': 6255, 'cbp': 6256, 'segmented': 6257, 'categorize': 6258, 'buckets': 6259, 'anaconda3': 6260, 'classify': 6261, 'enabled': 6262, 'ipa': 6263, 'spearheaded': 6264, 'reuse': 6265, 'took': 6266, 'ownership': 6267, 'elerator': 6268, 'atas': 6269, 'apart': 6270, 'clarified': 6271, 'normalization': 6272, 'langages': 6273, 'posse': 6274, 'adichunchanagiri': 6275, 'chikmagalur': 6276, 'truly': 6277, 'jayashree': 6278, 'specialization': 6279, 'behaviour': 6280, 'calicut': 6281, 'thrissur': 6282, 'prajyoti': 6283, 'foster': 6284, 'breads': 6285, 'kinfra': 6286, 'santhwana': 6287, 'psychotherapy': 6288, 'cochin': 6289, 'counsellor': 6290, 'grasp': 6291, 'truba': 6292, 'rkdf': 6293, 'sati': 6294, 'thesis': 6295, 'bmch': 6296, 'ganj': 6297, 'basoda': 6298, 'rnt': 6299, 'recurrent': 6300, 'matplotliv': 6301, 'tf': 6302, 'idf': 6303, 'lsa': 6304, 'soup': 6305, 'ado': 6306, 'mozilla': 6307, 'firefox10': 6308, 'biography': 6309, 'gallery': 6310, 'contactus': 6311, 'hms': 6312, 'conceivable': 6313, 'importantly': 6314, 'backed': 6315, 'dependable': 6316, 'multispecialty': 6317, 'cover': 6318, 'bess': 6319, 'sms': 6320, 'exams': 6321, 'calendar': 6322, 'parents': 6323, 'paperless': 6324, 'today': 6325, 'uhs': 6326, 'cmus': 6327, 'overdrafts': 6328, 'sblc': 6329, 'fg': 6330, 'cheques': 6331, 'nbf': 6332, 'cb': 6333, 'davv': 6334, 'cognizant': 6335, 's4hana': 6336, 'edi': 6337, 'extensibility': 6338, 'varies': 6339, 'prince2': 6340, 'practitioner': 6341, 'implementations': 6342, 'america': 6343, 'fricew': 6344, 'ps': 6345, 'qm': 6346, 'solman': 6347, 'gts': 6348, 'vistex': 6349, 'proship': 6350, 'managenow': 6351, 'loftware': 6352, 'pocs': 6353, 'roll': 6354, 'ecc6': 6355, 'unicode': 6356, 'complicated': 6357, 'estimations': 6358, 'without': 6359, 'highlight': 6360, 'drills': 6361, 'llm': 6362, 'udt': 6363, 'sqleducation': 6364, 'suisse': 6365, 'swiss': 6366, 'pruning': 6367, 'tct': 6368, 'xi': 6369, 'sp6': 6370, 'tab': 6371, 'avoid': 6372, 'catalogue': 6373, 'warner': 6374, 'bros': 6375, 'marvin': 6376, 'pictures': 6377, 'hpsm': 6378, 'dvd': 6379, 'comic': 6380, 'pointing': 6381, 'messages': 6382, 'seek': 6383, 'investigation': 6384, 'tracks': 6385, 'criteria': 6386, 'precise': 6387, 'blocks': 6388, 'formatting': 6389, 'mat': 6390, 'lean': 6391, 'ratnagiri': 6392, 'vba': 6393, 'authorizations': 6394, 'su53': 6395, 'grc': 6396, 'adaptable': 6397, 'keys': 6398, 'ssis': 6399, 'stadio': 6400, 'thergaon': 6401, 'entityframewok': 6402, 'corecode': 6403, 'inetsoft': 6404, 'angular1': 6405, 'typescript': 6406, 'kakinada': 6407, 'knockout': 6408, 'consuming': 6409, 'alternative': 6410, 'cooperation': 6411, 'tiebar': 6412, 'destination': 6413, 'luxury': 6414, 'menswear': 6415, 'premium': 6416, 'dress': 6417, 'shirts': 6418, 'bow': 6419, 'second': 6420, 'spots': 6421, 'tourists': 6422, 'tourist': 6423, 'hamsa': 6424, 'hitech': 6425, 'switzerland': 6426, 'norway': 6427, 'relation': 6428, 'appointment': 6429, 'detailexperiences': 6430, 'alia': 6431, 'yashwant': 6432, 'orichids': 6433, '400097': 6434, 'indiaeducation': 6435, 'marol': 6436, 'depot': 6437, '400093': 6438, 'nova': 6439, '301': 6440, 'maha': 6441, 'muweilah': 6442, 'alfalah': 6443, 'excavation': 6444, 'waterproofing': 6445, 'rcc': 6446, 'shuttering': 6447, 'masonry': 6448, 'brick': 6449, 'tile': 6450, 'minor': 6451, 'slabs': 6452, 'requisition': 6453, 'ground': 6454, 'verify': 6455, 'sincerity': 6456, 'capability': 6457, '5m': 6458, 'minutes': 6459, 'thank': 6460, 'viewing': 6461, 'kherwadi': 6462, '400051': 6463, 'radha': 6464, 'dadar': 6465, 'hindu': 6466, 'colony': 6467, '400014': 6468, 'lodha': 6469, 'eternis': 6470, 'estado': 6471, 'spearheading': 6472, 'saiba': 6473, 'softwareeducation': 6474, 'bharathiar': 6475, 'pa': 6476, 'insured': 6477, 'spinning': 6478, 'mills': 6479, 'staffs': 6480, 'labors': 6481, 'automobile': 6482, 'collision': 6483, 'avoidance': 6484, 'blackbox': 6485, 'monorail': 6486, 'phioenix': 6487, 'microsystem': 6488, 'enter': 6489, 'week': 6490, 'retailer': 6491, 'registered': 6492, 'ddsm': 6493, 'zz': 6494, 'operative': 6495, 'deed': 6496, 'representation': 6497, 'disputes': 6498, '017': 6499, 'pdf': 6500, 'typewriting': 6501, 'tora': 6502, 'spsseducation': 6503, 'chidambaram': 6504, 'sav': 6505, 'sslc': 6506, 'kamaraj': 6507, 'matriculation': 6508, 'sepsoft': 6509, '24th': 6510, 'ymcaust': 6511, 'faridabad': 6512, 'itechpower': 6513, '2d': 6514, '3deducation': 6515, 'talreja': 6516, 'hoping': 6517, 'thanks': 6518, 'apeksha': 6519, 'naharkar': 6520, 'panvel': 6521, 'ryan': 6522, 'bp': 6523, 'bottlenecks': 6524, 'trees': 6525, 'boosting': 6526, 'pca': 6527, 'nets': 6528, 'elasticsearch': 6529, 'plotly': 6530, 'ggplot': 6531, 'logstash': 6532, 'kafka': 6533, 'dispute': 6534, 'elerating': 6535, 'discovery': 6536, 'implements': 6537, 'resulting': 6538, 'lawyers': 6539, 'outputs': 6540, 'precision': 6541, 'ey': 6542, 'flags': 6543, 'tfidf': 6544, 'word2vec': 6545, 'doc2vec': 6546, 'vader': 6547, 'blob': 6548, 'matplot': 6549, 'lib': 6550, 'plotted': 6551, 'reservation': 6552, 'serves': 6553, 'recommendation': 6554, 'asks': 6555, 'spacy': 6556, 'synthesizes': 6557, 'facilitates': 6558, 'positioned': 6559, 'counter': 6560, 'parse': 6561, 'rot': 6562, 'outdated': 6563, 'trivial': 6564, 'pii': 6565, 'identifiable': 6566, 'addresses': 6567, 'frequently': 6568, 'cyber': 6569, 'flag': 6570, 'fap': 6571, 'interrogate': 6572, 'anomalies': 6573, 'q': 6574, 'aeronautics': 6575, 'satish': 6576, 'hangar': 6577, 'mirage': 6578, 'fighter': 6579, 'aircraft': 6580, 'labview': 6581, 'webframework': 6582, 'ltspice': 6583, 'mipower': 6584, 'gitbash': 6585, 'notebook': 6586, 'interpreters': 6587, 'python2': 6588, 'pycharm': 6589, 'debian': 6590, 'kali': 6591, 'deeksha': 6592, 'little': 6593, 'flower': 6594, 'mathematics': 6595, 'themathcompany': 6596, 'casino': 6597, 'operator': 6598, 'disclosed': 6599, 'macau': 6600, 'segment': 6601, 'patrons': 6602, 'prove': 6603, 'henceforth': 6604, 'formulating': 6605, 'workload': 6606, 'allocate': 6607, 'baramati': 6608, 'highschool': 6609, 'singhad': 6610, 'vasundhara': 6611, 'nirmiti': 6612, 'balaji': 6613, 'ganesh': 6614, 'tubro': 6615, 'inplant': 6616, 'ashoka': 6617, 'decor': 6618, 'girija': 6619, 'devolopers': 6620, 'outfit': 6621, 'photographs': 6622, 'maps': 6623, 'continual': 6624, 'practicality': 6625, 'adjust': 6626, 'budgetary': 6627, 'cohesion': 6628, 'fluidity': 6629, 'inspect': 6630, 'sonia': 6631, 'renovation': 6632, 'malls': 6633, 'compiling': 6634, 'tendering': 6635, 'complies': 6636, 'sustainability': 6637, 'grandeurs': 6638, 'realetors': 6639, 'materails': 6640, 'labours': 6641, 'regulated': 6642, 'subcontractor': 6643, 'equipement': 6644, 'cheack': 6645, 'progrees': 6646, 'devolopment': 6647, 'adviser': 6648, 'craftspeople': 6649, 'operatives': 6650, 'planners': 6651, 'surveyors': 6652, 'intra': 6653, 'reservoir': 6654, 'characterization': 6655, 'drilling': 6656, 'dry': 6657, 'runs': 6658, 'currency': 6659, 'conversions': 6660, 'ecuador': 6661, 'hpalm': 6662, 'charm': 6663, 'solmon': 6664, 'aero': 6665, 'slt': 6666, 'landscape': 6667, 'solved': 6668, 'exiting': 6669, 'july2013to': 6670, 'june2014': 6671, 'folder': 6672, 'ecc': 6673, 'logon': 6674, 'barc': 6675, 'motion': 6676, 'daigram': 6677, 'graduation': 6678, 'ifix': 6679, 'inscripts': 6680, 'contains': 6681, 'injury': 6682, 'death': 6683, 'former': 6684, 'ambedkar': 6685, 'occ': 6686, 'sqlplus': 6687, 'vsphere': 6688, 'windowseducation': 6689, '130': 6690, 'eagle': 6691, 'path': 6692, 'persists': 6693, 'rfs': 6694, 'mrp': 6695, 'centralize': 6696, 'refreshing': 6697, 'outage': 6698, 'rotational': 6699, 'shifts': 6700, 'refreshes': 6701, 'migrate': 6702, 'yogesh': 6703, 'tikhat': 6704, 'raj': 6705, 'ahmad': 6706, 'g2': 6707, '702': 6708, 'dreams': 6709, 'aakruti': 6710, 'kalepadal': 6711, 'hadapsar': 6712, '411028': 6713, 'aofpt5052c': 6714, 'lite': 6715, 'invest': 6716, 'employs': 6717, 'approximately': 6718, 'organised': 6719, 'barclaycard': 6720, 'troubleshoooting': 6721, 'locking': 6722, 'kakatiya': 6723, 'maintenances': 6724, 'upgradation': 6725, 'ord': 6726, 'fintech': 6727, 'sanpada': 6728, 'attach': 6729, 'detach': 6730, 'dbcc': 6731, 'dmv': 6732, 'analyzer': 6733, 'dts': 6734, 'rebuilds': 6735, 'reorganizes': 6736, 'extending': 6737, 'litespeed': 6738, 'idera': 6739, 'infopa': 6740, 'tivoli': 6741, 'tdp': 6742, 'databasesms': 6743, '110': 6744, 'availabiity': 6745, 'sip': 6746, 'dbas': 6747, 'trainees': 6748, 'pci': 6749, 'vulnerability': 6750, 'holmes': 6751, 'ls': 6752, 'failback': 6753, 'deeply': 6754, 'pursued': 6755, 'pe8': 6756, 'ee11': 6757, 'edvancer': 6758, 'eduventures': 6759, 'sensitive': 6760, 'improved': 6761, 'courage': 6762, 'sadvidya': 6763, 'massachusetts': 6764, 'elicitation': 6765, 'diligently': 6766, 'checkouts': 6767, '101': 6768, 'optimazation': 6769, '8i': 6770, 'commission': 6771, 'forward': 6772, 'ase': 6773, 'winds': 6774, 'dpa': 6775, 'dbartisan': 6776, '3t': 6777, 'pdacoe': 6778, 'autonomous': 6779, 'uploading': 6780, 'rdls': 6781, 'orphaned': 6782, 'purge': 6783, 'shipped': 6784, 'intervention': 6785, 'escalate': 6786, 'next': 6787, 'clones': 6788, 'hewlett': 6789, 'packard': 6790, 'softenger': 6791, 'unused': 6792, 'orphan': 6793, 'rebuild': 6794, 'reorganize': 6795, 'deadlocks': 6796, 'costly': 6797, 'deadlock': 6798, 'alwayson': 6799, 'restart': 6800, 'tns': 6801, 'ada': 6802, 'annet': 6803, 'birla': 6804, 'northbound': 6805, 'eclerx': 6806, 'wwf': 6807, 'info': 6808, 'solid': 6809, 'technologists': 6810, 'rh': 6811, 'quotas': 6812, 'rollback': 6813, 'extents': 6814, 'constructive': 6815, 'practically': 6816, 'elya': 6817, 'kale': 6818, 'patches': 6819, 'demands': 6820, 'cronjobs': 6821, 'raising': 6822, 'links': 6823, 'directories': 6824, 'scp': 6825, 'rebuilding': 6826, 'stats': 6827, 'deleting': 6828, 'diskgroups': 6829, 'insolutions': 6830, 'switchover': 6831, 'allocating': 6832, 'enrolling': 6833, 'snap': 6834, 'validity': 6835, 'resize': 6836, 'temp': 6837, 'itskills': 6838, 'mcs': 6839, 'periodically': 6840, 'criticality': 6841, 'impo': 6842, 'expo': 6843, 'degine': 6844, 'configuraing': 6845, 'administered': 6846, 'quota': 6847, 'default': 6848, 'cumulative': 6849, 'intervals': 6850, 'ddl': 6851, 'dml': 6852, 'appraising': 6853, 'backround': 6854, 'innovativetechnologies': 6855, 'redolog': 6856, 'duplicate': 6857, 'flashback': 6858, 'oracle11gr2': 6859, 'crsctl': 6860, 'srvctl': 6861, 'upgraded': 6862, 'capable': 6863, 'dy': 6864, '61': 6865, 'eboss': 6866, 'datafeed': 6867, 'mfdb': 6868, 'indiainx': 6869, 'fastest': 6870, 'seconds': 6871, 'transparent': 6872, 'equity': 6873, 'currencies': 6874, 'derivatives': 6875, '250': 6876, 'continues': 6877, 'pace': 6878, 'pacemaker': 6879, 'blockings': 6880, 'gssapi': 6881, 'connections': 6882, 'fdw': 6883, 'extensions': 6884, 'pitr': 6885, 'rollouts': 6886, 'aag': 6887, 'raid': 6888, '98': 6889, 'loader': 6890, 'authorized': 6891, 'hydrocarbons': 6892, 'exceeding': 6893, 'majors': 6894, '18c': 6895, 'link': 6896, 'reclaim': 6897, 'statically': 6898, 'elb': 6899, 'vpc': 6900, 'route53': 6901, 'iam': 6902, 'devopseducation': 6903, '108': 6904, 'quite': 6905, 'extended': 6906, 'maximized': 6907, 'p1': 6908, 'p2': 6909, 'produced': 6910, 'fw': 6911, 'openings': 6912, 'loadbalancer': 6913, 'smtp': 6914, 'ocm': 6915, 'protected': 6916, 'sod': 6917, 'rcu': 6918, 'expanded': 6919, 'france': 6920, 'compressions': 6921, 'imp': 6922, 'duplication': 6923, 'alm': 6924, 'knoxed': 6925, 'comprise': 6926, 'iseries': 6927, 'grapheducation': 6928, 'goregoan': 6929, 'proteus': 6930, 'installations': 6931, 'plastics': 6932, 'wings': 6933, 'infonet': 6934, 'comprehensive': 6935, 'hiral': 6936, 'tektronix': 6937, 'relates': 6938, 'hrms': 6939, 'observation': 6940, 'somaiya': 6941, 'asmita': 6942, 'girls': 6943, 'bhawan': 6944, 'journalist': 6945, 'lawyer': 6946, 'morigaon': 6947, 'subordinate': 6948, 'penchant': 6949, 'situation': 6950, 'extrovert': 6951, 'prefer': 6952, 'walks': 6953, 'strata': 6954, 'rapport': 6955, 'hpc': 6956, 'counsels': 6957, 'cachar': 6958, 'nagaland': 6959, 'pulp': 6960, 'vetting': 6961, 'nibs': 6962, 'nits': 6963, 'formulation': 6964, 'disciplinary': 6965, 'liaisoning': 6966, 'conformiq': 6967, 'ipad': 6968, 'measure': 6969, 'submit': 6970, 'tl9k': 6971, 'uloom': 6972, 'recently': 6973, 'savvy': 6974, 'lrc': 6975, 'ravichander': 6976, 'skillful': 6977, 'typing': 6978, 'refined': 6979, 'xslt': 6980, 'connector': 6981, 'biztalk': 6982, '147': 6983, 'opex': 6984, 'administering': 6985, 'genentech': 6986, 'biogen': 6987, 'astellas': 6988, 'pharma': 6989, 'polaris': 6990, 'hibernet': 6991, 'prasanna': 6992, 'vc': 6993, 'clacutta': 6994, 'burdwan': 6995, 'taxation': 6996, 'plaint': 6997, 'hear': 6998, 'automationtesting': 6999, 'phoenix': 7000, 'microsystems': 7001, 'swb': 7002, 'profitable': 7003, 'satisfying': 7004, 'splits': 7005, 'inserts': 7006, 'ibatis': 7007, 'seam': 7008, 'intelligen': 7009, 'mobileapp': 7010, 'kauapc': 7011, 'ims': 7012, 'essible': 7013, 'empower': 7014, 'rich': 7015, 'jersey': 7016, 'lelo': 7017, 'lo': 7018, 'divider': 7019, 'pom': 7020, 'researcher': 7021, 'laweducation': 7022, 'criminology': 7023, 'federal': 7024, 'finalising': 7025, 'agreements': 7026, 'intimation': 7027, 'suits': 7028, 'attorney': 7029, 'indemnity': 7030, 'marriage': 7031, 'divorce': 7032, 'ession': 7033, 'lok': 7034, 'adalat': 7035, 'judicial': 7036, 'learnereducation': 7037, 'vidishtra': 7038, 'bscit': 7039, 'airoli': 7040, 'committed': 7041, 'independent': 7042, 'bput': 7043, 'brahmapur': 7044, 'orissa': 7045, 'banner': 7046, 'handles': 7047, '115': 7048, 'spread': 7049, 'whitacre': 7050, 'downtown': 7051, 'texas': 7052, 'csi': 7053, 'cam': 7054, 'centralised': 7055, 'myatt': 7056, 'maintaing': 7057, 'autoit': 7058, 'manging': 7059, 'smashingday': 7060, 'concerned': 7061, 'artifacts': 7062, 'fsd': 7063, 'cug': 7064, 'configurations': 7065, 'onboard': 7066, 'bau': 7067, 'arriving': 7068, 'crs': 7069, 'paytech': 7070, 'zambia': 7071, 'capa': 7072, 'parivartan': 7073, 'malad': 7074, 'tanks': 7075, 'anushaktinagar': 7076, 'trombay': 7077, 'kalyan': 7078, 'tank': 7079, 'float': 7080, 'bottle': 7081, 'crashing': 7082, 'separated': 7083, 'sensors': 7084, 'transmitters': 7085, 'pid': 7086, 'brands': 7087, 'nippon': 7088, 'selec': 7089, 'dol': 7090, 'induction': 7091, 'eletrical': 7092, 'specialized': 7093, 'engineered': 7094, 'manufacturers': 7095, 'vessels': 7096, 'igg': 7097, 'inert': 7098, 'calibrations': 7099, '8th': 7100, 'underwent': 7101, 'tuv': 7102, 'rheinland': 7103, 'omron': 7104, 'ladder': 7105, 'intouch': 7106, 'vijeo': 7107, 'citect': 7108, 'wincc': 7109, 'talkview': 7110, 'opc': 7111, 'kepware': 7112, 'altivar': 7113, 'druck': 7114, 'injector': 7115, 'dp': 7116, 'tubes': 7117, 'fitting': 7118, 'glanding': 7119, 'robotic': 7120, 'kuka': 7121, 'kr': 7122, 'rk': 7123, 'electricals': 7124, 'twido': 7125, 'step7': 7126, 'microwin': 7127, 'sp2': 7128, 'unity': 7129, 'xl': 7130, 'cx': 7131, 'wpl': 7132, 'codesys': 7133, 'wonderware': 7134, 'citectscada7': 7135, 'proficy': 7136, 'factotytalk': 7137, 'spoken': 7138, 'tutorial': 7139, 'phython': 7140, 'codestrike': 7141, 'vbs': 7142, 'purvanchal': 7143, 'redwood': 7144, 'triage': 7145, 'short': 7146, 'exponentially': 7147, 'drastically': 7148, 'games': 7149, 'apps': 7150, 'messenger': 7151, 'omplishment': 7152, 'reminders': 7153, 'hayaan': 7154, 'neighborhood': 7155, 'packaging': 7156, 'slip': 7157, 'inquiry': 7158, 'haayan': 7159, 'knows': 7160, 'ielts': 7161, 'bilingual': 7162, 'punjabi': 7163, 'clearly': 7164, 'concisely': 7165, 'peers': 7166, 'pretrial': 7167, 'appellate': 7168, 'competent': 7169, 'laws': 7170, 'bikaner': 7171, 'maharaja': 7172, 'ganga': 7173, 'singh': 7174, 'bio': 7175, 'informatics': 7176, 'panjab': 7177, 'newcomer': 7178, 'licensed': 7179, 'admitted': 7180, 'aibe': 7181, 'bci': 7182, 'sole': 7183, 'counsel': 7184, 'plaintiff': 7185, 'respondents': 7186, 'prosecuted': 7187, 'conclusion': 7188, 'claim': 7189, 'opted': 7190, 'plead': 7191, 'precedents': 7192, 'bail': 7193, 'petitions': 7194, 'appeals': 7195, 'divorces': 7196, 'negotiates': 7197, 'settlements': 7198, 'mediator': 7199, 'conciliator': 7200, 'commissioner': 7201, 'arbitrator': 7202, 'extraeducation': 7203, 'literature': 7204, 'tirunelveli': 7205, 'manonmaniam': 7206, 'sundaranar': 7207, 'practiced': 7208, 'judicature': 7209, 'madras': 7210, 'tribunal': 7211, 'christian': 7212, 'ruah': 7213, 'church': 7214, 'nessa': 7215, 'rfe': 7216, 'rally': 7217, 'td': 7218, 'devsecops': 7219, 'profit': 7220, 'maximization': 7221, 'tulu': 7222, 'harvard': 7223, 'thunderbird': 7224, 'catering': 7225, 'esign': 7226, 'countersign': 7227, 'ampd': 7228, 'cru': 7229, 'bizcomp': 7230, 'comp': 7231, 'discounts': 7232, 'cxmt': 7233, 'lets': 7234, 'centrex': 7235, 'shadow': 7236, 'signoff': 7237, 'smp': 7238, 'scorecard': 7239, 'vqi': 7240, 'subcon': 7241, 'offshoring': 7242, 'leakage': 7243, 'tail': 7244, 'oscar': 7245, 'expand': 7246, 'developments': 7247, 'resourcing': 7248, 'csl': 7249, 'kms': 7250, 'pmr': 7251, 'sqa': 7252, 'gates': 7253, 'csat': 7254, 'rehearsal': 7255, 'prevention': 7256, 'exercises': 7257, 'rebadged': 7258, 'ex': 7259, 'esaya': 7260, 'xaml': 7261, 'dhtml': 7262, 'vbscript': 7263, 'mvp': 7264, 'tfs': 7265, 'collabnet': 7266, 'qlikview': 7267, 'centreon': 7268, 'bam': 7269, 'thinker': 7270, 'planner': 7271, 'recent': 7272, 'managereducation': 7273, 'sikkim': 7274, '92': 7275, '76': 7276, 'apr': 7277, 'capex': 7278, 'surveillance': 7279, 'wearable': 7280, 'nextgen': 7281, 'aria': 7282, 'apple': 7283, 'iphone': 7284, 'sunnyvale': 7285, 'ohio': 7286, 'nunit': 7287, 'moss': 7288, 'biztalk2006': 7289, 'dreamweaver': 7290, 'biz': 7291, 'wachovia': 7292, 'carolina': 7293, 'cript': 7294, 'zd': 7295, 'doll': 7296, 'newcastle': 7297, 'tokyo': 7298, 'macromedia': 7299, 'sql2000': 7300, 'lotus': 7301, 'fuel': 7302, 'density': 7303, 'measurement': 7304, 'cmcs': 7305, 'himalaya': 7306, 'mapco': 7307, 'berco': 7308, 'anjular': 7309, 'mws': 7310, 'laravel': 7311, 'profiled': 7312, 'monitors': 7313, 'sponsor': 7314, 'revise': 7315, 'regulatory': 7316, 'venturus': 7317, 'adhere': 7318, 'viralsocials': 7319, 'xento': 7320, 'familylink': 7321, 'propertysolutions': 7322, 'speedyceus': 7323, 'ceus': 7324, 'nursing': 7325, 'stplafricaonline': 7326, 'stplafrica': 7327, '1stexpert': 7328, 'rimsys': 7329, 'eu': 7330, 'prayerlister': 7331, 'promark': 7332, 'justbe': 7333, 'mtpian': 7334, 'sababa': 7335, 'nl': 7336, 'physicaltherapy': 7337, 'hiu': 7338, '7cees': 7339, 'golwin': 7340, 'maza': 7341, 'lisa': 7342, 'catdm': 7343, 'versioning': 7344, 'disha': 7345, 'poland': 7346, 'specialize': 7347, 'cbil': 7348, 'oat': 7349, 'proving': 7350, 'cucumber': 7351, 'bdd': 7352, 'tosca': 7353, 'tdm': 7354, 'onboarding': 7355, 'ontrack': 7356}\n",
            "[34, 452, 567, 1043, 4157, 4158, 214, 492, 36, 628, 17, 1996, 1004, 628, 17, 4159, 850, 424, 61, 1205, 328, 305, 219, 860, 61, 228, 4160, 8, 628, 2714, 1997, 36, 61, 226, 1608, 1534, 1998, 510, 4161, 683, 1395, 1135, 2715, 3489, 225, 1999, 268, 35, 55, 135, 268, 730, 359, 226, 4162, 795, 1608, 95, 124, 1535, 36, 952, 2716, 541, 10, 952, 394, 1336, 1955, 1410, 16, 93, 20, 45, 64, 91, 1676, 4163, 1583, 2988, 4164, 1136, 810, 3440, 764, 1337, 1609, 2000, 953, 2717, 953, 2001, 2450, 61, 2002, 438, 1137, 2003, 2004, 2005, 124, 2613, 1468, 226, 363, 1275, 44, 7, 245, 101, 86, 101, 78, 15, 78, 53, 287, 61, 218, 287, 61, 218, 26, 7, 35, 2, 4039, 5, 55, 2, 4165, 5, 1534, 2, 1338, 5, 683, 2, 1338, 5, 20, 2, 4166, 56, 7, 3, 409, 424, 61, 6, 39, 36, 2450, 61, 2006, 90, 2002, 438, 1137, 2003, 2004, 2005, 124, 2613, 1468, 226, 363, 1275, 444, 639, 940, 287, 694, 51, 197, 36, 818, 36, 187, 177, 36, 187, 36, 222, 523, 157, 94, 177, 192, 582, 4167, 4168, 94, 287, 11, 33, 1043, 523, 452, 567, 36, 628, 17, 58, 3441, 4169, 42, 2718, 1318, 177, 4170, 248, 2007, 1858, 248, 2007, 186, 115, 1004, 4171, 2719, 1610, 772, 370, 248, 2007, 186, 2719, 4172, 2008, 186, 175, 4173, 1020, 2008, 170, 4174, 320, 61, 27, 290, 51, 240, 167, 773, 2134, 170, 36, 162, 22, 36, 61, 228, 1998, 197, 773, 14, 229, 2135, 229, 36, 22, 35, 1808, 18, 1097, 37, 475, 730, 170, 370, 287, 172, 33, 819, 17, 30, 453, 107, 827, 861, 414, 1138, 4175, 1677, 1243, 577, 37, 95, 36, 1319, 548, 454, 1319, 184, 542, 27, 185, 164, 155, 94, 36, 818, 115, 36, 187, 36, 222, 36, 346, 646, 730, 115, 95, 837, 1611, 973, 27, 1075, 43, 58, 2002, 438, 1137, 2003, 2004, 2005, 4176, 4177, 363, 1275, 36, 61, 228, 1998, 35, 55, 683, 952, 394, 952, 2716, 1534, 2720, 1044, 10, 541, 243, 3, 708, 764, 6, 39, 2721, 708, 1895, 3113, 71, 4178, 2451, 1469, 1612, 911, 2101, 18, 1097, 17, 658, 267, 36, 818, 36, 187, 1113, 940, 287, 639, 287, 11, 33, 51, 197, 36, 553, 94, 1611, 973, 196, 184, 1293, 332, 36, 222, 523, 157, 94, 185, 1809, 1536, 4179, 384, 61, 108, 60, 1337, 465, 1339, 4180, 708, 11, 61, 36, 267, 346, 22, 465, 249, 27, 695, 192, 229, 99, 454, 134, 36, 43, 10, 104, 365, 63, 36, 1613, 267, 27, 890, 365, 47, 58, 452, 36, 628, 17, 1996, 1337, 2000, 953, 2001, 102, 133, 20, 35, 55, 465, 122, 1005, 465, 2009, 663, 3, 1956, 708, 764, 1609, 6, 39, 2721, 708, 1609, 28, 1320, 59, 28, 647, 201, 1859, 2717, 1337, 1340, 104, 267, 61, 228, 22, 1997, 2714, 2418, 126, 267, 36, 1613, 2989, 8, 22, 2715, 851, 36, 912, 36, 187, 36, 222, 61, 162, 229, 14, 97, 97, 27, 156, 196, 117, 103, 647, 3168, 640, 188, 2452, 1999, 176, 4181, 214, 176, 1159, 1034, 2990, 1076, 1077, 4182, 2136, 1534, 465, 954, 465, 162, 117, 11, 179, 941, 287, 2453, 454, 27, 11, 2419, 76, 1808, 2991, 58, 14, 11, 1810, 58, 452, 36, 628, 17, 1996, 708, 1609, 1337, 2000, 953, 2001, 953, 507, 102, 133, 20, 35, 55, 683, 465, 122, 1005, 465, 128, 2009, 663, 3, 4183, 180, 206, 6, 39, 954, 18, 42, 51, 185, 851, 36, 222, 1139, 4, 1321, 249, 27, 695, 364, 192, 229, 14, 99, 454, 125, 91, 134, 36, 43, 10, 104, 229, 27, 365, 81, 1860, 27, 466, 730, 1035, 207, 1244, 23, 876, 466, 414, 104, 664, 16, 27, 93, 253, 20, 104, 365, 63, 36, 1613, 613, 27, 890, 365, 47, 61, 36, 356, 22, 445, 108, 465, 190, 58, 102, 133, 20, 35, 55, 465, 122, 1005, 465, 128, 2009, 663, 3, 4184, 90, 206, 6, 39, 4185, 18, 42, 185, 384, 394, 185, 51, 185, 334, 24, 23, 267, 332, 61, 36, 222, 104, 109, 51, 267, 346, 785, 61, 162, 22, 61, 108, 60, 1395, 1135, 465, 135, 176, 27, 466, 730, 1035, 207, 1244, 23, 876, 466, 414, 104, 295, 148, 112, 36, 1613, 1811, 4186, 27, 454, 27, 99, 27, 16, 27, 22, 1395, 1135, 465, 135, 176, 58, 102, 133, 20, 1395, 1135, 4187, 465, 877, 291, 57]\n",
            "[44, 7, 1071, 1, 62, 30, 1, 358, 26, 7, 3, 7, 3, 358, 674, 6]\n"
          ]
        }
      ]
    },
    {
      "cell_type": "code",
      "metadata": {
        "id": "10PldKNSprXW",
        "colab": {
          "base_uri": "https://localhost:8080/"
        },
        "outputId": "8d09b8bb-1b8f-4bd8-aaf2-385c5d9ce63f"
      },
      "source": [
        "# Tokenize label data and print label dictionary\n",
        "label_tokenizer = Tokenizer(lower=True)\n",
        "label_tokenizer.fit_on_texts(labels)\n",
        "\n",
        "label_index = label_tokenizer.word_index\n",
        "print(dict(list(label_index.items())))\n",
        "\n",
        "# Print example label encodings from train and test datasets\n",
        "train_label_sequences = label_tokenizer.texts_to_sequences(train_labels)\n",
        "print(train_label_sequences[0])\n",
        "\n",
        "test_label_sequences = label_tokenizer.texts_to_sequences(test_labels)\n",
        "print(test_label_sequences[0])"
      ],
      "execution_count": null,
      "outputs": [
        {
          "output_type": "stream",
          "name": "stdout",
          "text": [
            "{'javadeveloper': 1, 'devopsengineer': 2, 'pythondeveloper': 3, 'webdesigning': 4, 'hr': 5, 'hadoop': 6, 'datascience': 7, 'mechanicalengineer': 8, 'blockchain': 9, 'etldeveloper': 10, 'sales': 11, 'operationsmanager': 12, 'arts': 13, 'database': 14, 'pmo': 15, 'electricalengineering': 16, 'healthandfitness': 17, 'businessanalyst': 18, 'dotnetdeveloper': 19, 'automationtesting': 20, 'networksecurityengineer': 21, 'civilengineer': 22, 'sapdeveloper': 23, 'advocate': 24}\n",
            "[20]\n",
            "[5]\n"
          ]
        }
      ]
    },
    {
      "cell_type": "code",
      "metadata": {
        "id": "SvHlL7PXpzBX",
        "colab": {
          "base_uri": "https://localhost:8080/"
        },
        "outputId": "53881969-4d8b-42d0-d3f9-8c85162c8f79"
      },
      "source": [
        "# Pad sequences for feature data\n",
        "max_length = 300\n",
        "trunc_type = 'post'\n",
        "pad_type = 'post'\n",
        "\n",
        "train_feature_padded = pad_sequences(train_feature_sequences, maxlen=max_length, padding=pad_type, truncating=trunc_type)\n",
        "test_feature_padded = pad_sequences(test_feature_sequences, maxlen=max_length, padding=pad_type, truncating=trunc_type)\n",
        "\n",
        "# Print example padded sequences from train and test datasets\n",
        "print(train_feature_padded[0])\n",
        "print(test_feature_padded[0])"
      ],
      "execution_count": null,
      "outputs": [
        {
          "output_type": "stream",
          "name": "stdout",
          "text": [
            "[  34  452  567 1043 4157 4158  214  492   36  628   17 1996 1004  628\n",
            "   17 4159  850  424   61 1205  328  305  219  860   61  228 4160    8\n",
            "  628 2714 1997   36   61  226 1608 1534 1998  510 4161  683 1395 1135\n",
            " 2715 3489  225 1999  268   35   55  135  268  730  359  226 4162  795\n",
            " 1608   95  124 1535   36  952 2716  541   10  952  394 1336 1955 1410\n",
            "   16   93   20   45   64   91 1676 4163 1583 2988 4164 1136  810 3440\n",
            "  764 1337 1609 2000  953 2717  953 2001 2450   61 2002  438 1137 2003\n",
            " 2004 2005  124 2613 1468  226  363 1275   44    7  245  101   86  101\n",
            "   78   15   78   53  287   61  218  287   61  218   26    7   35    2\n",
            " 4039    5   55    2 4165    5 1534    2 1338    5  683    2 1338    5\n",
            "   20    2 4166   56    7    3  409  424   61    6   39   36 2450   61\n",
            " 2006   90 2002  438 1137 2003 2004 2005  124 2613 1468  226  363 1275\n",
            "  444  639  940  287  694   51  197   36  818   36  187  177   36  187\n",
            "   36  222  523  157   94  177  192  582 4167 4168   94  287   11   33\n",
            " 1043  523  452  567   36  628   17   58 3441 4169   42 2718 1318  177\n",
            " 4170  248 2007 1858  248 2007  186  115 1004 4171 2719 1610  772  370\n",
            "  248 2007  186 2719 4172 2008  186  175 4173 1020 2008  170 4174  320\n",
            "   61   27  290   51  240  167  773 2134  170   36  162   22   36   61\n",
            "  228 1998  197  773   14  229 2135  229   36   22   35 1808   18 1097\n",
            "   37  475  730  170  370  287  172   33  819   17   30  453  107  827\n",
            "  861  414 1138 4175 1677 1243  577   37   95   36 1319  548  454 1319\n",
            "  184  542   27  185  164  155]\n",
            "[  44    7 1071    1   62   30    1  358   26    7    3    7    3  358\n",
            "  674    6    0    0    0    0    0    0    0    0    0    0    0    0\n",
            "    0    0    0    0    0    0    0    0    0    0    0    0    0    0\n",
            "    0    0    0    0    0    0    0    0    0    0    0    0    0    0\n",
            "    0    0    0    0    0    0    0    0    0    0    0    0    0    0\n",
            "    0    0    0    0    0    0    0    0    0    0    0    0    0    0\n",
            "    0    0    0    0    0    0    0    0    0    0    0    0    0    0\n",
            "    0    0    0    0    0    0    0    0    0    0    0    0    0    0\n",
            "    0    0    0    0    0    0    0    0    0    0    0    0    0    0\n",
            "    0    0    0    0    0    0    0    0    0    0    0    0    0    0\n",
            "    0    0    0    0    0    0    0    0    0    0    0    0    0    0\n",
            "    0    0    0    0    0    0    0    0    0    0    0    0    0    0\n",
            "    0    0    0    0    0    0    0    0    0    0    0    0    0    0\n",
            "    0    0    0    0    0    0    0    0    0    0    0    0    0    0\n",
            "    0    0    0    0    0    0    0    0    0    0    0    0    0    0\n",
            "    0    0    0    0    0    0    0    0    0    0    0    0    0    0\n",
            "    0    0    0    0    0    0    0    0    0    0    0    0    0    0\n",
            "    0    0    0    0    0    0    0    0    0    0    0    0    0    0\n",
            "    0    0    0    0    0    0    0    0    0    0    0    0    0    0\n",
            "    0    0    0    0    0    0    0    0    0    0    0    0    0    0\n",
            "    0    0    0    0    0    0    0    0    0    0    0    0    0    0\n",
            "    0    0    0    0    0    0]\n"
          ]
        }
      ]
    },
    {
      "cell_type": "code",
      "metadata": {
        "id": "89LGoDoqp39S",
        "colab": {
          "base_uri": "https://localhost:8080/"
        },
        "outputId": "a2e8d877-258c-4b3e-f234-875c92424238"
      },
      "source": [
        "# Define the neural network\n",
        "embedding_dim = 64\n",
        "\n",
        "model = tf.keras.Sequential([\n",
        "  # Add an Embedding layer expecting input vocab of size 6000, and output embedding dimension of size 64 we set at the top\n",
        "  tf.keras.layers.Embedding(vocab_size, embedding_dim, input_length=1),\n",
        "  tf.keras.layers.Bidirectional(tf.keras.layers.LSTM(embedding_dim,dropout=0.2)),\n",
        "  #tf.keras.layers.Dense(embedding_dim, activation='relu'),\n",
        "\n",
        "  # use ReLU in place of tanh function since they are very good alternatives of each other.\n",
        "  tf.keras.layers.Dense(embedding_dim, activation='relu'),\n",
        "\n",
        "  # Add a Dense layer with 25 units and softmax activation for probability distribution\n",
        "  tf.keras.layers.Dense(25, activation='softmax')\n",
        "])\n",
        "\n",
        "model.summary()"
      ],
      "execution_count": null,
      "outputs": [
        {
          "output_type": "stream",
          "name": "stdout",
          "text": [
            "Model: \"sequential\"\n",
            "_________________________________________________________________\n",
            " Layer (type)                Output Shape              Param #   \n",
            "=================================================================\n",
            " embedding (Embedding)       (None, 1, 64)             384000    \n",
            "                                                                 \n",
            " bidirectional (Bidirectiona  (None, 128)              66048     \n",
            " l)                                                              \n",
            "                                                                 \n",
            " dense (Dense)               (None, 64)                8256      \n",
            "                                                                 \n",
            " dense_1 (Dense)             (None, 25)                1625      \n",
            "                                                                 \n",
            "=================================================================\n",
            "Total params: 459,929\n",
            "Trainable params: 459,929\n",
            "Non-trainable params: 0\n",
            "_________________________________________________________________\n"
          ]
        }
      ]
    },
    {
      "cell_type": "code",
      "metadata": {
        "id": "N7lkMhVa2JCV",
        "colab": {
          "base_uri": "https://localhost:8080/"
        },
        "outputId": "c92bcc1d-856f-41ba-dd0d-fbcdf1696924"
      },
      "source": [
        "# Alternative model\n",
        "embedding_dim = 64\n",
        "\n",
        "model = tf.keras.Sequential([\n",
        "  # Add an Embedding layer expecting input vocab of size 6000, and output embedding dimension of size 64 we set at the top\n",
        "  tf.keras.layers.Embedding(input_dim=vocab_size, output_dim=embedding_dim, input_length=1),\n",
        "  #tf.keras.layers.Bidirectional(tf.keras.layers.LSTM(embedding_dim)),\n",
        "  #tf.keras.layers.Flatten(),\n",
        "  #tf.keras.layers.GlobalAveragePooling1D(),\n",
        "  tf.keras.layers.GlobalMaxPooling1D(),\n",
        "\n",
        "\n",
        "  # use ReLU in place of tanh function since they are very good alternatives of each other.\n",
        "  tf.keras.layers.Dense(128, activation='relu'),\n",
        "  # Add a Dense layer with 25 units and softmax activation for probability distribution\n",
        "  tf.keras.layers.Dense(25, activation='softmax'),\n",
        "  #tf.keras.layers.Dense(1, activation='sigmoid'),\n",
        "  #tf.keras.layers.Dense(1)\n",
        "\n",
        "])\n",
        "\n",
        "model.summary()"
      ],
      "execution_count": null,
      "outputs": [
        {
          "output_type": "stream",
          "name": "stdout",
          "text": [
            "Model: \"sequential_1\"\n",
            "_________________________________________________________________\n",
            " Layer (type)                Output Shape              Param #   \n",
            "=================================================================\n",
            " embedding_1 (Embedding)     (None, 1, 64)             384000    \n",
            "                                                                 \n",
            " global_max_pooling1d (Globa  (None, 64)               0         \n",
            " lMaxPooling1D)                                                  \n",
            "                                                                 \n",
            " dense_2 (Dense)             (None, 128)               8320      \n",
            "                                                                 \n",
            " dense_3 (Dense)             (None, 25)                3225      \n",
            "                                                                 \n",
            "=================================================================\n",
            "Total params: 395,545\n",
            "Trainable params: 395,545\n",
            "Non-trainable params: 0\n",
            "_________________________________________________________________\n"
          ]
        }
      ]
    },
    {
      "cell_type": "code",
      "metadata": {
        "id": "BgCN2tjmp8a0",
        "colab": {
          "base_uri": "https://localhost:8080/"
        },
        "outputId": "3df45243-681b-4268-d3dc-f88992c46df7"
      },
      "source": [
        "# Compile the model and convert train/test data into NumPy arrays\n",
        "model.compile(loss='sparse_categorical_crossentropy', optimizer='adam', metrics=['accuracy'])\n",
        "\n",
        "# Features\n",
        "train_feature_padded = np.array(train_feature_padded)\n",
        "test_feature_padded = np.array(test_feature_padded)\n",
        "\n",
        "# Labels\n",
        "train_label_sequences = np.array(train_label_sequences)\n",
        "test_label_sequences = np.array(test_label_sequences)\n",
        "\n",
        "# Print example values\n",
        "print(train_feature_padded[0])\n",
        "print(train_label_sequences[0])\n",
        "print(test_feature_padded[0])\n",
        "print(test_label_sequences[0])"
      ],
      "execution_count": null,
      "outputs": [
        {
          "output_type": "stream",
          "name": "stdout",
          "text": [
            "[  34  452  567 1043 4157 4158  214  492   36  628   17 1996 1004  628\n",
            "   17 4159  850  424   61 1205  328  305  219  860   61  228 4160    8\n",
            "  628 2714 1997   36   61  226 1608 1534 1998  510 4161  683 1395 1135\n",
            " 2715 3489  225 1999  268   35   55  135  268  730  359  226 4162  795\n",
            " 1608   95  124 1535   36  952 2716  541   10  952  394 1336 1955 1410\n",
            "   16   93   20   45   64   91 1676 4163 1583 2988 4164 1136  810 3440\n",
            "  764 1337 1609 2000  953 2717  953 2001 2450   61 2002  438 1137 2003\n",
            " 2004 2005  124 2613 1468  226  363 1275   44    7  245  101   86  101\n",
            "   78   15   78   53  287   61  218  287   61  218   26    7   35    2\n",
            " 4039    5   55    2 4165    5 1534    2 1338    5  683    2 1338    5\n",
            "   20    2 4166   56    7    3  409  424   61    6   39   36 2450   61\n",
            " 2006   90 2002  438 1137 2003 2004 2005  124 2613 1468  226  363 1275\n",
            "  444  639  940  287  694   51  197   36  818   36  187  177   36  187\n",
            "   36  222  523  157   94  177  192  582 4167 4168   94  287   11   33\n",
            " 1043  523  452  567   36  628   17   58 3441 4169   42 2718 1318  177\n",
            " 4170  248 2007 1858  248 2007  186  115 1004 4171 2719 1610  772  370\n",
            "  248 2007  186 2719 4172 2008  186  175 4173 1020 2008  170 4174  320\n",
            "   61   27  290   51  240  167  773 2134  170   36  162   22   36   61\n",
            "  228 1998  197  773   14  229 2135  229   36   22   35 1808   18 1097\n",
            "   37  475  730  170  370  287  172   33  819   17   30  453  107  827\n",
            "  861  414 1138 4175 1677 1243  577   37   95   36 1319  548  454 1319\n",
            "  184  542   27  185  164  155]\n",
            "[20]\n",
            "[  44    7 1071    1   62   30    1  358   26    7    3    7    3  358\n",
            "  674    6    0    0    0    0    0    0    0    0    0    0    0    0\n",
            "    0    0    0    0    0    0    0    0    0    0    0    0    0    0\n",
            "    0    0    0    0    0    0    0    0    0    0    0    0    0    0\n",
            "    0    0    0    0    0    0    0    0    0    0    0    0    0    0\n",
            "    0    0    0    0    0    0    0    0    0    0    0    0    0    0\n",
            "    0    0    0    0    0    0    0    0    0    0    0    0    0    0\n",
            "    0    0    0    0    0    0    0    0    0    0    0    0    0    0\n",
            "    0    0    0    0    0    0    0    0    0    0    0    0    0    0\n",
            "    0    0    0    0    0    0    0    0    0    0    0    0    0    0\n",
            "    0    0    0    0    0    0    0    0    0    0    0    0    0    0\n",
            "    0    0    0    0    0    0    0    0    0    0    0    0    0    0\n",
            "    0    0    0    0    0    0    0    0    0    0    0    0    0    0\n",
            "    0    0    0    0    0    0    0    0    0    0    0    0    0    0\n",
            "    0    0    0    0    0    0    0    0    0    0    0    0    0    0\n",
            "    0    0    0    0    0    0    0    0    0    0    0    0    0    0\n",
            "    0    0    0    0    0    0    0    0    0    0    0    0    0    0\n",
            "    0    0    0    0    0    0    0    0    0    0    0    0    0    0\n",
            "    0    0    0    0    0    0    0    0    0    0    0    0    0    0\n",
            "    0    0    0    0    0    0    0    0    0    0    0    0    0    0\n",
            "    0    0    0    0    0    0    0    0    0    0    0    0    0    0\n",
            "    0    0    0    0    0    0]\n",
            "[5]\n"
          ]
        }
      ]
    },
    {
      "cell_type": "code",
      "metadata": {
        "id": "HjkpyftMp_gj",
        "colab": {
          "base_uri": "https://localhost:8080/"
        },
        "outputId": "02cba50a-7fc1-4636-efa9-50fd6a8e68fa"
      },
      "source": [
        "# Train the neural network\n",
        "num_epochs = 12\n",
        "\n",
        "history = model.fit(train_feature_padded, train_label_sequences, epochs=num_epochs, validation_data=(test_feature_padded, test_label_sequences), verbose=2)"
      ],
      "execution_count": null,
      "outputs": [
        {
          "output_type": "stream",
          "name": "stdout",
          "text": [
            "Epoch 1/12\n",
            "WARNING:tensorflow:Model was constructed with shape (None, 1) for input KerasTensor(type_spec=TensorSpec(shape=(None, 1), dtype=tf.float32, name='embedding_1_input'), name='embedding_1_input', description=\"created by layer 'embedding_1_input'\"), but it was called on an input with incompatible shape (None, 300).\n",
            "WARNING:tensorflow:Model was constructed with shape (None, 1) for input KerasTensor(type_spec=TensorSpec(shape=(None, 1), dtype=tf.float32, name='embedding_1_input'), name='embedding_1_input', description=\"created by layer 'embedding_1_input'\"), but it was called on an input with incompatible shape (None, 300).\n",
            "WARNING:tensorflow:Model was constructed with shape (None, 1) for input KerasTensor(type_spec=TensorSpec(shape=(None, 1), dtype=tf.float32, name='embedding_1_input'), name='embedding_1_input', description=\"created by layer 'embedding_1_input'\"), but it was called on an input with incompatible shape (None, 300).\n",
            "23/23 - 3s - loss: 3.2073 - accuracy: 0.0715 - val_loss: 3.1901 - val_accuracy: 0.0950 - 3s/epoch - 116ms/step\n",
            "Epoch 2/12\n",
            "23/23 - 0s - loss: 3.1610 - accuracy: 0.0940 - val_loss: 3.1452 - val_accuracy: 0.0950 - 494ms/epoch - 21ms/step\n",
            "Epoch 3/12\n",
            "23/23 - 0s - loss: 3.0953 - accuracy: 0.0940 - val_loss: 3.0778 - val_accuracy: 0.0950 - 491ms/epoch - 21ms/step\n",
            "Epoch 4/12\n",
            "23/23 - 0s - loss: 3.0034 - accuracy: 0.0940 - val_loss: 2.9843 - val_accuracy: 0.0950 - 392ms/epoch - 17ms/step\n",
            "Epoch 5/12\n",
            "23/23 - 0s - loss: 2.8736 - accuracy: 0.1206 - val_loss: 2.8349 - val_accuracy: 0.1229 - 379ms/epoch - 16ms/step\n",
            "Epoch 6/12\n",
            "23/23 - 0s - loss: 2.6795 - accuracy: 0.1950 - val_loss: 2.6052 - val_accuracy: 0.2905 - 480ms/epoch - 21ms/step\n",
            "Epoch 7/12\n",
            "23/23 - 0s - loss: 2.3937 - accuracy: 0.4278 - val_loss: 2.2868 - val_accuracy: 0.5531 - 476ms/epoch - 21ms/step\n",
            "Epoch 8/12\n",
            "23/23 - 0s - loss: 2.0087 - accuracy: 0.6452 - val_loss: 1.8800 - val_accuracy: 0.7318 - 389ms/epoch - 17ms/step\n",
            "Epoch 9/12\n",
            "23/23 - 0s - loss: 1.5738 - accuracy: 0.8065 - val_loss: 1.4409 - val_accuracy: 0.8659 - 440ms/epoch - 19ms/step\n",
            "Epoch 10/12\n",
            "23/23 - 0s - loss: 1.1438 - accuracy: 0.9116 - val_loss: 1.0264 - val_accuracy: 0.9385 - 419ms/epoch - 18ms/step\n",
            "Epoch 11/12\n",
            "23/23 - 0s - loss: 0.7761 - accuracy: 0.9776 - val_loss: 0.6984 - val_accuracy: 0.9609 - 481ms/epoch - 21ms/step\n",
            "Epoch 12/12\n",
            "23/23 - 1s - loss: 0.5056 - accuracy: 0.9930 - val_loss: 0.4610 - val_accuracy: 0.9665 - 534ms/epoch - 23ms/step\n"
          ]
        }
      ]
    },
    {
      "cell_type": "code",
      "metadata": {
        "id": "YfTvLMAKqpWV",
        "colab": {
          "base_uri": "https://localhost:8080/"
        },
        "outputId": "6614a1be-775d-4ae8-ee3c-e04ee414ae4b"
      },
      "source": [
        "# print example feature and its correct label\n",
        "print(test_features[5])\n",
        "print(test_labels[5])"
      ],
      "execution_count": null,
      "outputs": [
        {
          "output_type": "stream",
          "name": "stdout",
          "text": [
            "areas interest deep learning control system design programming python electric machinery web development analytics technical activities q hindustan aeronautics limited bangalore 4 weeks guidance mr satish senior engineer hangar mirage 2000 fighter aircraft technical skills programming matlab python java labview python webframework django flask ltspice intermediate languages mipower intermediate github gitbash jupyter notebook xampp mysql basics python software packages interpreters anaconda python2 python3 pycharm java ide eclipse operating systems windows ubuntu debian kali linux education details january 2019 b tech electrical electronics engineering manipal institute technology january 2015 deeksha center january 2013 little flower public school august 2000 manipal academy higher data science data science electrical enthusiast skill details data analysis exprience less 1 year months excel exprience less 1 year months machine learning exprience less 1 year months mathematics exprience less 1 year months python exprience less 1 year months matlab exprience less 1 year months electrical engineering exprience less 1 year months sql exprience less 1 year monthscompany details company themathcompany description currently working casino based operator name disclosed macau need segment customers visit property based value patrons bring company basically prove segmentation done much better way current system proper numbers back henceforth implement target marketing strategy attract customers add value business\n",
            "datascience\n"
          ]
        }
      ]
    },
    {
      "cell_type": "code",
      "metadata": {
        "id": "DAqRBYLsqsS3",
        "colab": {
          "base_uri": "https://localhost:8080/"
        },
        "outputId": "2b867bc8-07f4-40c6-c0a9-3f45715d0ff4"
      },
      "source": [
        "# Create padded sequence for example\n",
        "resume_example = 'skills bitcoin ethereum solidity hyperledger beginner go beginner r3 corda beginner tendermint nodejs c programming java machine learning specilaized brain computer interface computer networking server admin computer vision data analytics cloud computing reactjs angulareducation details january 2014 january 2018 bachelor engineering computer science engineering thakur college engineering technology september 2016 march 2017 dynamic blood bank system mumbai maharashtra iit january 2014 cbse senior secondary january 2011 cbse banking vidyashram public school blockchain developer blockchain developer zhypility technologies skill details networking exprience 27 months data analytics exprience 11 months computer vision exprience 6 months java exprience 6 months machine learning exprience 6 monthscompany details company zhypility technologies description une 2018 company area business owner amway enterprise limited description business strategizing promotion analytics networking terms company virtual description developing prototype smart india hackthon deployment level 3 networking switch intern bharti airtel private limited mumbai company 1 international research scholar university rome tor vergata rome description nov 2017 nov 2017 done research reality based brain computer interface proposed paper international journal advanced research ijar 20656 epted paper reviewer smart kisan revolutionizing country ijsrd epted publication company description reliance jio mumbai dec 2017 jan 2017 company maharastra state government hackthon description company virtual description handling group interns marketing sales team nearby promote social media platform nearby products company promotion stock marketing drums foods international description company 8 data science web analytics positron internet virtual description company description making people aware women equality rights raise voice violence various modes events sources media help society company iit bombay iit kgp startup description company iit bombay iit kgp startup description'\n",
        "example_sequence = feature_tokenizer.texts_to_sequences([resume_example])\n",
        "example_padded = pad_sequences(example_sequence, maxlen=max_length, padding=pad_type, truncating=trunc_type)\n",
        "example_padded = np.array(example_padded)\n",
        "print(example_padded)"
      ],
      "execution_count": null,
      "outputs": [
        {
          "output_type": "stream",
          "name": "stdout",
          "text": [
            "[[  34 1350  482 1351 2028 2090  781 2090 2091 4663 2090 4664 2890   35\n",
            "   214   25  165  158 4665 2189   86  515   86  513   45  526   86 1226\n",
            "     8  271  260 1626 4666 4667    7   31  220   31  258  245   30   86\n",
            "   101   30 3086   62   30   67 1223  137  963  132 1159 4668  180   14\n",
            "    78   15 1119   31  220 2056  227  455   31  433 2056  328 4669  688\n",
            "   139  259   23  259   23 2891   52   26    7  513    2  966    5    8\n",
            "   271    2  706    5   86 1226    2   13    5   25    2   13    5  165\n",
            "   158    2   13   56    7    3 2891   52    6 4670  258    3  502   18\n",
            "  3307 4671  416  206    6   18 2811 1574  271  513 1061    3 1292    6\n",
            "   113 1427  531   48 2892  255  155   80  513 1863 3283 4672 2967  374\n",
            "   206   78    3    9  203  400 4673   53 2893 4674 4675 2893    6  788\n",
            "   132  788  132  430  400 3872   71 2189   86  515 2064  814  203 4676\n",
            "  1142  400 4677 4678 1923  814 4679  531 2367 4680 2368 4681 1923 2190\n",
            "     3    6 1662 2894   78 1398  132  687  132    3 4682  215  722 2892\n",
            "     6    3 1292    6   96  314 4683  238   38   11 2895 2356 1134  571\n",
            "   173 2895  199    3 1574  483  238 4684 2111  203    6    3  275    8\n",
            "   101   59  271 4685  958 1292    6    3    6  630  385 3472 2743 4686\n",
            "  1288 3473 3095 4687   50 1379  491  697  571  440 2178    3 1119 1192\n",
            "  1119 2896 1267    6    3 1119 1192 1119 2896 1267    6    0    0    0\n",
            "     0    0    0    0    0    0    0    0    0    0    0    0    0    0\n",
            "     0    0    0    0    0    0    0    0    0    0    0    0    0    0\n",
            "     0    0    0    0    0    0]]\n"
          ]
        }
      ]
    },
    {
      "cell_type": "code",
      "metadata": {
        "id": "hIKf8crUq8wx",
        "colab": {
          "base_uri": "https://localhost:8080/"
        },
        "outputId": "a829db4b-2007-48b6-b117-8323cf676e01"
      },
      "source": [
        "# Make a prediction\n",
        "prediction = model.predict(example_padded)"
      ],
      "execution_count": null,
      "outputs": [
        {
          "output_type": "stream",
          "name": "stdout",
          "text": [
            "WARNING:tensorflow:Model was constructed with shape (None, 1) for input KerasTensor(type_spec=TensorSpec(shape=(None, 1), dtype=tf.float32, name='embedding_1_input'), name='embedding_1_input', description=\"created by layer 'embedding_1_input'\"), but it was called on an input with incompatible shape (None, 300).\n"
          ]
        }
      ]
    },
    {
      "cell_type": "code",
      "metadata": {
        "id": "OWYVziHMrCav",
        "colab": {
          "base_uri": "https://localhost:8080/"
        },
        "outputId": "3b734ede-66be-4fcf-8b64-3297e35d8a68"
      },
      "source": [
        "# Verify that prediction has correct format\n",
        "print(prediction[0])\n",
        "print(len(prediction[0]))  # should be 25\n",
        "print(np.sum(prediction[0]))  # should be 1"
      ],
      "execution_count": null,
      "outputs": [
        {
          "output_type": "stream",
          "name": "stdout",
          "text": [
            "[6.4004e-06 2.2038e-03 9.9130e-04 7.7813e-04 5.2619e-03 4.9861e-05\n",
            " 1.0971e-02 2.2322e-03 2.1937e-02 8.0801e-01 2.1221e-03 7.1103e-03\n",
            " 2.6010e-03 7.0260e-04 4.0792e-02 7.4012e-03 6.1213e-03 8.8432e-03\n",
            " 1.5772e-03 5.4878e-02 3.0475e-03 4.7919e-03 1.3837e-03 3.1278e-03\n",
            " 3.0566e-03]\n",
            "25\n",
            "1.0\n"
          ]
        }
      ]
    },
    {
      "cell_type": "code",
      "metadata": {
        "id": "7yf4KnNjrGcV",
        "colab": {
          "base_uri": "https://localhost:8080/"
        },
        "outputId": "205793b9-5831-4370-8aeb-ea6358286bf7"
      },
      "source": [
        "# Find maximum value in prediction and its index\n",
        "print(max(prediction[0]))  # confidence in prediction (as a fraction of 1)\n",
        "print(np.argmax(prediction[0])) # should be 11 which corresponds to blockchain"
      ],
      "execution_count": null,
      "outputs": [
        {
          "output_type": "stream",
          "name": "stdout",
          "text": [
            "0.80801326\n",
            "9\n"
          ]
        }
      ]
    },
    {
      "cell_type": "code",
      "metadata": {
        "id": "Y-DNi39XxqCN",
        "colab": {
          "base_uri": "https://localhost:8080/"
        },
        "outputId": "24e4235a-03e4-45e5-fec5-8f26e7179fc0"
      },
      "source": [
        "# Indices of top 5 most probable solutions\n",
        "indices = np.argpartition(prediction[0], -5)[-5:]\n",
        "indices = indices[np.argsort(prediction[0][indices])]\n",
        "indices = list(reversed(indices))\n",
        "print(indices)"
      ],
      "execution_count": null,
      "outputs": [
        {
          "output_type": "stream",
          "name": "stdout",
          "text": [
            "[9, 19, 14, 8, 6]\n"
          ]
        }
      ]
    },
    {
      "cell_type": "code",
      "metadata": {
        "id": "pRxAe_QkrW_2",
        "colab": {
          "base_uri": "https://localhost:8080/"
        },
        "outputId": "2f1d263d-f6fe-4fe0-cc09-5917d9a58d9a"
      },
      "source": [
        "# Save model\n",
        "model.save('LSTM_model')"
      ],
      "execution_count": null,
      "outputs": [
        {
          "output_type": "stream",
          "name": "stdout",
          "text": [
            "INFO:tensorflow:Assets written to: LSTM_model/assets\n"
          ]
        }
      ]
    },
    {
      "cell_type": "code",
      "metadata": {
        "id": "Xo584Smdr4ps"
      },
      "source": [
        "# Save feature tokenizer\n",
        "with open('feature_tokenizer.pickle', 'wb') as handle:\n",
        "    pickle.dump(feature_tokenizer, handle, protocol=pickle.HIGHEST_PROTOCOL)\n",
        "\n",
        "\n",
        "with open('dictionary.pickle', 'wb') as handle:\n",
        "    pickle.dump(encoding_to_label, handle, protocol=pickle.HIGHEST_PROTOCOL)"
      ],
      "execution_count": null,
      "outputs": []
    },
    {
      "cell_type": "code",
      "metadata": {
        "id": "Ul39OZ10sJCC",
        "colab": {
          "base_uri": "https://localhost:8080/"
        },
        "outputId": "56000efb-481a-4963-ed56-9fbc867d687b"
      },
      "source": [
        "# Save reverse dictionary of labels to encodings\n",
        "label_to_encoding = dict(list(label_index.items()))\n",
        "print(label_to_encoding)\n",
        "\n",
        "encoding_to_label = {}\n",
        "for k, v in label_to_encoding.items():\n",
        "  encoding_to_label[v] = k\n",
        "print(encoding_to_label)\n"
      ],
      "execution_count": null,
      "outputs": [
        {
          "output_type": "stream",
          "name": "stdout",
          "text": [
            "{'javadeveloper': 1, 'devopsengineer': 2, 'pythondeveloper': 3, 'webdesigning': 4, 'hr': 5, 'hadoop': 6, 'datascience': 7, 'mechanicalengineer': 8, 'blockchain': 9, 'etldeveloper': 10, 'sales': 11, 'operationsmanager': 12, 'arts': 13, 'database': 14, 'pmo': 15, 'electricalengineering': 16, 'healthandfitness': 17, 'businessanalyst': 18, 'dotnetdeveloper': 19, 'automationtesting': 20, 'networksecurityengineer': 21, 'civilengineer': 22, 'sapdeveloper': 23, 'advocate': 24}\n",
            "{1: 'javadeveloper', 2: 'devopsengineer', 3: 'pythondeveloper', 4: 'webdesigning', 5: 'hr', 6: 'hadoop', 7: 'datascience', 8: 'mechanicalengineer', 9: 'blockchain', 10: 'etldeveloper', 11: 'sales', 12: 'operationsmanager', 13: 'arts', 14: 'database', 15: 'pmo', 16: 'electricalengineering', 17: 'healthandfitness', 18: 'businessanalyst', 19: 'dotnetdeveloper', 20: 'automationtesting', 21: 'networksecurityengineer', 22: 'civilengineer', 23: 'sapdeveloper', 24: 'advocate'}\n"
          ]
        }
      ]
    },
    {
      "cell_type": "code",
      "metadata": {
        "id": "7rFzn7JcuOVz",
        "colab": {
          "base_uri": "https://localhost:8080/"
        },
        "outputId": "d7a46d72-f7bc-42d7-c056-76cfbcbbac0b"
      },
      "source": [
        "print(encoding_to_label[np.argmax(prediction[0])])"
      ],
      "execution_count": null,
      "outputs": [
        {
          "output_type": "stream",
          "name": "stdout",
          "text": [
            "blockchain\n"
          ]
        }
      ]
    },
    {
      "cell_type": "code",
      "source": [
        "!pip install PyMuPDF"
      ],
      "metadata": {
        "colab": {
          "base_uri": "https://localhost:8080/"
        },
        "id": "9lOf3AfbnhF5",
        "outputId": "aecb9952-0b31-4bc7-acd6-f4ca99e77a92"
      },
      "execution_count": null,
      "outputs": [
        {
          "output_type": "stream",
          "name": "stdout",
          "text": [
            "Collecting PyMuPDF\n",
            "  Downloading PyMuPDF-1.19.6-cp37-cp37m-manylinux_2_17_x86_64.manylinux2014_x86_64.whl (8.8 MB)\n",
            "\u001b[K     |████████████████████████████████| 8.8 MB 5.0 MB/s \n",
            "\u001b[?25hInstalling collected packages: PyMuPDF\n",
            "Successfully installed PyMuPDF-1.19.6\n"
          ]
        }
      ]
    },
    {
      "cell_type": "code",
      "source": [
        "# with open(\"\",'r',encoding='utf-8',errors='ignore') as f1:\n",
        "#   sentence2=f1.read()\n",
        "\n",
        "# with open('/content/Faisal Shahzad - CV for Lab Instructor.txt','r',encoding='utf-8',errors='ignore') as f:\n",
        "#         data=f.readlines()\n",
        "#         data=_to_string(data)\n",
        "#         data=_base_clean(data)\n",
        "#         data=_to_string(data)\n",
        "#         print(data)\n",
        "\n",
        "\n",
        "import fitz\n",
        "text=\"\"\n",
        "path='''/content/Zain Shakir Resume.pdf'''\n",
        "file=path.split('/')\n",
        "print(file)\n",
        "for page in fitz.open('/content/'+file[2]):\n",
        "  text = text + str(page.getText())\n",
        "  text = \" \".join(text.split('\\n'))"
      ],
      "metadata": {
        "id": "E_jLfQSGzwxj",
        "colab": {
          "base_uri": "https://localhost:8080/",
          "height": 384
        },
        "outputId": "6ffe2e01-5777-49d5-8953-c01e6874bb3e"
      },
      "execution_count": null,
      "outputs": [
        {
          "output_type": "stream",
          "name": "stdout",
          "text": [
            "['', 'content', 'Zain Shakir Resume.pdf']\n"
          ]
        },
        {
          "output_type": "error",
          "ename": "FileNotFoundError",
          "evalue": "ignored",
          "traceback": [
            "\u001b[0;31m---------------------------------------------------------------------------\u001b[0m",
            "\u001b[0;31mFileNotFoundError\u001b[0m                         Traceback (most recent call last)",
            "\u001b[0;32m<ipython-input-33-c1e57e273a50>\u001b[0m in \u001b[0;36m<module>\u001b[0;34m()\u001b[0m\n\u001b[1;32m     15\u001b[0m \u001b[0mfile\u001b[0m\u001b[0;34m=\u001b[0m\u001b[0mpath\u001b[0m\u001b[0;34m.\u001b[0m\u001b[0msplit\u001b[0m\u001b[0;34m(\u001b[0m\u001b[0;34m'/'\u001b[0m\u001b[0;34m)\u001b[0m\u001b[0;34m\u001b[0m\u001b[0;34m\u001b[0m\u001b[0m\n\u001b[1;32m     16\u001b[0m \u001b[0mprint\u001b[0m\u001b[0;34m(\u001b[0m\u001b[0mfile\u001b[0m\u001b[0;34m)\u001b[0m\u001b[0;34m\u001b[0m\u001b[0;34m\u001b[0m\u001b[0m\n\u001b[0;32m---> 17\u001b[0;31m \u001b[0;32mfor\u001b[0m \u001b[0mpage\u001b[0m \u001b[0;32min\u001b[0m \u001b[0mfitz\u001b[0m\u001b[0;34m.\u001b[0m\u001b[0mopen\u001b[0m\u001b[0;34m(\u001b[0m\u001b[0;34m'/content/'\u001b[0m\u001b[0;34m+\u001b[0m\u001b[0mfile\u001b[0m\u001b[0;34m[\u001b[0m\u001b[0;36m2\u001b[0m\u001b[0;34m]\u001b[0m\u001b[0;34m)\u001b[0m\u001b[0;34m:\u001b[0m\u001b[0;34m\u001b[0m\u001b[0;34m\u001b[0m\u001b[0m\n\u001b[0m\u001b[1;32m     18\u001b[0m   \u001b[0mtext\u001b[0m \u001b[0;34m=\u001b[0m \u001b[0mtext\u001b[0m \u001b[0;34m+\u001b[0m \u001b[0mstr\u001b[0m\u001b[0;34m(\u001b[0m\u001b[0mpage\u001b[0m\u001b[0;34m.\u001b[0m\u001b[0mgetText\u001b[0m\u001b[0;34m(\u001b[0m\u001b[0;34m)\u001b[0m\u001b[0;34m)\u001b[0m\u001b[0;34m\u001b[0m\u001b[0;34m\u001b[0m\u001b[0m\n\u001b[1;32m     19\u001b[0m   \u001b[0mtext\u001b[0m \u001b[0;34m=\u001b[0m \u001b[0;34m\" \"\u001b[0m\u001b[0;34m.\u001b[0m\u001b[0mjoin\u001b[0m\u001b[0;34m(\u001b[0m\u001b[0mtext\u001b[0m\u001b[0;34m.\u001b[0m\u001b[0msplit\u001b[0m\u001b[0;34m(\u001b[0m\u001b[0;34m'\\n'\u001b[0m\u001b[0;34m)\u001b[0m\u001b[0;34m)\u001b[0m\u001b[0;34m\u001b[0m\u001b[0;34m\u001b[0m\u001b[0m\n",
            "\u001b[0;32m/usr/local/lib/python3.7/dist-packages/fitz/fitz.py\u001b[0m in \u001b[0;36m__init__\u001b[0;34m(self, filename, stream, filetype, rect, width, height, fontsize)\u001b[0m\n\u001b[1;32m   3988\u001b[0m             \u001b[0;32mif\u001b[0m \u001b[0;32mnot\u001b[0m \u001b[0mos\u001b[0m\u001b[0;34m.\u001b[0m\u001b[0mpath\u001b[0m\u001b[0;34m.\u001b[0m\u001b[0mexists\u001b[0m\u001b[0;34m(\u001b[0m\u001b[0mfilename\u001b[0m\u001b[0;34m)\u001b[0m\u001b[0;34m:\u001b[0m\u001b[0;34m\u001b[0m\u001b[0;34m\u001b[0m\u001b[0m\n\u001b[1;32m   3989\u001b[0m                 \u001b[0mmsg\u001b[0m \u001b[0;34m=\u001b[0m \u001b[0;34mf\"no such file: '{filename}'\"\u001b[0m\u001b[0;34m\u001b[0m\u001b[0;34m\u001b[0m\u001b[0m\n\u001b[0;32m-> 3990\u001b[0;31m                 \u001b[0;32mraise\u001b[0m \u001b[0mFileNotFoundError\u001b[0m\u001b[0;34m(\u001b[0m\u001b[0mmsg\u001b[0m\u001b[0;34m)\u001b[0m\u001b[0;34m\u001b[0m\u001b[0;34m\u001b[0m\u001b[0m\n\u001b[0m\u001b[1;32m   3991\u001b[0m             \u001b[0;32melif\u001b[0m \u001b[0;32mnot\u001b[0m \u001b[0mos\u001b[0m\u001b[0;34m.\u001b[0m\u001b[0mpath\u001b[0m\u001b[0;34m.\u001b[0m\u001b[0misfile\u001b[0m\u001b[0;34m(\u001b[0m\u001b[0mfilename\u001b[0m\u001b[0;34m)\u001b[0m\u001b[0;34m:\u001b[0m\u001b[0;34m\u001b[0m\u001b[0;34m\u001b[0m\u001b[0m\n\u001b[1;32m   3992\u001b[0m                 \u001b[0mmsg\u001b[0m \u001b[0;34m=\u001b[0m \u001b[0;34mf\"'{filename}' is no file\"\u001b[0m\u001b[0;34m\u001b[0m\u001b[0;34m\u001b[0m\u001b[0m\n",
            "\u001b[0;31mFileNotFoundError\u001b[0m: no such file: '/content/Zain Shakir Resume.pdf'"
          ]
        }
      ]
    },
    {
      "cell_type": "code",
      "source": [
        "# def clean_text(resume_text):\n",
        "#     resume_text = re.sub('http\\S+\\s*', ' ', resume_text)  # remove URLs\n",
        "#     resume_text = re.sub('RT|cc', ' ', resume_text)  # remove RT and cc\n",
        "#     resume_text = re.sub('#\\S+', '', resume_text)  # remove hashtags\n",
        "#     resume_text = re.sub('@\\S+', '  ', resume_text)  # remove mentions\n",
        "#     resume_text = re.sub('[%s]' % re.escape(\"\"\"!\"#$%&'()*+,-./:;<=>?@[\\]^_`{|}~\"\"\"), ' ', resume_text)  # remove punctuations\n",
        "#     resume_text = re.sub(r'[^\\x00-\\x7f]',r' ', resume_text) \n",
        "#     resume_text = re.sub('\\s+', ' ', resume_text)  # remove extra whitespace\n",
        "#     resume_text = resume_text.lower()  # convert to lowercase\n",
        "#     resume_text_tokens = word_tokenize(resume_text)  # tokenize\n",
        "#     filtered_text = [w for w in resume_text_tokens if not w in stopwords_set]  # remove stopwords\n",
        "#     return ' '.join(filtered_text)\n",
        "\n",
        "\n",
        "# resume_clean=clean_text(sentence2)\n",
        "print(text)"
      ],
      "metadata": {
        "colab": {
          "base_uri": "https://localhost:8080/"
        },
        "id": "voMbgXkA0es7",
        "outputId": "ab0b65ee-1fb7-4d0d-ae5c-b08b521925d7"
      },
      "execution_count": null,
      "outputs": [
        {
          "output_type": "stream",
          "name": "stdout",
          "text": [
            "ZAIN SHAKIR  shakir.zain@yahoo.com | 03102149618 | https://github.com/ZainShakir    Talented, ambitious and hardworking Student, with broad skills and experience in Programming. I am looking for an  internship to be associated with an organization that will allow me to put my skills and credentials in the area to add  value to the organization while also providing me with prospects for advancement.    Education                                         FAST NUCES                                           2019-Expected 2023  Bachelor of Computer Science  • CGPA: 3.46/4.0  • Courses: OOP, Data structures, Database systems, Operating systems, Software design and analysis,SE    Govt. Delhi College                                          2017-2019  Pre-Engineering  • Grade: A    Skills                                             Languages: Python,C/C++/C#, Dart, Javascript, , PHP  Markup Language/FrameWorks:HTML,CSS,FLASK  Technologies: Flutter,Jira,Figma,.NET  DataBase:Firebase, MongoDB,MySQL    Professional Experience                               Coordinator - Gaming                                        Procom FAST                                   Spring 2022  • Managed and supervised a gaming tournament for more than 30 people  • Executed the tournament without a hitch and was praised by the Co-Head    Projects                                   Resume Matching Job Description                        Spring 2020  •Made a Web Application Using HTML,CSS,JavaScript and Flask    •It helped the HR of the company to easily Hire Applicants whose resume matched the job description(JD).  •The system used BERT deep learning model to find similarities between resume and JD.      Medicine Donation App                                           Fall 2022  • Designed the UI in Figma and Properly managed the project in JIRA  • Built the app using Flutter, with Firebase for database and authentication  • Managed records of medicine which helped under-privileged houses to receive their dosage    Human Sentiment Analyzer                            Spring 2021       • Extracted data using a C++ application and forwarded to a Python script to predict emotions  • Achieved 70% accuracy with live testers during presentation    Boolean Retrieval Model                              Spring 2022  • Used NLTK for stemming/tokenization and built frontend using Tkinter.  • The app retrieved documents corresponding to user generated queries.    Waste Management System (OOP)                         Fall 2019  • Applied OOP Concepts in C++ and completed the project in 2 weeks  • The software allows the organization to strategize the ways to dispose, reuse and reduce waste      Professional Certificates                               Data Manipulation with pandas                                  Feb 2021  Datacamp   Intermediate Python                                Feb 2021  Datacamp   Web Development Bootcamp with MERN Strack                   May 2022-Ongoing  Udemy        \n"
          ]
        }
      ]
    },
    {
      "cell_type": "code",
      "source": [
        "# resume_clean=clean_text(sentence2)\n",
        "resume_clean=text\n",
        "print(resume_clean)"
      ],
      "metadata": {
        "colab": {
          "base_uri": "https://localhost:8080/"
        },
        "id": "EvMU3soDmQy6",
        "outputId": "e47c4d0e-9bc5-48f0-d00d-bce4b5f3c7c9"
      },
      "execution_count": null,
      "outputs": [
        {
          "output_type": "stream",
          "name": "stdout",
          "text": [
            "ZAIN SHAKIR  shakir.zain@yahoo.com | 03102149618 | https://github.com/ZainShakir    Talented, ambitious and hardworking Student, with broad skills and experience in Programming. I am looking for an  internship to be associated with an organization that will allow me to put my skills and credentials in the area to add  value to the organization while also providing me with prospects for advancement.    Education                                         FAST NUCES                                           2019-Expected 2023  Bachelor of Computer Science  • CGPA: 3.46/4.0  • Courses: OOP, Data structures, Database systems, Operating systems, Software design and analysis,SE    Govt. Delhi College                                          2017-2019  Pre-Engineering  • Grade: A    Skills                                             Languages: Python,C/C++/C#, Dart, Javascript, , PHP  Markup Language/FrameWorks:HTML,CSS,FLASK  Technologies: Flutter,Jira,Figma,.NET  DataBase:Firebase, MongoDB,MySQL    Professional Experience                               Coordinator - Gaming                                        Procom FAST                                   Spring 2022  • Managed and supervised a gaming tournament for more than 30 people  • Executed the tournament without a hitch and was praised by the Co-Head    Projects                                   Resume Matching Job Description                        Spring 2020  •Made a Web Application Using HTML,CSS,JavaScript and Flask    •It helped the HR of the company to easily Hire Applicants whose resume matched the job description(JD).  •The system used BERT deep learning model to find similarities between resume and JD.      Medicine Donation App                                           Fall 2022  • Designed the UI in Figma and Properly managed the project in JIRA  • Built the app using Flutter, with Firebase for database and authentication  • Managed records of medicine which helped under-privileged houses to receive their dosage    Human Sentiment Analyzer                            Spring 2021       • Extracted data using a C++ application and forwarded to a Python script to predict emotions  • Achieved 70% accuracy with live testers during presentation    Boolean Retrieval Model                              Spring 2022  • Used NLTK for stemming/tokenization and built frontend using Tkinter.  • The app retrieved documents corresponding to user generated queries.    Waste Management System (OOP)                         Fall 2019  • Applied OOP Concepts in C++ and completed the project in 2 weeks  • The software allows the organization to strategize the ways to dispose, reuse and reduce waste      Professional Certificates                               Data Manipulation with pandas                                  Feb 2021  Datacamp   Intermediate Python                                Feb 2021  Datacamp   Web Development Bootcamp with MERN Strack                   May 2022-Ongoing  Udemy        \n"
          ]
        }
      ]
    },
    {
      "cell_type": "code",
      "source": [
        "max_length = 500\n",
        "trunc_type = 'post'\n",
        "padding_type = 'post'\n",
        "\n",
        "\n",
        "predict_sequences = feature_tokenizer.texts_to_sequences([resume_clean])\n",
        "predict_padded = pad_sequences(predict_sequences, maxlen=max_length, padding=padding_type, truncating=trunc_type)\n",
        "predict_padded = np.array(predict_padded)"
      ],
      "metadata": {
        "id": "_-bI0F690uvf"
      },
      "execution_count": null,
      "outputs": []
    },
    {
      "cell_type": "code",
      "source": [
        "predict = model.predict(predict_padded)"
      ],
      "metadata": {
        "id": "_iR3REUo1JMn"
      },
      "execution_count": null,
      "outputs": []
    },
    {
      "cell_type": "code",
      "source": [
        "encodings = np.argpartition(predict[0], -5)[-5:]\n",
        "encodings = encodings[np.argsort(prediction[0][encodings])]\n",
        "encodings = reversed(encodings)"
      ],
      "metadata": {
        "id": "vMBrBC2e1PkU"
      },
      "execution_count": null,
      "outputs": []
    },
    {
      "cell_type": "code",
      "source": [
        "print(predict)\n",
        "\n",
        "encodings\n",
        "\n",
        "label_to_encoding = dict(list(label_index.items()))\n",
        "print(label_to_encoding)"
      ],
      "metadata": {
        "colab": {
          "base_uri": "https://localhost:8080/"
        },
        "id": "aAkRiygF1kgu",
        "outputId": "ec998fa7-2c2a-4245-c359-e6071efdde72"
      },
      "execution_count": null,
      "outputs": [
        {
          "output_type": "stream",
          "name": "stdout",
          "text": [
            "[[1.8043e-06 1.1155e-03 1.1145e-01 4.2960e-03 2.1860e-02 2.1085e-01\n",
            "  3.0768e-02 4.7062e-02 1.4627e-02 2.2620e-02 2.7077e-02 5.5894e-03\n",
            "  3.0601e-01 5.0050e-02 1.3337e-02 6.1541e-03 2.4309e-02 9.3136e-03\n",
            "  2.6340e-02 2.2801e-02 3.1877e-03 5.9044e-03 1.2794e-02 7.0296e-03\n",
            "  1.5457e-02]]\n",
            "{'javadeveloper': 1, 'devopsengineer': 2, 'pythondeveloper': 3, 'webdesigning': 4, 'hr': 5, 'hadoop': 6, 'sales': 7, 'mechanicalengineer': 8, 'operationsmanager': 9, 'blockchain': 10, 'etldeveloper': 11, 'datascience': 12, 'arts': 13, 'database': 14, 'electricalengineering': 15, 'pmo': 16, 'healthandfitness': 17, 'businessanalyst': 18, 'dotnetdeveloper': 19, 'automationtesting': 20, 'networksecurityengineer': 21, 'sapdeveloper': 22, 'civilengineer': 23, 'advocate': 24}\n"
          ]
        }
      ]
    },
    {
      "cell_type": "code",
      "source": [
        "print(encoding_to_label[np.argmax(predict)])"
      ],
      "metadata": {
        "colab": {
          "base_uri": "https://localhost:8080/"
        },
        "id": "15IEY4Ff4LTk",
        "outputId": "8e3a63e3-61ed-466e-85f7-cda6244ad441"
      },
      "execution_count": null,
      "outputs": [
        {
          "output_type": "stream",
          "name": "stdout",
          "text": [
            "0.3060102\n",
            "datascience\n"
          ]
        }
      ]
    },
    {
      "cell_type": "code",
      "source": [
        ""
      ],
      "metadata": {
        "id": "2mop0Bf-ZYLP"
      },
      "execution_count": null,
      "outputs": []
    },
    {
      "cell_type": "markdown",
      "source": [
        "This Part is for running the model in our Web Flask"
      ],
      "metadata": {
        "id": "9_dGOUZcZZMS"
      }
    },
    {
      "cell_type": "code",
      "source": [
        "from google.colab import drive\n",
        "drive.mount('/content/gdrive')"
      ],
      "metadata": {
        "colab": {
          "base_uri": "https://localhost:8080/"
        },
        "id": "6gk-rR03SftP",
        "outputId": "e546b16a-7d42-4165-b7b5-dee004df4f77"
      },
      "execution_count": null,
      "outputs": [
        {
          "output_type": "stream",
          "name": "stdout",
          "text": [
            "Mounted at /content/gdrive\n"
          ]
        }
      ]
    },
    {
      "cell_type": "code",
      "source": [
        "pip install PyMuPDF"
      ],
      "metadata": {
        "colab": {
          "base_uri": "https://localhost:8080/"
        },
        "id": "50aIHSubTPs5",
        "outputId": "028ddd7d-e24a-4818-d58f-3c17dabe3f0c"
      },
      "execution_count": null,
      "outputs": [
        {
          "output_type": "stream",
          "name": "stdout",
          "text": [
            "Collecting PyMuPDF\n",
            "  Downloading PyMuPDF-1.19.6-cp37-cp37m-manylinux_2_17_x86_64.manylinux2014_x86_64.whl (8.8 MB)\n",
            "\u001b[K     |████████████████████████████████| 8.8 MB 5.2 MB/s \n",
            "\u001b[?25hInstalling collected packages: PyMuPDF\n",
            "Successfully installed PyMuPDF-1.19.6\n"
          ]
        }
      ]
    },
    {
      "cell_type": "code",
      "source": [
        ""
      ],
      "metadata": {
        "colab": {
          "base_uri": "https://localhost:8080/"
        },
        "id": "cNXJhc-7XViD",
        "outputId": "dce0d6c4-4f2e-465a-fff5-53f7971b0f50"
      },
      "execution_count": null,
      "outputs": [
        {
          "output_type": "stream",
          "name": "stdout",
          "text": [
            "[nltk_data] Downloading package stopwords to /root/nltk_data...\n",
            "[nltk_data]   Unzipping corpora/stopwords.zip.\n",
            "[nltk_data] Downloading package punkt to /root/nltk_data...\n",
            "[nltk_data]   Unzipping tokenizers/punkt.zip.\n"
          ]
        },
        {
          "output_type": "execute_result",
          "data": {
            "text/plain": [
              "True"
            ]
          },
          "metadata": {},
          "execution_count": 5
        }
      ]
    },
    {
      "cell_type": "code",
      "source": [
        "import sys\n",
        "import numpy as np\n",
        "import tensorflow as tf\n",
        "from tensorflow import keras\n",
        "from tensorflow.keras.preprocessing.text import Tokenizer\n",
        "from tensorflow.keras.preprocessing.sequence import pad_sequences\n",
        "import nltk\n",
        "from nltk.corpus import stopwords\n",
        "nltk.download('stopwords')\n",
        "nltk.download('punkt')\n",
        "from nltk.tokenize import word_tokenize\n",
        "import string\n",
        "import re\n",
        "import json\n",
        "import pickle\n",
        "import os\n",
        "import sys,fitz"
      ],
      "metadata": {
        "id": "EliGDshRSjfN"
      },
      "execution_count": null,
      "outputs": []
    },
    {
      "cell_type": "code",
      "source": [
        "\n",
        "\n",
        "with open('/content/gdrive/MyDrive/LSTM MODEL/feature_tokenizer.pickle', 'rb') as handle:\n",
        "    feature_tokenizer = pickle.load(handle)         \n",
        "         \n",
        "with open('/content/gdrive/MyDrive/LSTM MODEL/dictionary.pickle', 'rb') as handle:\n",
        "    encoding_to_label = pickle.load(handle)\n",
        "\n",
        "with open(\"/content/gdrive/MyDrive/LSTM MODEL/labels.json\", \"r\") as read_file:\n",
        "            original_labels = json.load(read_file)"
      ],
      "metadata": {
        "id": "_sgL_CfkS1I9"
      },
      "execution_count": null,
      "outputs": []
    },
    {
      "cell_type": "code",
      "source": [
        "def clean_text(resume_text):\n",
        "    resume_text = re.sub('http\\S+\\s*', ' ', resume_text)  # remove URLs\n",
        "    resume_text = re.sub('RT|cc', ' ', resume_text)  # remove RT and cc\n",
        "    resume_text = re.sub('#\\S+', '', resume_text)  # remove hashtags\n",
        "    resume_text = re.sub('@\\S+', '  ', resume_text)  # remove mentions\n",
        "    resume_text = re.sub('[%s]' % re.escape(\"\"\"!\"#$%&'()*+,-./:;<=>?@[\\]^_`{|}~\"\"\"), ' ', resume_text)  # remove punctuations\n",
        "    resume_text = re.sub(r'[^\\x00-\\x7f]',r' ', resume_text) \n",
        "    resume_text = re.sub('\\s+', ' ', resume_text)  # remove extra whitespace\n",
        "    resume_text = resume_text.lower()  # convert to lowercase\n",
        "    resume_text_tokens = word_tokenize(resume_text)  # tokenize\n",
        "    filtered_text = [w for w in resume_text_tokens if not w in stopwords_set]  # remove stopwords\n",
        "    return ' '.join(filtered_text)"
      ],
      "metadata": {
        "id": "_LnRbGNBT6S5"
      },
      "execution_count": null,
      "outputs": []
    },
    {
      "cell_type": "code",
      "source": [
        "stopwords_set = set(stopwords.words('english')+['``',\"''\"])\n",
        "with open(\"/content/Zohaib Khan - CV for Research Assistant - Lab Instructor.txt\",'r',encoding='utf-8',errors='ignore') as f1:\n",
        "  sentence2=f1.read()\n",
        "\n",
        "text=clean_text(sentence2)"
      ],
      "metadata": {
        "id": "Zl-chzkZWxRA"
      },
      "execution_count": null,
      "outputs": []
    },
    {
      "cell_type": "code",
      "source": [
        "max_length = 500\n",
        "trunc_type = 'post'\n",
        "padding_type = 'post'"
      ],
      "metadata": {
        "id": "KMzK31eZX5B-"
      },
      "execution_count": null,
      "outputs": []
    },
    {
      "cell_type": "code",
      "source": [
        "predict_sequences = feature_tokenizer.texts_to_sequences([text])\n",
        "predict_padded = pad_sequences(predict_sequences, maxlen=max_length, padding=padding_type, truncating=trunc_type)\n",
        "predict_padded = np.array(predict_padded)"
      ],
      "metadata": {
        "id": "_3TepJp8XtWv"
      },
      "execution_count": null,
      "outputs": []
    },
    {
      "cell_type": "code",
      "source": [
        "model = keras.models.load_model('/content/gdrive/MyDrive/LSTM MODEL/LSTM_model')\n",
        "prediction = model.predict(predict_padded)"
      ],
      "metadata": {
        "colab": {
          "base_uri": "https://localhost:8080/"
        },
        "id": "34w1bDOaX_8_",
        "outputId": "9ec431d3-2534-4d9c-e9a6-5d37c8b64d2b"
      },
      "execution_count": null,
      "outputs": [
        {
          "output_type": "stream",
          "name": "stdout",
          "text": [
            "WARNING:tensorflow:Model was constructed with shape (None, 1) for input KerasTensor(type_spec=TensorSpec(shape=(None, 1), dtype=tf.float32, name='embedding_1_input'), name='embedding_1_input', description=\"created by layer 'embedding_1_input'\"), but it was called on an input with incompatible shape (None, 500).\n"
          ]
        }
      ]
    },
    {
      "cell_type": "code",
      "source": [
        "encodings = np.argpartition(prediction[0], -8)[-8:]\n",
        "encodings = encodings[np.argsort(prediction[0][encodings])]\n",
        "encodings = reversed(encodings)"
      ],
      "metadata": {
        "id": "pIOYj1VhYe5z"
      },
      "execution_count": null,
      "outputs": []
    },
    {
      "cell_type": "code",
      "source": [
        "data = {}"
      ],
      "metadata": {
        "id": "_KyOXk2hYlSo"
      },
      "execution_count": null,
      "outputs": []
    },
    {
      "cell_type": "code",
      "source": [
        "for encoding in encodings:\n",
        "    label = encoding_to_label[encoding]\n",
        "    probability = prediction[0][encoding] * 100\n",
        "    probability = round(probability, 2)\n",
        "    data[original_labels[label]]=probability"
      ],
      "metadata": {
        "id": "ki10EAEuYpHJ"
      },
      "execution_count": null,
      "outputs": []
    },
    {
      "cell_type": "code",
      "source": [
        "if '.NET Developer' in data.keys():\n",
        "    del(data['.NET Developer'])\n",
        "print(data)"
      ],
      "metadata": {
        "colab": {
          "base_uri": "https://localhost:8080/"
        },
        "id": "6XVASVGOYw0W",
        "outputId": "62932299-426f-4bfd-aac0-709d1927967e"
      },
      "execution_count": null,
      "outputs": [
        {
          "output_type": "stream",
          "name": "stdout",
          "text": [
            "{'Data Scientist': 24.13, 'Automation Tester': 20.36, 'Advocate': 11.46, 'Health and Fitness': 8.27, 'SAP Developer': 7.7, 'Mechanical Engineer': 7.18, 'Business Analyst': 5.35, 'Blockchain Developer': 3.0}\n"
          ]
        }
      ]
    },
    {
      "cell_type": "code",
      "source": [
        "titles=[[],[]]\n",
        "for key,values in data.items():\n",
        "  titles[0].append(key)\n",
        "  titles[1].append(values)\n",
        " \n",
        "new_data={}\n",
        "new_data[titles[0][0]]=titles[1][0]\n",
        "new_data[titles[0][1]]=titles[1][1]\n",
        "\n",
        "print(new_data)\n",
        "\n",
        "  "
      ],
      "metadata": {
        "colab": {
          "base_uri": "https://localhost:8080/"
        },
        "id": "XpHasw1Cxei2",
        "outputId": "475bb59b-5dcc-443a-9eb0-a22dd25148fb"
      },
      "execution_count": null,
      "outputs": [
        {
          "output_type": "stream",
          "name": "stdout",
          "text": [
            "{'Data Scientist': 24.13, 'Automation Tester': 20.36}\n"
          ]
        }
      ]
    }
  ]
}